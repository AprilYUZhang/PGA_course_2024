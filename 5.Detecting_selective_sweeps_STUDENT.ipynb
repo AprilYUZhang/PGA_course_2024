{
 "cells": [
  {
   "cell_type": "markdown",
   "id": "2d3cab18",
   "metadata": {},
   "source": [
    "# Practical 5. Detecting selective sweeps in population genomic data\n",
    "\n",
    "At the end of this practical you should:\n",
    "\n",
    "- Understand how positive selection acts to favor a beneficial mutation  \n",
    "- Understand the role of drift/randomness on allele frequency trajectories and fixation probability\n",
    "- Understand the effect of positive selection on linked neutral variation\n",
    "- Understand how sweepfinder works using simulation data\n",
    "- Be able to perform a Selective sweep scan on real data"
   ]
  },
  {
   "cell_type": "code",
   "execution_count": null,
   "id": "4a963fed",
   "metadata": {},
   "outputs": [],
   "source": [
    "import allel\n",
    "import msprime\n",
    "import tskit\n",
    "import math\n",
    "import numpy as np\n",
    "import pandas as pd\n",
    "import seaborn as sns\n",
    "from IPython.display import SVG, set_matplotlib_formats\n",
    "from matplotlib import pyplot as plt\n",
    "#jupyter magic\n",
    "%matplotlib inline\n",
    "import warnings\n",
    "warnings.filterwarnings('ignore')"
   ]
  },
  {
   "cell_type": "markdown",
   "id": "private-vegetarian",
   "metadata": {},
   "source": [
    "# 5.1 The direct effect of selection on a new mutation"
   ]
  },
  {
   "cell_type": "markdown",
   "id": "oriented-congress",
   "metadata": {},
   "source": [
    "We have so far considered the ancestry of samples backwards in time, and, in practical 2, have writen a simple coalescence time simulator in python. In this practical, we study the effect of positive selection on a focal *de novo* mutation. It is easiest to first think about the allele frequency trajectory of a new mutation forwards in time. \n",
    "\n",
    "Let's start by implementing a simple forwards in time simulation for the frequency trajectory of a new mutation under the neutral Wright Fisher (WF) model. We can then update this code to model positive selection acting on the new allele, and compare the dynamics of neutral and beneficial alleles."
   ]
  },
  {
   "cell_type": "markdown",
   "id": "eaca814a",
   "metadata": {},
   "source": [
    "### 5.1.1 Simulating drift fowards in time "
   ]
  },
  {
   "cell_type": "markdown",
   "id": "finnish-deviation",
   "metadata": {},
   "source": [
    "<div class=\"alert alert-block alert-info\">\n",
    "    <b>PopGen: Neutral Wright Fisher model</b> \n",
    "    \n",
    "You should already be familiar with the neutral WF model (see Peter's population genetics lectures and PGA lecture 5). Consider a haploid population of $N_e$ individuals reproducing according to the WF model. We want to simulate the frequency trajectory of a *de novo* neutral mutation that appears in an individual.\n",
    "\n",
    "In this model, each individual contributes on-average one offspring to the next generation. However, there is variance in offspring number: some individuals have 2, 3, or more children. And many will have no offspring at all.\n",
    "\n",
    "From a coalescent perspective, we can think of this as each individual giving birth at the same _rate_, $1$. The next generation is formed by randomly assigning a parent to each offspring with probability $p = 1/N_e$, i.e. the rate of birth of the focal individual $1$ relative to the total birth rate in the population $N_e$.\n",
    "\n",
    "Therefore, the frequency $k$ of the new mutation in the next generation, i.e. the probability that the focal individual has $k$ offspring, can be obtained simply by binomial sampling with \"success probability\" $p = 1/N_e$. \n",
    "\n",
    "$$P[k] = \\binom{N_e}{k} p^k ( 1- p)^{N_e - k}$$\n",
    "\n",
    "Furthermore, when $X$ individuals currently carry the new mutation, mutant individuals give birth with a total rate $X$. The probability of observing $k$ offspring is still binomially distributed but with $p=\\frac{X}{N_e}$.  \n",
    "\n",
    "By repeatedly drawing a random number of offspring and updating the probability $p$ of inheriting the new mutation, we can simulate the frequency trajectory of this mutation from generation to generation until it is eventually lost or fixed by drift.\n",
    "    </div>"
   ]
  },
  {
   "cell_type": "markdown",
   "id": "ultimate-julian",
   "metadata": {},
   "source": [
    "<div class=\"alert alert-block alert-warning\">\n",
    "    <b>Python recipe: <code>while</code> loops </b>\n",
    "\n",
    "We want to track the frequency trajectory of a new neutral mutation forwards in time, stopping the simulation when the mutation is lost or fixed. \n",
    "\n",
    "To do this, we will use <code>while</code> loop.  You've already used <code>for</code> loops to iterate over arrays, e.g.<code>range(0,10)</code>. This loop stops once the end of the array is reached. A <code>while</code> loop, on the other hand, repeats until a particular condition is met. This is useful when we don't know beforehand how many iterations are needed to get the desired result.\n",
    "    \n",
    "Here's a <code>while</code> loop that generates a sequence of 20 random integers drawn uniformly from (0, 1, ... 9). In each iteration of the loop, the sequence gets longer, so we can use the <b>condition</b> <code> len(seq)&lt;20 </code> to stop the loop. \n",
    "\n",
    "E.g., when <code>len(seq)=17</code>, <code>len(seq)&lt;20 </code> evaluates as <code>True</code>. When <code> len(seq)=20</code>, the condition evaluates as <code>False</code> and the loop stops.\n",
    "    </div>"
   ]
  },
  {
   "cell_type": "code",
   "execution_count": null,
   "id": "unlimited-death",
   "metadata": {},
   "outputs": [],
   "source": [
    "seq = []\n",
    "while len(seq)<20:\n",
    "    a = np.random.randint(0,10)\n",
    "    seq.append(a)\n",
    "print(seq)"
   ]
  },
  {
   "cell_type": "markdown",
   "id": "documented-spank",
   "metadata": {},
   "source": [
    "<div class=\"alert alert-block alert-warning\">\n",
    "When there are multiple conditions that can stop the loop, it is often easier to write them within the loop itself. To do this we use <code>while True:</code> (meaning always proceed) and use <code>if</code> statements to define the conditions under which we halt the loop by calling <code>break</code>.\n",
    "\n",
    "Below, we generate a sequence of 20 random numbers drawn randomly from (0,1,...,9), but here we stop adding values to the sequence if a \"5\" is drawn.\n",
    "    </div>"
   ]
  },
  {
   "cell_type": "code",
   "execution_count": null,
   "id": "statewide-airfare",
   "metadata": {},
   "outputs": [],
   "source": [
    "seq = []\n",
    "while True:\n",
    "    a = np.random.randint(0,10)\n",
    "    seq.append(a)\n",
    "    if len(seq)>= 20:  ## the same condition as above, stop if seq length is 20, writing inequality the other way##\n",
    "        break\n",
    "    if a==5:  ## an additional condition to stop adding values when a '5' is drawn\n",
    "        break\n",
    "print(seq)"
   ]
  },
  {
   "cell_type": "markdown",
   "id": "wound-hawaii",
   "metadata": {},
   "source": [
    "<div class=\"alert alert-block alert-warning\"> <b>Warning!</b> This type of loop can be dangerous. If a stop condition can't be met, the computer will run forever, and it is a good idea to define a limit to the number of iterations, just in case.\n",
    "        </div>"
   ]
  },
  {
   "cell_type": "markdown",
   "id": "continuing-conspiracy",
   "metadata": {},
   "source": [
    "Now that we know how to use a `while` loop, we can implement the neutral WF simulation as a function:"
   ]
  },
  {
   "cell_type": "code",
   "execution_count": null,
   "id": "curious-chile",
   "metadata": {},
   "outputs": [],
   "source": [
    "def sim_neutral(i,Ne): \n",
    "    # i is any unique ID for the simulation. is converted to string. Usually pass an integer. \n",
    "    # N_e is the (haploid) population size \n",
    "    \n",
    "    maxGens = 4000 #largest number of generations we will simulate.\n",
    "    bCount = Ne -1 #initial freq of ancestral allele\n",
    "    BCount = 1 #initial freq of new mutation  \n",
    "    traj = [] # will be populated by the frequency trajectory of neutral mutation. \n",
    "    \n",
    "    while True: #starts the simulation\n",
    "        \n",
    "        traj.append(BCount) #append current frequency to trajectory\n",
    "        \n",
    "        \n",
    "        if(BCount >= Ne):\n",
    "            break\n",
    "        if(BCount <= 0):\n",
    "            break\n",
    "        if(len(traj)>maxGens): \n",
    "            break\n",
    "        \n",
    "        \n",
    "        ### sample to make the next generation ###\n",
    "        \n",
    "        pB = (BCount*(1))/(BCount*(1)+ bCount*(1)) #prob of sampling the focal allele\n",
    "        \n",
    "        BCount = np.random.binomial(Ne,pB)  # random number of derived mutations drawn \n",
    "                                            # from binomial distribution to produce next generations \n",
    "        bCount = Ne - BCount \n",
    "        \n",
    "    # create and return a pandas data frame for the replicate smulation \n",
    "    gens = list(range(len(traj)))\n",
    "    sim = [str(i) for _ in range(len(traj))]\n",
    "    df = pd.DataFrame({\"sim\":sim,\"gens\":gens,\"freq\":traj})\n",
    "    return(df)    \n",
    "\n",
    "sim_neutral(1,10)"
   ]
  },
  {
   "cell_type": "markdown",
   "id": "365b9d2d",
   "metadata": {},
   "source": [
    "<div class=\"alert alert-block alert-success\">    \n",
    "    <b>Exercise 1:</b> In the code above, what are the three conditions that stop the <code>while</code> loop and what do they mean in the context of simulating the allele frequency trajectory?"
   ]
  },
  {
   "cell_type": "code",
   "execution_count": null,
   "id": "704832d3",
   "metadata": {},
   "outputs": [],
   "source": [
    "#SOL no code just note down your conclusions"
   ]
  },
  {
   "cell_type": "markdown",
   "id": "provincial-demonstration",
   "metadata": {},
   "source": [
    "The wrapper function below returns a single data frame that combines data across replicate simulations. We can then use `sns.relplot` to plot the trajectories and distinguish replicates by their unique IDs."
   ]
  },
  {
   "cell_type": "code",
   "execution_count": null,
   "id": "furnished-memorial",
   "metadata": {},
   "outputs": [],
   "source": [
    "def get_neutral_replicates(num_reps,Ne):\n",
    "    replicates = [sim_neutral(i,Ne) for i in range(num_reps)]\n",
    "    trajectories = pd.concat(replicates,ignore_index=True)\n",
    "    return(trajectories)\n",
    "\n",
    "get_neutral_replicates(num_reps=3,Ne=10)"
   ]
  },
  {
   "cell_type": "code",
   "execution_count": null,
   "id": "perceived-bridge",
   "metadata": {},
   "outputs": [],
   "source": [
    "neu_trajectories= get_neutral_replicates(num_reps=50,Ne=10)\n",
    "sns.relplot(x = \"gens\", y = \"freq\",hue=\"sim\",kind = \"line\",data = neu_trajectories,legend=False)\n",
    "plt.show()"
   ]
  },
  {
   "cell_type": "markdown",
   "id": "secondary-emerald",
   "metadata": {},
   "source": [
    "### 5.1.2 Simulating selection **AND** drift"
   ]
  },
  {
   "cell_type": "markdown",
   "id": "rocky-modem",
   "metadata": {},
   "source": [
    "<div class=\"alert alert-block alert-info\">\n",
    "    <b>PopGen:</b> \n",
    "\n",
    "Suppose now that the *de novo* mutation confers a fitness advantage of $s$. In the WF model, carriers of the beneficial mutation leave on average a greater number of offspring, that is, reproduce at rate $(1 + s)$, while the remaining $N_e - 1$ individuals carrying the ancestral allele still give birth at rate $1$. The probability that any offspring inherits the new beneficial mutation is still binomially distributed, but now  $p = \\frac{(1)(1 + s)}{(1)(1+s) + (N_e - 1)(1)}$. \n",
    "\n",
    "As for the neutral case above, when there are $ X > 1$ copies of the beneficial mutation, the probability observing $k$ copies in the next generation is binomially distributed with $p= \\frac{X(1 + s)}{X(1 + s) + ( N_e  - X)( 1)}$.\n",
    "    </div>"
   ]
  },
  {
   "cell_type": "markdown",
   "id": "political-detroit",
   "metadata": {},
   "source": [
    "<div class=\"alert alert-block alert-success\">    \n",
    "    <b>Exercise 2:</b>\n",
    " <ul>\n",
    "    <li> copy the code for running the neutral simulation below and modify it to include positive selection for simulating the frequency trajectory of a new beneficial mutation. The new function <code>sim_selection(i,Ne,s)</code> will take a third parameter for the strength of selection. </li>\n",
    "        <li>check that it returns a data frame with the same formatting as above.</li>\n",
    "        <li>once your selection simulations work, use the wrapper function <code>get_selection_replicates()</code> below to run 50 replicate simulations.</li>\n",
    "        <li> plot the results.</li>\n",
    "      </ul>\n",
    "    </div>"
   ]
  },
  {
   "cell_type": "code",
   "execution_count": null,
   "id": "educated-testimony",
   "metadata": {},
   "outputs": [],
   "source": [
    "## complete this function using the neutral simulation code to include positive selection in the simulation ##\n",
    "def sim_selection(i,Ne,s):\n",
    "    # i is any unique ID for the simulation. is converted to string. Usually pass an integer. \n",
    "    # N_e is the (haploid) population size \n",
    "    # s is is selection coefficient\n",
    "    \n",
    "\n",
    "sim_selection(i=1,Ne=50,s=0.1)"
   ]
  },
  {
   "cell_type": "code",
   "execution_count": null,
   "id": "czech-mixture",
   "metadata": {},
   "outputs": [],
   "source": [
    "def get_selection_replicates(num_reps,Ne,sb):\n",
    "    replicates = [sim_selection(i,Ne,sb) for i in range(num_reps)]\n",
    "    trajectories = pd.concat(replicates,ignore_index=True)\n",
    "    return(trajectories)\n",
    "\n",
    "sel_trajectories= get_selection_replicates(num_reps=50,Ne=1000,sb=0.1)\n",
    "sns.relplot(x = \"gens\", y = \"freq\",hue=\"sim\",kind = \"line\",data = sel_trajectories,legend=False)\n",
    "plt.show()"
   ]
  },
  {
   "cell_type": "markdown",
   "id": "empirical-settle",
   "metadata": {},
   "source": [
    "### 5.1.3 The effect of population size and selection strength on trajectories"
   ]
  },
  {
   "cell_type": "markdown",
   "id": "restricted-metadata",
   "metadata": {},
   "source": [
    "Using the selection simulations you have implemented above, we can compare the fate of new mutations for different population sizes and strengths of selection. For each parameter combination, we plot 200 replicate trajectories of the new mutation.\n",
    "\n",
    "We plot neutral simulations (first column) weak selection simulations (second column) and strong selection simulations (third column). Each row corresponds to a different population size (100, 1000, 10000), increasing from top to bottom.\n",
    "\n",
    "For the selection scenarios, we also plot the expected deterministic allele frequency trajectory for a beneficial mutation (see lecture 5) using the function <code>calc_expected_traj</code> defined below:"
   ]
  },
  {
   "cell_type": "code",
   "execution_count": null,
   "id": "occasional-testing",
   "metadata": {},
   "outputs": [],
   "source": [
    "def calc_expected_traj(Ne,sb):\n",
    "    gensTotal = 10*Ne\n",
    "    pB = 1\n",
    "    traj = []\n",
    "    for t in range(gensTotal):\n",
    "        thisPB =  pB*math.exp(sb*t)/((pB*math.exp(sb*t) + Ne - 1))\n",
    "        traj.append(thisPB)\n",
    "        if thisPB >= (Ne-1)/(Ne):\n",
    "            traj = np.array(traj)\n",
    "            traj = traj*(Ne)\n",
    "            return(traj)\n",
    "            break\n",
    "    traj = np.array(traj)\n",
    "    traj = traj*(Ne)\n",
    "    return(traj)\n",
    "\n",
    "calc_expected_traj(10,0.2)"
   ]
  },
  {
   "cell_type": "code",
   "execution_count": null,
   "id": "surprising-dodge",
   "metadata": {
    "scrolled": true
   },
   "outputs": [],
   "source": [
    "pop_sizes = [100,1000,10000]\n",
    "sel_strengths = [0.01,0.05]\n",
    "num_reps = 200\n",
    "\n",
    "fig, axs = plt.subplots(3,3,figsize=(16,12))\n",
    "\n",
    "for rowidx, Ne in enumerate(pop_sizes):\n",
    "    trajectories = get_neutral_replicates(num_reps,Ne)\n",
    "    sns.lineplot(x = \"gens\", y = \"freq\",hue=\"sim\",data = trajectories,legend=False,ax = axs[rowidx,0])\n",
    "\n",
    "for rowidx, Ne in enumerate(pop_sizes):\n",
    "    for colidx,sb in enumerate(sel_strengths):\n",
    "        trajectories = get_selection_replicates(num_reps,Ne,sb)\n",
    "        sns.lineplot(x = \"gens\", y = \"freq\",hue=\"sim\",data = trajectories,legend=False,ax = axs[rowidx,colidx +1])\n",
    "        axs[rowidx,colidx+1].plot(calc_expected_traj(Ne,sb),\":k\",linewidth=4.0)\n",
    "        \n",
    "axs[0,0].set_title(\"neutral\")\n",
    "axs[0,1].set_title(\"weak selection\")\n",
    "axs[0,2].set_title(\"strong selection\")\n",
    "\n",
    "for ax,size in list(zip(axs[:,0],pop_sizes)):\n",
    "    ax.set_ylabel(size)\n",
    "\n",
    "\n",
    "fig.tight_layout()\n",
    "plt.show()"
   ]
  },
  {
   "cell_type": "markdown",
   "id": "armed-retrieval",
   "metadata": {},
   "source": [
    "<div class=\"alert alert-block alert-success\">    \n",
    "    <b>Exercise 3:</b> Execute the code cell above! \n",
    "     <ul>\n",
    "    <li> How do trajectories differ for neutral vs. weak vs strong selection? How does this depend on pop size</li> \n",
    "    <li> What is the fate of most new mutations, and why. Write down your conclusions?</li> \n",
    "    </ul\n",
    "         \n",
    "         \n",
    "<b>Note:</b> the different scale of the x-axis (number of generations) in each plot.\n",
    "    </div>"
   ]
  },
  {
   "cell_type": "code",
   "execution_count": null,
   "id": "0b9bf988",
   "metadata": {},
   "outputs": [],
   "source": [
    "#SOL no code just note down your conclusions"
   ]
  },
  {
   "cell_type": "markdown",
   "id": "720e1c5a",
   "metadata": {},
   "source": [
    "<div class=\"alert alert-block alert-success\">    \n",
    "    <b>Class discussion:</b> \n",
    "    <ul>\n",
    "    <li> How do trajectories differ when the allele frequency is low vs high? What dynamics of the model can explain these patterns?</li> \n",
    "    <li> How do sim trajectories differ from the expectation (dashed line above) and why?</li> \n",
    "        </ul>\n",
    "    </div>"
   ]
  },
  {
   "cell_type": "code",
   "execution_count": null,
   "id": "e0541e80",
   "metadata": {},
   "outputs": [],
   "source": [
    "#SOL no code just note down your conclusions"
   ]
  },
  {
   "cell_type": "markdown",
   "id": "patent-cleveland",
   "metadata": {},
   "source": [
    "# 5.2 The effect of selection on linked neutral sites"
   ]
  },
  {
   "cell_type": "markdown",
   "id": "entitled-conspiracy",
   "metadata": {},
   "source": [
    "Now that we have studied the direct effects of selection on the evolutionary trajectory of a new beneficial mutation, we want to investigate how fixation of an adaptive allele affects linked neutral sites in the genome.\n",
    "\n",
    "Here we will use simulations in `msprime` to investigate the effect of positive selection on linked neutral variants."
   ]
  },
  {
   "cell_type": "markdown",
   "id": "roman-cement",
   "metadata": {},
   "source": [
    "### 5.2.0 Neutral Simulations\n"
   ]
  },
  {
   "cell_type": "markdown",
   "id": "early-provider",
   "metadata": {},
   "source": [
    "<div class=\"alert alert-block alert-warning\">\n",
    "    <b>Python refresher: simulating under the coalescent with <code>msprime</code> </b>  \n",
    "\n",
    "Below, we simulate 50Mb of sequence assuming $N_e = 10,000$ (see <i>Homo</i> like sims in practical 3) under the standard neutral coalescent and plot the total branch length for each tree along the sequence."
   ]
  },
  {
   "cell_type": "code",
   "execution_count": null,
   "id": "allied-petroleum",
   "metadata": {},
   "outputs": [],
   "source": [
    "#This specifies parameters\n",
    "Ne = 10_000\n",
    "L = 50e6\n",
    "rbp = 2e-9\n",
    "n=20\n",
    "sb=0.05\n",
    "seed_sel=12345\n",
    "seed_neu=54321\n",
    "#We are specifying a mutation rate, but will use branch-based statistics as much as possible (for efficiency):\n",
    "mu = 1e-8 \n",
    "#We are setting up an empty data frame which we will fill as we go along:\n",
    "divdf = pd.DataFrame() "
   ]
  },
  {
   "cell_type": "code",
   "execution_count": null,
   "id": "separate-physics",
   "metadata": {},
   "outputs": [],
   "source": [
    "#This sets up a single neutral simulation given the parameters above: \n",
    "ts_neutral = msprime.sim_ancestry(\n",
    "    samples=n,\n",
    "    model=[msprime.StandardCoalescent()],\n",
    "    population_size=Ne,\n",
    "    recombination_rate=rbp,\n",
    "    sequence_length=L,\n",
    "    random_seed=seed_neu\n",
    ")"
   ]
  },
  {
   "cell_type": "code",
   "execution_count": null,
   "id": "located-integral",
   "metadata": {},
   "outputs": [],
   "source": [
    "#Making windows of 10kb \n",
    "winStartPositions = np.arange(0,L,10_000)\n",
    "slidingWindows=np.append(winStartPositions,L)\n",
    "\n",
    "divdf[\"position\"]=winStartPositions\n",
    "#computing diversity in windows\n",
    "div_neu = ts_neutral.diversity(windows=slidingWindows, mode='branch')\n",
    "divdf[\"neutral\"]=div_neu\n",
    "\n",
    "fig, ax = plt.subplots(figsize=(18,3))\n",
    "sns.lineplot(data =divdf, x=\"position\",y=\"neutral\")\n",
    "plt.show()"
   ]
  },
  {
   "cell_type": "markdown",
   "id": "8bc26338",
   "metadata": {},
   "source": [
    "### 5.2.1 The effect of selection on genetic diversity"
   ]
  },
  {
   "cell_type": "markdown",
   "id": "bearing-hobby",
   "metadata": {},
   "source": [
    "<div class=\"alert alert-block alert-success\">    \n",
    "    <b>Exercise 4 - msprime simulation for positive selection:</b> Modify the code below to implement a sweep model. Calculate diversity in windows, add this to the data frame \"divdf\" as a new column called \"sweep\", and produce a scatter plot (as above). For the sweep model: Place the beneficial mutation at the center of the chromosome. For the initial frequency, assume that the beneficial allele is a <i>de novo</i> mutation. For the final frequency, stop the sweep when there is only one copy of the ancestral mutation remaining.\n",
    "    \n",
    "<b>Hints: </b> Check out the msprime documentation of [<code>SweepGenicSelection</code>](https://tskit.dev/msprime/docs/latest/api.html#msprime.SweepGenicSelection) to:\n",
    "<ul>\n",
    "    <li> Define a positive selection model placing the beneficial mutation at the center of the chromosome.</li> \n",
    "    <li> Combine the selection phase with a neutral coalescent to simulate selective sweep.</li>\n",
    "    <li> Compute and plot genetic diversity in sliding windows as before.</li>\n",
    "    </ul>\n",
    "    </div>"
   ]
  },
  {
   "cell_type": "code",
   "execution_count": null,
   "id": "published-coffee",
   "metadata": {},
   "outputs": [],
   "source": [
    "## Insert parameter values for the position, start and end frequency in the code below to define the \n",
    "# sweep model.\n",
    "sweepModel = msprime.SweepGenicSelection(\n",
    "    position = , \n",
    "    #ben mutation at the centre\n",
    "    start_frequency= , #initial freq of de-novo mutation\n",
    "    end_frequency= , #final frequency of de-novo ben mutation\n",
    "    s=sb,\n",
    "    dt = 1/(40*Ne)\n",
    ")"
   ]
  },
  {
   "cell_type": "code",
   "execution_count": null,
   "id": "17c70965",
   "metadata": {},
   "outputs": [],
   "source": [
    "## define the correct model below\n",
    "ts_sel = msprime.sim_ancestry(\n",
    "    samples=n,\n",
    "#simulate the sweep first, followed by standard coal\n",
    "    model=, \n",
    "    population_size=Ne,\n",
    "    recombination_rate=rbp,\n",
    "    sequence_length=L,\n",
    "    random_seed=seed_sel\n",
    ")\n",
    "print(ts_sel.num_trees)"
   ]
  },
  {
   "cell_type": "code",
   "execution_count": null,
   "id": "potential-brother",
   "metadata": {},
   "outputs": [],
   "source": [
    "#SOL"
   ]
  },
  {
   "cell_type": "markdown",
   "id": "tutorial-discipline",
   "metadata": {},
   "source": [
    "<div class=\"alert alert-block alert-success\">    \n",
    "    <b>Exercise 5:</b> How does selection affect the distribution of window-wise genetic diversity compared to the neutral distribution?\n",
    "\n",
    "<b> Hint:</b> Use <code>sns.histplot</code> to plot both distributions.\n",
    "    </div>"
   ]
  },
  {
   "cell_type": "code",
   "execution_count": null,
   "id": "treated-austin",
   "metadata": {},
   "outputs": [],
   "source": [
    "#SOL"
   ]
  },
  {
   "cell_type": "markdown",
   "id": "mathematical-wrong",
   "metadata": {},
   "source": [
    "### 5.2.2 The effect of selective sweeps on the SFS"
   ]
  },
  {
   "cell_type": "markdown",
   "id": "8a8d12f4",
   "metadata": {},
   "source": [
    "We will consider a smaller sample of $n=5$ (diploid) individuals, a shorter length of sequence (4Mb) to investigate the effect of sweeps on the SFS at nearby neutral sites. As in practical 2 we will compute the expected SFS by averaging across replicates (in this case 500)."
   ]
  },
  {
   "cell_type": "code",
   "execution_count": null,
   "id": "polish-semester",
   "metadata": {},
   "outputs": [],
   "source": [
    "popSize = 10_000\n",
    "benStrength = 0.05\n",
    "chrLength = 4e6\n",
    "recRate = 1e-9\n",
    "sampleSize = 5 #diploids\n",
    "numReplicates = 500\n",
    "numWindows=4\n",
    "winBreaks = [chrLength/numWindows*i for i in range(0,numWindows+1)]"
   ]
  },
  {
   "cell_type": "markdown",
   "id": "considered-belize",
   "metadata": {},
   "source": [
    "<div class=\"alert alert-block alert-info\">\n",
    "<b>PopGen reminder: the SFS</b>\n",
    "    \n",
    "You have already enountered the analytic predictions for the SFS for a sample from a neutral WF population in practical 2. Given a sequence with a scaled mutation rate $\\theta$, the SFS (in terms of the expected number of iton mutations) is $S_i = \\theta/i$ for $i = 1,2,...,n-1$. See lecture 2.\n",
    "    </div>"
   ]
  },
  {
   "cell_type": "markdown",
   "id": "nasty-conducting",
   "metadata": {},
   "source": [
    "The code chunk below obtains the expected neutral SFS for polarized `neutSFSUnfolded` and non-polarized data `neutSFSFolded` for a sample of $n$ individuals:"
   ]
  },
  {
   "cell_type": "code",
   "execution_count": null,
   "id": "faced-favor",
   "metadata": {},
   "outputs": [],
   "source": [
    "neutExp = np.array([1/i for i in range(1,2*sampleSize)])\n",
    "neutSFSUnfolded = neutExp\n",
    "neutSFSUnfolded /= neutSFSUnfolded.sum()\n",
    "\n",
    "neutFlipped = np.flip(neutExp)\n",
    "neutSFSFolded = neutExp + neutFlipped #sum them together for the 'folding'\n",
    "neutSFSFolded = neutSFSFolded[0:sampleSize] # only look at the minor allele counts\n",
    "neutSFSFolded[-1] = neutSFSFolded[-1]/2 # because we've counted the entry for this twice"
   ]
  },
  {
   "cell_type": "markdown",
   "id": "chicken-newton",
   "metadata": {},
   "source": [
    "<div class=\"alert alert-block alert-success\">    \n",
    "    <b>Exercise 6:</b> \n",
    "    <ul>\n",
    "    <li>use the unfolded SFS (<code>neutSFSUnfolded</code>, above) to work out the frequency of singletons in the folded SFS.</li>\n",
    "    <li>Does this agree with <code>neutSFSFolded</code> defined below?</li>\n",
    "    </ul>\n",
    "</div>"
   ]
  },
  {
   "cell_type": "code",
   "execution_count": null,
   "id": "7fa20dfe",
   "metadata": {},
   "outputs": [],
   "source": [
    "#SOL"
   ]
  },
  {
   "cell_type": "markdown",
   "id": "gothic-alexander",
   "metadata": {},
   "source": [
    "Let's investigate the effect of sweeps on the SFS at linked neutral sites. The code chunk below runs 500 replicate sweep simulations, assuming a single beneficial allele at `position = 1`\n",
    "- for each replicate, we get the (unfolded) SFS in 1Mb windows (non-overlapping) increasingly far from the center of the sweep.\n",
    "- for each distance, we average the SFS across replicates."
   ]
  },
  {
   "cell_type": "code",
   "execution_count": null,
   "id": "satisfied-anniversary",
   "metadata": {},
   "outputs": [],
   "source": [
    "sweepModel = msprime.SweepGenicSelection(\n",
    "    position = 1,\n",
    "    start_frequency=1.0/(2*popSize),\n",
    "    end_frequency= 1 - 1.0/(2*popSize),\n",
    "    s=benStrength,\n",
    "    dt = 1/(40*popSize)\n",
    ")\n",
    "\n",
    "replicates = msprime.sim_ancestry(\n",
    "    samples=sampleSize,\n",
    "    model=[sweepModel,msprime.StandardCoalescent()],\n",
    "    population_size=popSize,\n",
    "    recombination_rate=recRate,\n",
    "    sequence_length=chrLength,\n",
    "    num_replicates = numReplicates,\n",
    "    random_seed=8675309\n",
    ")\n",
    "\n",
    "sfs_rep_table = np.zeros((numReplicates,numWindows,2*sampleSize+1))\n",
    "for replicate_index, ts in enumerate(replicates):\n",
    "    sfs = ts.allele_frequency_spectrum(mode = \"branch\",polarised = False,windows=winBreaks)\n",
    "    sfs_rep_table[replicate_index] = sfs\n",
    "\n",
    "#win_sfs_table: each row is the SFS for a window of 1Mb increasingly far from the sweep centre.\n",
    "win_sfs_table = np.apply_along_axis(np.mean,0,sfs_rep_table)\n",
    "win_sfs_table = np.apply_along_axis(lambda x: x/sum(x),1,win_sfs_table)\n",
    "win_sfs_table = np.apply_along_axis(lambda x: x[1:-1],1,win_sfs_table)\n",
    "print(win_sfs_table)"
   ]
  },
  {
   "cell_type": "markdown",
   "id": "constant-university",
   "metadata": {},
   "source": [
    "<div class=\"alert alert-block alert-success\">    \n",
    "    <b>Exercise 7:</b> Combine the results for the average SFS for the different distances from the sweep with the neutral expectation (both are defined as dataframes below) into a single dataframe and plot both using a braplot (see practical 2). How does selection affect the folded SFS and how does this depend on the distance from the beneficial mutation?\n",
    "    </div>"
   ]
  },
  {
   "cell_type": "code",
   "execution_count": null,
   "id": "320809f9",
   "metadata": {},
   "outputs": [],
   "source": [
    "iTons = list(range(1,10))\n",
    "windows = ['first','second','third','fourth']\n",
    "dfWST = pd.DataFrame()\n",
    "\n",
    "for name,vals in list(zip(windows,win_sfs_table)):\n",
    "# This creates a temporary dataframe for each distance from the sweep \n",
    "    tempdf = pd.DataFrame({'itons':iTons,'freq':vals,'window':[name]*(2*sampleSize-1)})\n",
    "    dfWST= pd.concat([dfWST,tempdf])\n",
    "\n",
    "nSFS = np.zeros(len(neutSFSUnfolded)) #add zero entries to unfolded SFS for plotting and store as \"a\"\n",
    "for idx, val in enumerate(neutSFSFolded):\n",
    "    nSFS[idx]=val\n",
    "dfNeut = pd.DataFrame({'itons':iTons,'freq':nSFS,'window':['neutral']*(2*sampleSize-1)})"
   ]
  },
  {
   "cell_type": "code",
   "execution_count": null,
   "id": "changed-surfing",
   "metadata": {},
   "outputs": [],
   "source": [
    "#SOL:"
   ]
  },
  {
   "cell_type": "markdown",
   "id": "correct-adelaide",
   "metadata": {},
   "source": [
    "# 5.3 Genomic scans for adaptive evolution using SweepFinder\n"
   ]
  },
  {
   "cell_type": "markdown",
   "id": "inner-grain",
   "metadata": {},
   "source": [
    "Here we will perform scans for selection using SweepFinder on the `ts_neu` and `ts_sel` simulations obtained in **5.2.2** above (the ones with long chromosomes, $n=20$ and the beneficial mutation in the middle). Details of the method are found [Nielsen et al 2005](https://genome.cshlp.org/content/15/11/1566). We first learn to format the data correctly for use in SweepFinder and then think about how to interpret the results."
   ]
  },
  {
   "cell_type": "markdown",
   "id": "initial-religious",
   "metadata": {
    "heading_collapsed": true
   },
   "source": [
    "### 5.3.1 The neutral background SFS"
   ]
  },
  {
   "cell_type": "markdown",
   "id": "intimate-intelligence",
   "metadata": {
    "hidden": true
   },
   "source": [
    "we will use the expected neutral SFS for performing our scans, provided below, and formatted for use in SweepFinder:"
   ]
  },
  {
   "cell_type": "code",
   "execution_count": null,
   "id": "placed-anthony",
   "metadata": {
    "hidden": true
   },
   "outputs": [],
   "source": [
    "bgSFS =np.array([0.        , 0.24112628, 0.12373586, 0.08472005, 0.06530504,\n",
    "       0.05373671, 0.04609767, 0.04070963, 0.03673408, 0.03370582,\n",
    "       0.03134642, 0.02947939, 0.02798787, 0.02679181, 0.02583496,\n",
    "       0.02507713, 0.02448939, 0.02405096, 0.02374729, 0.02356873,\n",
    "       0.01175491, 0.        , 0.        , 0.        , 0.        ,\n",
    "       0.        , 0.        , 0.        , 0.        , 0.        ,\n",
    "       0.        , 0.        , 0.        , 0.        , 0.        ,\n",
    "       0.        , 0.        , 0.        , 0.        , 0.        ])\n",
    "\n",
    "iTon=list(range(0,2*n))\n",
    "sweepfinder_bgsfs = np.array(list(zip(iTon,bgSFS)))\n",
    "sweepfinder_bgsfs"
   ]
  },
  {
   "cell_type": "markdown",
   "id": "0bd62845",
   "metadata": {},
   "source": [
    "Note that the SFS has been normalised, i.e. sums to 1:"
   ]
  },
  {
   "cell_type": "code",
   "execution_count": null,
   "id": "5ef75b4a",
   "metadata": {},
   "outputs": [],
   "source": [
    "np.sum(bgSFS)"
   ]
  },
  {
   "cell_type": "markdown",
   "id": "vulnerable-behalf",
   "metadata": {},
   "source": [
    "###  5.3.2 mutation counts"
   ]
  },
  {
   "cell_type": "markdown",
   "id": "honey-extent",
   "metadata": {},
   "source": [
    "So far, we have used branch-based statistics provided by msprime/tskit. However, when running sweepfinder scans on population genomic data (simulated or real), we can only work with polymorphisms.\n",
    "\n",
    "Below, we add mutations to the _neutral_ simulation, obtain mutation counts along the genome, and format this as an input table for SweepFinder."
   ]
  },
  {
   "cell_type": "code",
   "execution_count": null,
   "id": "sonic-recording",
   "metadata": {
    "scrolled": true
   },
   "outputs": [],
   "source": [
    "ms_neutral = msprime.sim_mutations(ts_neutral, rate=mu,random_seed=6789)\n",
    "\n",
    "print(\"theta per base= \", 4*Ne*mu)\n",
    "print(\"observed num mutations:\", mts_neutral.num_mutations)\n",
    "#The expected SFS in terms of mutation counts\n",
    "print(\"expected num mutations\",mu*4*Ne*L* sum([1/i for i in range(1,2*n)])) \n",
    "\n",
    "biallelicSNPsNeutral = [[int(var.site.position), min([sum(var.genotypes),2*n - sum(var.genotypes)]),2*n,1] for var in mts_neutral.variants() if len(var.alleles)==2]\n",
    "biallelicSNPsNeutral = pd.DataFrame(biallelicSNPsNeutral,columns=['position','x','n','folded'])\n",
    "\n",
    "print(\"\\n\")\n",
    "print(\"the first few entries of the mutation count file should look like:\\n\")\n",
    "print(biallelicSNPsNeutral[0:10])"
   ]
  },
  {
   "cell_type": "markdown",
   "id": "correct-depression",
   "metadata": {},
   "source": [
    "Here we obtain mutation counts for the _sweep_ simulation:"
   ]
  },
  {
   "cell_type": "code",
   "execution_count": null,
   "id": "likely-cisco",
   "metadata": {},
   "outputs": [],
   "source": [
    "mts_sel = msprime.sim_mutations(ts_sel, rate=mu,random_seed=9876)\n",
    "\n",
    "print(\"theta per base= \", 4*Ne*mu)\n",
    "print(\"observed num mutations:\", mts_sel.num_mutations)\n",
    "print(\"expected num mutations\",mu*4*Ne*L* sum([1/i for i in range(1,2*n)])) #expected number\n",
    "\n",
    "biallelicSNPsSweep = [[int(var.site.position), min([sum(var.genotypes),2*n - sum(var.genotypes)]),2*n,1] for var in mts_sel.variants() if len(var.alleles)==2]\n",
    "biallelicSNPsSweep = pd.DataFrame(biallelicSNPsSweep,columns=['position','x','n','folded'])\n",
    "\n",
    "print(\"\\n\")\n",
    "print(\"the first few entries of the mutation count file should look like:\\n\")\n",
    "print(biallelicSNPsSweep[0:10])\n",
    "\n",
    "#although we won't do it here, the the sweep sim mutation counts would be saved to a file using:\n",
    "#biallelicSNPsSweep.to_csv('./sim_sweepfinder/folded_sweep_mut_counts.txt',sep='\\t',header=True,index=False)"
   ]
  },
  {
   "cell_type": "markdown",
   "id": "paperback-soundtrack",
   "metadata": {},
   "source": [
    "<div class=\"alert alert-block alert-success\">    \n",
    "    <b>Exercise 8:</b> Check the output above. How does the total number of mutations ($S$) differ between the neutral and the sweep simulation? How close are either to the analytic expectation $E[S]$ under neutrality?\n",
    "    </div>"
   ]
  },
  {
   "cell_type": "code",
   "execution_count": null,
   "id": "mobile-narrow",
   "metadata": {},
   "outputs": [],
   "source": [
    "#SOL:"
   ]
  },
  {
   "cell_type": "markdown",
   "id": "proper-register",
   "metadata": {},
   "source": [
    "<div class=\"alert alert-block alert-success\">    \n",
    "    <b>Python challenge (optional):</b> We used this line of code in the cell above. \n",
    "    \n",
    "    \n",
    "    [[int(var.site.position), min([sum(var.genotypes),2*n - sum(var.genotypes)]),2*n,1] for var in mts_neutral.variants() if len(var.alleles)==2]\n",
    "    \n",
    "    \n",
    "Can you work out what is being calculated? Can you rewrite it using a <b>for</b> loop?\n",
    "\n",
    "</div>"
   ]
  },
  {
   "cell_type": "code",
   "execution_count": null,
   "id": "arranged-plane",
   "metadata": {},
   "outputs": [],
   "source": [
    "#SOL:"
   ]
  },
  {
   "cell_type": "markdown",
   "id": "domestic-shoot",
   "metadata": {},
   "source": [
    "### 5.3.3 sweepfinder results\n",
    "\n",
    "We have 'pre-baked' some SweepFinder runs on the two simulated data files generated above. Let's look at and interpret the results."
   ]
  },
  {
   "cell_type": "markdown",
   "id": "sporting-accent",
   "metadata": {},
   "source": [
    "The scans were run using the following commands:\n",
    "\n",
    "../SweeD_v3.2.1_Linux/SweeD -folded -name foldedtestNeu -input folded_neutral_mut_counts.txt -grid 10000 -isfs folded_sfs_file.txt\n",
    "\n",
    "../SweeD_v3.2.1_Linux/SweeD -folded -name foldedtestSel -input folded_sweep_mut_counts.txt -grid 10000 -isfs folded_sfs_file.txt"
   ]
  },
  {
   "cell_type": "markdown",
   "id": "exceptional-sitting",
   "metadata": {},
   "source": [
    "Here we import the results files generated by the SweepFinder method and save each as a dataframe."
   ]
  },
  {
   "cell_type": "code",
   "execution_count": null,
   "id": "95f8c565",
   "metadata": {},
   "outputs": [],
   "source": [
    "! wget https://www.dropbox.com/s/ul7bm5956mlx8gw/p5_data.tar.gz?dl=0 -q --show-progress -O p5_data.tar.gz\n",
    "! tar zxf p5_data.tar.gz"
   ]
  },
  {
   "cell_type": "code",
   "execution_count": null,
   "id": "fbb2d190",
   "metadata": {},
   "outputs": [],
   "source": [
    "! ls -lh p5_data/"
   ]
  },
  {
   "cell_type": "code",
   "execution_count": null,
   "id": "2d0e8a7b",
   "metadata": {},
   "outputs": [],
   "source": [
    "neutralScan= pd.read_csv(\"p5_data/SweeD_Report.foldedtestNeu\",header=1,delimiter=\"\\t\")\n",
    "selScan= pd.read_csv(\"p5_data/SweeD_Report.foldedtestSel\",header=1,delimiter=\"\\t\")\n",
    "neutralScan[0:5]"
   ]
  },
  {
   "cell_type": "markdown",
   "id": "entertaining-branch",
   "metadata": {},
   "source": [
    "<div class=\"alert alert-block alert-info\">\n",
    "    <b>PopGen: Estimating $s$ from SweepFinder's $\\alpha$ </b>\n",
    "    \n",
    "$\\alpha$ is a measure of the rate of recombination relative to the effective strength of selection in the population.  $\\alpha = r/s* Log( 2 N_e)$. If we have an estimate of $r$ and $N_e$ (or know them, as in these simulations) we can convert this estimate of $\\alpha$ to an estimate of $s$, the fitness effect of the beneficial mutation.\n",
    "    \n",
    "</div>"
   ]
  },
  {
   "cell_type": "markdown",
   "id": "wrong-fellow",
   "metadata": {},
   "source": [
    "<div class=\"alert alert-block alert-success\">    \n",
    "    <b>Exercise 9:</b> For both the neutral and selection scans, use the formula above to calculate the strength of selection from the estimated 'Alpha' values and add this information as a new column <code>sb</code> in the respective data frames. \n",
    "    \n",
    "<b>Hint</b>: Use <code>math.log(x)</code> to calculate the natural logarithm of \"x\".\n",
    "    </div>"
   ]
  },
  {
   "cell_type": "code",
   "execution_count": null,
   "id": "surprised-clerk",
   "metadata": {},
   "outputs": [],
   "source": [
    "#SOL:"
   ]
  },
  {
   "cell_type": "markdown",
   "id": "gorgeous-folks",
   "metadata": {},
   "source": [
    "Below we plot the support (\"likelihood\") and estimated strength of selection (\"sb\") for each test site along the chromosome, both for the neutral and sweep simulations"
   ]
  },
  {
   "cell_type": "code",
   "execution_count": null,
   "id": "german-manhattan",
   "metadata": {},
   "outputs": [],
   "source": [
    "fig,axs = plt.subplots(2,2,figsize=(16,9))\n",
    "\n",
    "sns.lineplot(data = neutralScan,x=\"Position\",y=\"Likelihood\",ax=axs[0,0])\n",
    "sns.lineplot(data = neutralScan,x=\"Position\",y=\"sb\",ax=axs[1,0])\n",
    "\n",
    "sns.lineplot(data = selScan,x=\"Position\",y=\"Likelihood\",ax=axs[0,1])\n",
    "sns.lineplot(data = selScan,x=\"Position\",y=\"sb\",ax=axs[1,1])\n",
    "axs[0,0].set_title(\"neutral sim\")\n",
    "axs[0,1].set_title(\"sweep sim\")\n",
    "print(\"Using the folded SFS\")\n",
    "plt.show()\n",
    "\n",
    "fig.tight_layout()\n",
    "plt.show()"
   ]
  },
  {
   "cell_type": "markdown",
   "id": "french-display",
   "metadata": {},
   "source": [
    "<div class=\"alert alert-block alert-success\">    \n",
    "    <b>Exercise 10:</b> Compare neutral and sweep results: is there a clear signature of positive selection? How does the maximum-likelihood estimate of the location of the beneficial mutation and strength of selection compare to the true values of these parameters?\n",
    "\n",
    "<b>Hint:</b> The method <code>.idxmax()</code> is a quick way to find the index with the max value of a numpy array. Once you know the index of the dataframe row with the maxcimum likelihood you can inspect the entire row  using <code>selScan.loc[index]</code> (see practial 4).\n",
    "    </div>"
   ]
  },
  {
   "cell_type": "code",
   "execution_count": null,
   "id": "external-amsterdam",
   "metadata": {},
   "outputs": [],
   "source": [
    "#SOL"
   ]
  },
  {
   "cell_type": "markdown",
   "id": "spare-island",
   "metadata": {},
   "source": [
    "# 5.4 Signatures of selection in _Heliconius_ butterflies\n"
   ]
  },
  {
   "cell_type": "markdown",
   "id": "wound-colorado",
   "metadata": {},
   "source": [
    "Let's look at a SweepFinder scan on a real data set! We will first import a vcf file containing variation data from several individuals of *Heliconius* butterflies belonging to different closely related species and mimicry races. These data were obtained by mapping WGS Illumina reads against the *Heliconius melpomene* reference genome and are from [(Martin et al 2020)](https://datadryad.org/stash/dataset/doi:10.5061/dryad.sk2pd88).\n",
    "\n",
    "You will analyze this data set much more closely in practical 6. For simplicity, we focus on chromosome 18 and restrict our analysis to 10 individuals from a single sub-species: _H. melpomene malleti_."
   ]
  },
  {
   "cell_type": "markdown",
   "id": "capable-cradle",
   "metadata": {},
   "source": [
    "### 5.4.1 Importing and Subsetting the _Heliconius_ data"
   ]
  },
  {
   "cell_type": "markdown",
   "id": "architectural-therapy",
   "metadata": {},
   "source": [
    "The cell below imports the variant data from the vcf file and and subsets it using scikit allel."
   ]
  },
  {
   "cell_type": "code",
   "execution_count": null,
   "id": "cfca7d4c",
   "metadata": {},
   "outputs": [],
   "source": [
    "## import the vcf file retaining the genotype calls, variant positions, and sample names\n",
    "samples_mal = ['mal.CS1002', 'mal.CS1011', 'mal.CS1815', 'mal.CS21', 'mal.CS22', 'mal.CS24', 'mal.CS586', 'mal.CS594', 'mal.CS604', 'mal.CS615']\n",
    "gt_key, pos_key, sample_key = 'calldata/GT', 'variants/POS', 'samples'\n",
    "vcf_f ='p5_data/heli_chrom18.vcf.gz'\n",
    "helidata = allel.read_vcf(vcf_f, fields=[gt_key, pos_key, sample_key], samples=samples_mal)"
   ]
  },
  {
   "cell_type": "markdown",
   "id": "a7143e7f",
   "metadata": {},
   "source": [
    "As in the last practical, we store the variant positions and the genotypes as separate arrays and turn the genotype array into an array of allele counts:"
   ]
  },
  {
   "cell_type": "code",
   "execution_count": null,
   "id": "possible-general",
   "metadata": {},
   "outputs": [],
   "source": [
    "positions = helidata['variants/POS']\n",
    "heliGTs = allel.GenotypeArray(helidata['calldata/GT']);\n",
    "\n",
    "mal_counts = heliGTs.count_alleles()\n",
    "mal_counts"
   ]
  },
  {
   "cell_type": "markdown",
   "id": "honest-identification",
   "metadata": {},
   "source": [
    "<div class=\"alert alert-block alert-success\">    \n",
    "    <b>Exercise 11:</b>\n",
    "    The data from this VCF file only contain polymorphic sites, so why does the first entry only have a single allele? Use scikit allel's <code>is_biallelic()</code> function to restrict the counts and position arrays to biallelic sites (see practical 4). Store the new counts and positions as <code>ba_mal_counts</code> and <code>ba_positions</code> (check how many sits are filtered out).\n",
    "</div>"
   ]
  },
  {
   "cell_type": "code",
   "execution_count": null,
   "id": "stainless-gregory",
   "metadata": {},
   "outputs": [],
   "source": [
    "#SOL"
   ]
  },
  {
   "cell_type": "markdown",
   "id": "430c1e02",
   "metadata": {},
   "source": [
    "<div class=\"alert alert-block alert-success\">    \n",
    "    <b>Exercise 12:</b>\n",
    "Use the the     \n",
    "    <a href=\"https://scikit-allel.readthedocs.io/en/stable/stats/diversity.html#allel.windowed_diversity\"><code>allel.windowed_diversity()</code></a> method (see practical 4, exercise 8) to plot genetic diversity along the chromosome.\n",
    "</div>"
   ]
  },
  {
   "cell_type": "code",
   "execution_count": null,
   "id": "855c98e7",
   "metadata": {},
   "outputs": [],
   "source": [
    "#SOL"
   ]
  },
  {
   "cell_type": "markdown",
   "id": "excited-literacy",
   "metadata": {},
   "source": [
    "### 5.4.4 Identifying the signatures of selective sweeps"
   ]
  },
  {
   "cell_type": "markdown",
   "id": "hollow-siemens",
   "metadata": {},
   "source": [
    "We pre-baked SweepFinder scan results for chromosome 18. \n",
    "\n",
    "**Note:** If you want to know how the Heliconius data for chrom 18 were formatted for SweepFinder, the code is in the Appendix. SweepFinder was run using the following command: \n",
    "    \n",
    "<code>../SweeD_v3.2.1_Linux/SweeD -folded -name scanChr18 -input folded_mut_counts_file.txt -grid 10000 -isfs folded_sfs_file.txt</code>"
   ]
  },
  {
   "cell_type": "markdown",
   "id": "english-drinking",
   "metadata": {},
   "source": [
    "Evaluate the following cell to import the scan results:"
   ]
  },
  {
   "cell_type": "code",
   "execution_count": null,
   "id": "skilled-proportion",
   "metadata": {},
   "outputs": [],
   "source": [
    "scanChr18= pd.read_csv(\"p5_data/SweeD_Report.scanChr18\",header=1,delimiter=\"\\t\")"
   ]
  },
  {
   "cell_type": "markdown",
   "id": "tamil-keeping",
   "metadata": {},
   "source": [
    "The smallest Alpha values correspond to the highest strength of selection estimated. It is easier to interperet this by plotting  _-log10(Alpha)_ instead, so that we can see selection estimates that range over orders of magnitude and it places the highest estimates of selection strength at the top of the graph."
   ]
  },
  {
   "cell_type": "code",
   "execution_count": null,
   "id": "aging-brick",
   "metadata": {},
   "outputs": [],
   "source": [
    "scanChr18[\"-log10Alpha\"]=scanChr18['Alpha'].apply(lambda x: -math.log10(x))"
   ]
  },
  {
   "cell_type": "markdown",
   "id": "c3ac2b44",
   "metadata": {},
   "source": [
    "<div class=\"alert alert-block alert-success\">    \n",
    "    <b>Exercise 13:</b>\n",
    "<ul>\n",
    "    <li>Look at the column names of the scanChr18 dataframe.</li>\n",
    "    <li>Specify arguments in <code>lineplot</code> below to generate separate lineplots for the sweep likelihood and -log10Alpha along the chromosome.</li>\n",
    "    <li>Is there any evidence for sweeps on chromosome 18?</li>\n",
    "    <li>How strongly reduced is genetic diversity in regions containing sweep signals?<l/i>\n",
    "    </ul>\n",
    "</div>"
   ]
  },
  {
   "cell_type": "code",
   "execution_count": null,
   "id": "bronze-firmware",
   "metadata": {},
   "outputs": [],
   "source": [
    "fig,axs = plt.subplots(2,1,figsize=(16,9))\n",
    "sns.lineplot(......,ax=axs[0])\n",
    "sns.lineplot(......,ax=axs[1])\n",
    "fig.tight_layout()\n",
    "plt.show()"
   ]
  },
  {
   "cell_type": "markdown",
   "id": "64f3e112",
   "metadata": {},
   "source": [
    "## Appendix"
   ]
  },
  {
   "cell_type": "markdown",
   "id": "individual-parliament",
   "metadata": {},
   "source": [
    "### Processing Heliconius data for SweepFinder"
   ]
  },
  {
   "cell_type": "markdown",
   "id": "abandoned-david",
   "metadata": {},
   "source": [
    "Since we are using the folded SFS, we only need to know the major/minor allele frequencies at each site, and we can retain the data at sites polymorphic for two alternate alleles. The <code>getMajorMinor(countArr)</code>function below does the trick and calculates the major and minor allele counts."
   ]
  },
  {
   "cell_type": "code",
   "execution_count": null,
   "id": "indoor-kenya",
   "metadata": {},
   "outputs": [],
   "source": [
    "def getMajorMinor(countArr):#countArr is the list of allele counts [a0,a1,a2] for some position\n",
    "    maxCount = max(countArr)\n",
    "    totalCount = sum(countArr)\n",
    "    minorCount = totalCount - maxCount\n",
    "    \n",
    "    return([maxCount,minorCount])"
   ]
  },
  {
   "cell_type": "markdown",
   "id": "numeric-expansion",
   "metadata": {},
   "source": [
    "Using the `getMajorMinor` and  numpy's `apply_along_axis` functions, we can get the major and minor allele counts for each biallelic position, storing this as `ba_maj_min`"
   ]
  },
  {
   "cell_type": "code",
   "execution_count": null,
   "id": "quiet-athletics",
   "metadata": {},
   "outputs": [],
   "source": [
    "# get [major,minor] count for the corresponding biallelic positions\n",
    "ba_maj_min = np.apply_along_axis(getMajorMinor,1,ba_mal_counts)\n",
    "\n",
    "print(ba_maj_min)"
   ]
  },
  {
   "cell_type": "markdown",
   "id": "dietary-variation",
   "metadata": {},
   "source": [
    "We can use <code>ba_positions</code> and <code>ba_maj_min</code>to create a properly-formated dataframe to use as input for SweepFinder (see simulation scans above for formatting)."
   ]
  },
  {
   "cell_type": "code",
   "execution_count": null,
   "id": "rolled-variety",
   "metadata": {
    "scrolled": true
   },
   "outputs": [],
   "source": [
    "biallelMutCounts = np.array([[pos,ac[0],sum(ac),1] for pos,ac in list(zip(ba_positions,ba_maj_min))])\n",
    "biallelMutCounts = pd.DataFrame(biallelicSNPsSweep,columns=['pos','x','n','folded'])\n",
    "biallelMutCounts"
   ]
  },
  {
   "cell_type": "markdown",
   "id": "color-dealer",
   "metadata": {},
   "source": [
    "### Empirical SFS for sweep scan input"
   ]
  },
  {
   "cell_type": "markdown",
   "id": "above-silicon",
   "metadata": {},
   "source": [
    "We used a standard neutral coalescent model in our simulations, and we have analytic expressions for the background SFS under that model. For real data, SweepFinder uses the emperical site frequency spectrum in order to account for the demographic history of the population. Execute the cell below to calculate the empirical folded site frequency spectrum, \"foldedSFS\" for our butterfly dataset."
   ]
  },
  {
   "cell_type": "code",
   "execution_count": null,
   "id": "stretch-portland",
   "metadata": {},
   "outputs": [],
   "source": [
    "coverage = np.apply_along_axis(sum, 1, ba_maj_min)\n",
    "fullCoverIdx = coverage==nMax\n",
    "fullCover_ba_maj_min = ba_maj_min[fullCoverIdx]\n",
    "\n",
    "print(fullCover_ba_maj_min[0:5])\n",
    "\n",
    "foldedSFS = allel.sfs_folded(fullCover_ba_maj_min)\n",
    "foldedSFS = foldedSFS/sum(foldedSFS)\n",
    "\n",
    "print(foldedSFS)"
   ]
  },
  {
   "cell_type": "markdown",
   "id": "ba78acc4",
   "metadata": {},
   "source": [
    "We filter to obtain only sites that are covered for all individuals in the sample. We need this to calculate the full SFS. Note that we still use partially-covered sites in the analysis because we can calculate the n<nMax SFS by subsampling (see Nielsen 2005)."
   ]
  }
 ],
 "metadata": {
  "kernelspec": {
   "display_name": "Python 3",
   "language": "python",
   "name": "python3"
  },
  "language_info": {
   "codemirror_mode": {
    "name": "ipython",
    "version": 3
   },
   "file_extension": ".py",
   "mimetype": "text/x-python",
   "name": "python",
   "nbconvert_exporter": "python",
   "pygments_lexer": "ipython3",
   "version": "3.8.3"
  }
 },
 "nbformat": 4,
 "nbformat_minor": 5
}
