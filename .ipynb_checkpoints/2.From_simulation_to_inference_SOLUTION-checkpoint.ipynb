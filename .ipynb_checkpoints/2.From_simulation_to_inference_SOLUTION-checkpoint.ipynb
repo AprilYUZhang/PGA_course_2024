{
 "cells": [
  {
   "cell_type": "markdown",
   "metadata": {},
   "source": [
    "# Practical 2. From simulation to inference\n",
    "\n",
    "At the end of this practical you should:\n",
    "\n",
    "- Understand why coalescent simulations are useful to gain intuition about population level processes.\n",
    "- Appreciate that the site frequency spectrum (SFS) is a fundamental summary of sequence variation and understand how it relates to genealogical branch lengths.\n",
    "- Understand that summary statistics are the currency for comparing real data to idealized models of population processes/history and that such comparisons can be done either via analytic results or simulations.\n",
    "- Know how coalescent simulations are used in approximate likelihood inference."
   ]
  },
  {
   "cell_type": "code",
   "execution_count": 1,
   "metadata": {},
   "outputs": [
    {
     "name": "stderr",
     "output_type": "stream",
     "text": [
      "/var/folders/sq/vc6_dvd116b6pt9nrzq_m1100000gr/T/ipykernel_71632/2680652003.py:4: DeprecationWarning: \n",
      "Pyarrow will become a required dependency of pandas in the next major release of pandas (pandas 3.0),\n",
      "(to allow more performant data types, such as the Arrow string type, and better interoperability with other libraries)\n",
      "but was not found to be installed on your system.\n",
      "If this would cause problems for you,\n",
      "please provide us feedback at https://github.com/pandas-dev/pandas/issues/54466\n",
      "        \n",
      "  import pandas as pd\n"
     ]
    }
   ],
   "source": [
    "import msprime\n",
    "import tskit\n",
    "import numpy as np\n",
    "import pandas as pd\n",
    "import seaborn as sns\n",
    "from IPython.display import SVG, set_matplotlib_formats\n",
    "from matplotlib import pyplot as plt\n",
    "#jupyter magic\n",
    "%matplotlib inline"
   ]
  },
  {
   "cell_type": "markdown",
   "metadata": {},
   "source": [
    "## 2.1 The expected site frequence spectrum"
   ]
  },
  {
   "cell_type": "markdown",
   "metadata": {},
   "source": [
    "This practical is based on a python tutorial developed as part of a bookchapter which is available [here](https://link.springer.com/protocol/10.1007%2F978-1-0716-0199-0_9)."
   ]
  },
  {
   "cell_type": "markdown",
   "metadata": {},
   "source": [
    "<div class=\"alert alert-block alert-info\">\n",
    "    <b>PopGen:</b>\n",
    "\n",
    "The site frequency spectrum (SFS) summarises variants by their frequency in a sample. The SFS is a fundamental summary of sequence variation in two ways:\n",
    "1. It is a lossless summary of unlinked variants, in other words any summary statistic that ignores linkage is just a further summary of the SFS (e.g. pairwise genetic diversity and divergence, $F_{st}$, Tajima's $D$ can all be computed from the SFS). \n",
    "2. The SFS forms the basis of many modern population genomic methods that infer demographyic history and/or selection from sequence variation: e.g. dadi, fastsimcoal, sweepfinder, DFE-alpha ... (we will encounter some in this course).\n",
    "\n",
    "The SFS is convenient analytically, because it only depends on the mean length and frequency of genealogical branches. For a single Wright-Fisher population of constant size, the coalescent can used to derive a simple analytic prediction for the expected SFS: $$ S_i = \\theta/i $$ for $i= 1,2,...,n-1$ (see lecture 2 and <a href=\"https://journals.plos.org/plosone/article?id=10.1371/journal.pone.0118087\"> Hudson's recent proof</a>). Analytic expressions are also possible for the SFS around the target of a hard selective sweep (see practical 5). However, most realistic models of demography and/or selection are too complex and analytic expectations for the SFS (or other summeries of genealogies) do not exist. In this practical, we will approximate the SFS using coalescence simulations.\n",
    "    </div>"
   ]
  },
  {
   "cell_type": "markdown",
   "metadata": {},
   "source": [
    "Let's start by considering the SFS for a single tree. Since we want to not only simulate a genealogy, but also (in a second step) mutations, we need to specify a length of sequence. Let's use `sim_ancestry` to simulate a single genealogy for a sample of $n=9$ mutations sampled from a Wright-Fisher population of size $N_e =10^6$. We asumme a 1kb stretch of sequence and `sim_mutations` to simulate mutations occuring on this genealogy at a rate $\\mu = 10^{-9}$. These parameters correspond roughly to *Drosophila melanogaster*."
   ]
  },
  {
   "cell_type": "code",
   "execution_count": 907,
   "metadata": {},
   "outputs": [
    {
     "data": {
      "image/svg+xml": [
       "<svg xmlns=\"http://www.w3.org/2000/svg\" xmlns:ev=\"http://www.w3.org/2001/xml-events\" xmlns:xlink=\"http://www.w3.org/1999/xlink\" baseProfile=\"full\" height=\"500\" version=\"1.1\" width=\"500\"><defs><style type=\"text/css\"><![CDATA[.background path {fill: #808080; fill-opacity: 0}.background path:nth-child(odd) {fill-opacity: .1}.axes {font-size: 14px}.x-axis .tick .lab {font-weight: bold; dominant-baseline: hanging}.axes, .tree {font-size: 14px; text-anchor: middle}.axes line, .edge {stroke: black; fill: none}.axes .ax-skip {stroke-dasharray: 4}.y-axis .grid {stroke: #FAFAFA}.node > .sym {fill: black; stroke: none}.site > .sym {stroke: black}.mut text {fill: red; font-style: italic}.mut.extra text {fill: hotpink}.mut line {fill: none; stroke: none}.mut .sym {fill: none; stroke: red}.mut.extra .sym {stroke: hotpink}.node .mut .sym {stroke-width: 1.5px}.tree text, .tree-sequence text {dominant-baseline: central}.plotbox .lab.lft {text-anchor: end}.plotbox .lab.rgt {text-anchor: start}]]></style></defs><g class=\"tree-sequence\"><g class=\"background\"><path d=\"M56.8,0 l423.2,0 l0,438.2 l0,25 l0,5 l-423.2,0 l0,-5 l0,-25 l0,-438.2z\"/></g><g class=\"axes\"><g class=\"x-axis\"><g class=\"title\" transform=\"translate(268.4 500)\"><text class=\"lab\" text-anchor=\"middle\" transform=\"translate(0 -11)\">Genome position</text></g><line class=\"ax-line\" x1=\"56.8\" x2=\"480\" y1=\"463.2\" y2=\"463.2\"/><g class=\"ticks\"><g class=\"tick\" transform=\"translate(56.8 463.2)\"><line x1=\"0\" x2=\"0\" y1=\"0\" y2=\"5\"/><g transform=\"translate(0 6)\"><text class=\"lab\">0</text></g></g><g class=\"tick\" transform=\"translate(480 463.2)\"><line x1=\"0\" x2=\"0\" y1=\"0\" y2=\"5\"/><g transform=\"translate(0 6)\"><text class=\"lab\">1000</text></g></g></g><g class=\"site s0\" transform=\"translate(171.487 463.2)\"><line class=\"sym\" x1=\"0\" x2=\"0\" y1=\"0\" y2=\"-10\"/><g class=\"mut m0\"><polyline class=\"sym\" points=\"2.5,-6.5 0,-1.5 -2.5,-6.5\"/></g></g><g class=\"site s1\" transform=\"translate(237.083 463.2)\"><line class=\"sym\" x1=\"0\" x2=\"0\" y1=\"0\" y2=\"-10\"/><g class=\"mut m1\"><polyline class=\"sym\" points=\"2.5,-6.5 0,-1.5 -2.5,-6.5\"/></g></g><g class=\"site s2\" transform=\"translate(372.93 463.2)\"><line class=\"sym\" x1=\"0\" x2=\"0\" y1=\"0\" y2=\"-10\"/><g class=\"mut m2\"><polyline class=\"sym\" points=\"2.5,-6.5 0,-1.5 -2.5,-6.5\"/></g></g><g class=\"site s3\" transform=\"translate(406.363 463.2)\"><line class=\"sym\" x1=\"0\" x2=\"0\" y1=\"0\" y2=\"-10\"/><g class=\"mut m3\"><polyline class=\"sym\" points=\"2.5,-6.5 0,-1.5 -2.5,-6.5\"/></g></g><g class=\"site s4\" transform=\"translate(415.674 463.2)\"><line class=\"sym\" x1=\"0\" x2=\"0\" y1=\"0\" y2=\"-10\"/><g class=\"mut m4\"><polyline class=\"sym\" points=\"2.5,-6.5 0,-1.5 -2.5,-6.5\"/></g></g><g class=\"site s5\" transform=\"translate(427.1 463.2)\"><line class=\"sym\" x1=\"0\" x2=\"0\" y1=\"0\" y2=\"-10\"/><g class=\"mut m5\"><polyline class=\"sym\" points=\"2.5,-6.5 0,-1.5 -2.5,-6.5\"/></g></g></g><g class=\"y-axis\"><g class=\"title\" transform=\"translate(0 215.7)\"><text class=\"lab\" text-anchor=\"middle\" transform=\"translate(11) rotate(-90)\">Time (generations)</text></g><line class=\"ax-line\" x1=\"56.8\" x2=\"56.8\" y1=\"421.4\" y2=\"10\"/><g class=\"ticks\"><g class=\"tick\" transform=\"translate(56.8 421.4)\"><line x1=\"0\" x2=\"-5\" y1=\"0\" y2=\"0\"/><g transform=\"translate(-6 0)\"><text class=\"lab\" text-anchor=\"end\">0.00</text></g></g><g class=\"tick\" transform=\"translate(56.8 421.157)\"><line x1=\"0\" x2=\"-5\" y1=\"0\" y2=\"0\"/><g transform=\"translate(-6 0)\"><text class=\"lab\" text-anchor=\"end\">1092.36</text></g></g><g class=\"tick\" transform=\"translate(56.8 416.783)\"><line x1=\"0\" x2=\"-5\" y1=\"0\" y2=\"0\"/><g transform=\"translate(-6 0)\"><text class=\"lab\" text-anchor=\"end\">20755.36</text></g></g><g class=\"tick\" transform=\"translate(56.8 406.169)\"><line x1=\"0\" x2=\"-5\" y1=\"0\" y2=\"0\"/><g transform=\"translate(-6 0)\"><text class=\"lab\" text-anchor=\"end\">68474.46</text></g></g><g class=\"tick\" transform=\"translate(56.8 404.582)\"><line x1=\"0\" x2=\"-5\" y1=\"0\" y2=\"0\"/><g transform=\"translate(-6 0)\"><text class=\"lab\" text-anchor=\"end\">75612.10</text></g></g><g class=\"tick\" transform=\"translate(56.8 392.212)\"><line x1=\"0\" x2=\"-5\" y1=\"0\" y2=\"0\"/><g transform=\"translate(-6 0)\"><text class=\"lab\" text-anchor=\"end\">131224.81</text></g></g><g class=\"tick\" transform=\"translate(56.8 372.756)\"><line x1=\"0\" x2=\"-5\" y1=\"0\" y2=\"0\"/><g transform=\"translate(-6 0)\"><text class=\"lab\" text-anchor=\"end\">218695.36</text></g></g><g class=\"tick\" transform=\"translate(56.8 333.026)\"><line x1=\"0\" x2=\"-5\" y1=\"0\" y2=\"0\"/><g transform=\"translate(-6 0)\"><text class=\"lab\" text-anchor=\"end\">397309.93</text></g></g><g class=\"tick\" transform=\"translate(56.8 26.8)\"><line x1=\"0\" x2=\"-5\" y1=\"0\" y2=\"0\"/><g transform=\"translate(-6 0)\"><text class=\"lab\" text-anchor=\"end\">1774039.31</text></g></g></g></g></g><g class=\"plotbox trees\"><g class=\"tree t0\" transform=\"translate(56.8 0)\"><g class=\"plotbox\"><g class=\"c2 node n16 p0 root\" transform=\"translate(282.119 26.8)\"><g class=\"a16 i4 leaf m2 m4 m5 node n4 p0 s2 s4 s5 sample\" transform=\"translate(99.7917 394.6)\"><path class=\"edge\" d=\"M 0 0 V -394.6 H -99.7917\"/><g class=\"mut m4 s4\" transform=\"translate(0 -343.053)\"><line x1=\"0\" x2=\"0\" y1=\"0\" y2=\"343.053\"/><path class=\"sym\" d=\"M -3,-3 l 6,6 M -3,3 l 6,-6\"/><text class=\"lab rgt\" transform=\"translate(5 0)\">4</text></g><g class=\"mut m2 s2\" transform=\"translate(0 -255.887)\"><line x1=\"0\" x2=\"0\" y1=\"0\" y2=\"255.887\"/><path class=\"sym\" d=\"M -3,-3 l 6,6 M -3,3 l 6,-6\"/><text class=\"lab rgt\" transform=\"translate(5 0)\">2</text></g><g class=\"mut m5 s5\" transform=\"translate(0 -240.325)\"><line x1=\"0\" x2=\"0\" y1=\"0\" y2=\"240.325\"/><path class=\"sym\" d=\"M -3,-3 l 6,6 M -3,3 l 6,-6\"/><text class=\"lab rgt\" transform=\"translate(5 0)\">5</text></g><rect class=\"sym\" height=\"6\" width=\"6\" x=\"-3\" y=\"-3\"/><text class=\"lab\" transform=\"translate(0 11)\">4</text></g><g class=\"a16 c2 m0 m3 node n15 p0 s0 s3\" transform=\"translate(-99.7917 306.226)\"><g class=\"a15 c2 node n13 p0\" transform=\"translate(-87.8167 59.1854)\"><g class=\"a13 i6 leaf node n6 p0 sample\" transform=\"translate(31.9333 29.1884)\"><path class=\"edge\" d=\"M 0 0 V -29.1884 H -31.9333\"/><rect class=\"sym\" height=\"6\" width=\"6\" x=\"-3\" y=\"-3\"/><text class=\"lab\" transform=\"translate(0 11)\">6</text></g><g class=\"a13 c2 node n11 p0\" transform=\"translate(-31.9333 13.9576)\"><g class=\"a11 i0 leaf node n0 p0 sample\" transform=\"translate(-21.2889 15.2308)\"><path class=\"edge\" d=\"M 0 0 V -15.2308 H 21.2889\"/><rect class=\"sym\" height=\"6\" width=\"6\" x=\"-3\" y=\"-3\"/><text class=\"lab\" transform=\"translate(0 11)\">0</text></g><g class=\"a11 i3 leaf node n3 p0 sample\" transform=\"translate(21.2889 15.2308)\"><path class=\"edge\" d=\"M 0 0 V -15.2308 H -21.2889\"/><rect class=\"sym\" height=\"6\" width=\"6\" x=\"-3\" y=\"-3\"/><text class=\"lab\" transform=\"translate(0 11)\">3</text></g><path class=\"edge\" d=\"M 0 0 V -13.9576 H 31.9333\"/><circle class=\"sym\" cx=\"0\" cy=\"0\" r=\"3\"/><text class=\"lab lft\" transform=\"translate(-3 -7.0)\">11</text></g><path class=\"edge\" d=\"M 0 0 V -59.1854 H 87.8167\"/><circle class=\"sym\" cx=\"0\" cy=\"0\" r=\"3\"/><text class=\"lab lft\" transform=\"translate(-3 -7.0)\">13</text></g><g class=\"a15 c2 node n14 p0\" transform=\"translate(87.8167 39.7293)\"><g class=\"a14 c2 m1 node n10 p0 s1\" transform=\"translate(-47.9 44.0278)\"><g class=\"a10 i5 leaf node n5 p0 sample\" transform=\"translate(31.9333 4.61662)\"><path class=\"edge\" d=\"M 0 0 V -4.61662 H -31.9333\"/><rect class=\"sym\" height=\"6\" width=\"6\" x=\"-3\" y=\"-3\"/><text class=\"lab\" transform=\"translate(0 11)\">5</text></g><g class=\"a10 c2 node n9 p0\" transform=\"translate(-31.9333 4.37365)\"><g class=\"a9 i1 leaf node n1 p0 sample\" transform=\"translate(-21.2889 0.242973)\"><path class=\"edge\" d=\"M 0 0 V -0.242973 H 21.2889\"/><rect class=\"sym\" height=\"6\" width=\"6\" x=\"-3\" y=\"-3\"/><text class=\"lab\" transform=\"translate(0 11)\">1</text></g><g class=\"a9 i7 leaf node n7 p0 sample\" transform=\"translate(21.2889 0.242973)\"><path class=\"edge\" d=\"M 0 0 V -0.242973 H -21.2889\"/><rect class=\"sym\" height=\"6\" width=\"6\" x=\"-3\" y=\"-3\"/><text class=\"lab\" transform=\"translate(0 11)\">7</text></g><path class=\"edge\" d=\"M 0 0 V -4.37365 H 31.9333\"/><circle class=\"sym\" cx=\"0\" cy=\"0\" r=\"3\"/><text class=\"lab lft\" transform=\"translate(-3 -7.0)\">9</text></g><path class=\"edge\" d=\"M 0 0 V -44.0278 H 47.9\"/><g class=\"mut m1 s1\" transform=\"translate(0 -14.9496)\"><line x1=\"0\" x2=\"0\" y1=\"0\" y2=\"14.9496\"/><path class=\"sym\" d=\"M -3,-3 l 6,6 M -3,3 l 6,-6\"/><text class=\"lab lft\" transform=\"translate(-5 0)\">1</text></g><circle class=\"sym\" cx=\"0\" cy=\"0\" r=\"3\"/><text class=\"lab lft\" transform=\"translate(-3 -7.0)\">10</text></g><g class=\"a14 c2 node n12 p0\" transform=\"translate(47.9 31.826)\"><g class=\"a12 i2 leaf node n2 p0 sample\" transform=\"translate(-21.2889 16.8184)\"><path class=\"edge\" d=\"M 0 0 V -16.8184 H 21.2889\"/><rect class=\"sym\" height=\"6\" width=\"6\" x=\"-3\" y=\"-3\"/><text class=\"lab\" transform=\"translate(0 11)\">2</text></g><g class=\"a12 i8 leaf node n8 p0 sample\" transform=\"translate(21.2889 16.8184)\"><path class=\"edge\" d=\"M 0 0 V -16.8184 H -21.2889\"/><rect class=\"sym\" height=\"6\" width=\"6\" x=\"-3\" y=\"-3\"/><text class=\"lab\" transform=\"translate(0 11)\">8</text></g><path class=\"edge\" d=\"M 0 0 V -31.826 H -47.9\"/><circle class=\"sym\" cx=\"0\" cy=\"0\" r=\"3\"/><text class=\"lab rgt\" transform=\"translate(3 -7.0)\">12</text></g><path class=\"edge\" d=\"M 0 0 V -39.7293 H -87.8167\"/><circle class=\"sym\" cx=\"0\" cy=\"0\" r=\"3\"/><text class=\"lab rgt\" transform=\"translate(3 -7.0)\">14</text></g><path class=\"edge\" d=\"M 0 0 V -306.226 H 99.7917\"/><g class=\"mut m3 s3\" transform=\"translate(0 -286.364)\"><line x1=\"0\" x2=\"0\" y1=\"0\" y2=\"286.364\"/><path class=\"sym\" d=\"M -3,-3 l 6,6 M -3,3 l 6,-6\"/><text class=\"lab lft\" transform=\"translate(-5 0)\">3</text></g><g class=\"mut m0 s0\" transform=\"translate(0 -241.864)\"><line x1=\"0\" x2=\"0\" y1=\"0\" y2=\"241.864\"/><path class=\"sym\" d=\"M -3,-3 l 6,6 M -3,3 l 6,-6\"/><text class=\"lab lft\" transform=\"translate(-5 0)\">0</text></g><circle class=\"sym\" cx=\"0\" cy=\"0\" r=\"3\"/><text class=\"lab lft\" transform=\"translate(-3 -7.0)\">15</text></g><circle class=\"sym\" cx=\"0\" cy=\"0\" r=\"3\"/><text class=\"lab\" transform=\"translate(0 -11)\">16</text></g></g></g></g></g></svg>"
      ],
      "text/plain": [
       "<IPython.core.display.SVG object>"
      ]
     },
     "metadata": {},
     "output_type": "display_data"
    }
   ],
   "source": [
    "simple_ts = msprime.sim_ancestry(9 , ploidy=1, population_size=1_000_000,sequence_length=1000, random_seed=34);\n",
    "#note that e-9 is shorthand for *10^(-9\n",
    "ts_with_muts = msprime.sim_mutations(simple_ts, rate=1e-9,  random_seed=34)\n",
    "display(SVG(ts_with_muts.draw_svg(size=(500, 500),y_axis=True)))"
   ]
  },
  {
   "cell_type": "code",
   "execution_count": 908,
   "metadata": {},
   "outputs": [
    {
     "data": {
      "text/plain": [
       "4461242.984475444"
      ]
     },
     "execution_count": 908,
     "metadata": {},
     "output_type": "execute_result"
    }
   ],
   "source": [
    "tree= ts_with_muts.first()\n",
    "tree.total_branch_length"
   ]
  },
  {
   "cell_type": "markdown",
   "metadata": {},
   "source": [
    "<div class=\"alert alert-block alert-success\">    \n",
    "    <b>Exercise 1:</b> How many mutations are in this genealogy? Looking at the tree above, can you work out the SFS?\n",
    "    \n",
    "**Hint:** Typing in the name of the tree produces a useful report\n",
    "</div>"
   ]
  },
  {
   "cell_type": "code",
   "execution_count": 909,
   "metadata": {},
   "outputs": [
    {
     "data": {
      "text/html": [
       "\n",
       "            <div>\n",
       "              <style>\n",
       "                .tskit-table thead tr th {text-align: left;padding: 0.5em 0.5em;}\n",
       "                .tskit-table tbody tr td {padding: 0.5em 0.5em;}\n",
       "                .tskit-table tbody tr td:first-of-type {text-align: left;}\n",
       "                .tskit-details-label {vertical-align: top; padding-right:5px;}\n",
       "                .tskit-table-set {display: inline-flex;flex-wrap: wrap;margin: -12px 0 0 -12px;width: calc(100% + 12px);}\n",
       "                .tskit-table-set-table {margin: 12px 0 0 12px;}\n",
       "                details {display: inline-block;}\n",
       "                summary {cursor: pointer; outline: 0; display: list-item;}\n",
       "              </style>\n",
       "              <div class=\"tskit-table-set\">\n",
       "                <div class=\"tskit-table-set-table\">\n",
       "                  <table class=\"tskit-table\">\n",
       "                    <thead>\n",
       "                      <tr>\n",
       "                        <th style=\"padding:0;line-height:21px;\">\n",
       "                          <img style=\"height: 32px;display: inline-block;padding: 3px 5px 3px 0;\" src=\"https://raw.githubusercontent.com/tskit-dev/administrative/main/tskit_logo.svg\"/>\n",
       "                          <a target=\"_blank\" href=\"https://tskit.dev/tskit/docs/latest/python-api.html#the-treesequence-class\"> Tree Sequence </a>\n",
       "                        </th>\n",
       "                      </tr>\n",
       "                    </thead>\n",
       "                    <tbody>\n",
       "                      <tr><td>Trees</td><td>1</td></tr>\n",
       "                      <tr><td>Sequence Length</td><td>1000.0</td></tr>\n",
       "                      <tr><td>Time Units</td><td>generations</td></tr>\n",
       "                      <tr><td>Sample Nodes</td><td>9</td></tr>\n",
       "                      <tr><td>Total Size</td><td>3.8 KiB</td></tr>\n",
       "                      <tr>\n",
       "                        <td>Metadata</td><td style=\"text-align: left;\">No Metadata</td></tr>\n",
       "                    </tbody>\n",
       "                  </table>\n",
       "                </div>\n",
       "                <div class=\"tskit-table-set-table\">\n",
       "                  <table class=\"tskit-table\">\n",
       "                    <thead>\n",
       "                      <tr>\n",
       "                        <th style=\"line-height:21px;\">Table</th>\n",
       "                        <th>Rows</th>\n",
       "                        <th>Size</th>\n",
       "                        <th>Has Metadata</th>\n",
       "                      </tr>\n",
       "                    </thead>\n",
       "                    <tbody>\n",
       "                    \n",
       "                  <tr>\n",
       "                    <td>Edges</td>\n",
       "                      <td>16</td>\n",
       "                      <td>520 Bytes</td>\n",
       "                      <td style=\"text-align: center;\">\n",
       "                        \n",
       "                      </td>\n",
       "                    </tr>\n",
       "                \n",
       "                  <tr>\n",
       "                    <td>Individuals</td>\n",
       "                      <td>9</td>\n",
       "                      <td>276 Bytes</td>\n",
       "                      <td style=\"text-align: center;\">\n",
       "                        \n",
       "                      </td>\n",
       "                    </tr>\n",
       "                \n",
       "                  <tr>\n",
       "                    <td>Migrations</td>\n",
       "                      <td>0</td>\n",
       "                      <td>8 Bytes</td>\n",
       "                      <td style=\"text-align: center;\">\n",
       "                        \n",
       "                      </td>\n",
       "                    </tr>\n",
       "                \n",
       "                  <tr>\n",
       "                    <td>Mutations</td>\n",
       "                      <td>6</td>\n",
       "                      <td>238 Bytes</td>\n",
       "                      <td style=\"text-align: center;\">\n",
       "                        \n",
       "                      </td>\n",
       "                    </tr>\n",
       "                \n",
       "                  <tr>\n",
       "                    <td>Nodes</td>\n",
       "                      <td>17</td>\n",
       "                      <td>484 Bytes</td>\n",
       "                      <td style=\"text-align: center;\">\n",
       "                        \n",
       "                      </td>\n",
       "                    </tr>\n",
       "                \n",
       "                  <tr>\n",
       "                    <td>Populations</td>\n",
       "                      <td>1</td>\n",
       "                      <td>224 Bytes</td>\n",
       "                      <td style=\"text-align: center;\">\n",
       "                        ✅\n",
       "                      </td>\n",
       "                    </tr>\n",
       "                \n",
       "                  <tr>\n",
       "                    <td>Provenances</td>\n",
       "                      <td>2</td>\n",
       "                      <td>1.7 KiB</td>\n",
       "                      <td style=\"text-align: center;\">\n",
       "                        \n",
       "                      </td>\n",
       "                    </tr>\n",
       "                \n",
       "                  <tr>\n",
       "                    <td>Sites</td>\n",
       "                      <td>6</td>\n",
       "                      <td>166 Bytes</td>\n",
       "                      <td style=\"text-align: center;\">\n",
       "                        \n",
       "                      </td>\n",
       "                    </tr>\n",
       "                \n",
       "                    </tbody>\n",
       "                  </table>\n",
       "                </div>\n",
       "              </div>\n",
       "            </div>\n",
       "            "
      ],
      "text/plain": [
       "<tskit.trees.TreeSequence at 0x165cfcfe0>"
      ]
     },
     "execution_count": 909,
     "metadata": {},
     "output_type": "execute_result"
    }
   ],
   "source": [
    "#SOL\n",
    "# (3,0,1,0,0,0,0,2)\n",
    "ts_with_muts"
   ]
  },
  {
   "cell_type": "markdown",
   "metadata": {},
   "source": [
    "<div class=\"alert alert-block alert-warning\">\n",
    "    <b>Python recipe:</b> We can find the corresponding SFS using the <code>tskit</code> method <a href=\"https://tskit.dev/tskit/docs/stable/python-api.html?highlight=frequency#tskit.TreeSequence.allele_frequency_spectrum\"><code>.allele_frequency_spectrum()</code></a>. The output is a numpy array. Note that the number of singletons is at position 1 not 0, i.e. <code>simple_sfs_site[1]</code>. The first (0th) and last (nth) entry of the SFS includes the counts of mutation of frequency $0$ in $n$ in the focal population (but which may vary in some other population). Since we are only considering a single population, both $0$ and $n$ types have zero counts by definition.\n",
    "</div>"
   ]
  },
  {
   "cell_type": "markdown",
   "metadata": {},
   "source": [
    "<div class=\"alert alert-block alert-success\">\n",
    "    <b>Exercise 2:</b> Read the documentation for <a href=\"https://tskit.dev/tskit/docs/stable/python-api.html?highlight=frequency#tskit.TreeSequence.allele_frequency_spectrum\"><code>.allele_frequency_spectrum()</code></a>, use this method to find the SFS of your tree and store the result as a new variable <code>simple_sfs_site</code>. How many entries does the SFS have? Is it folded or not? Does the output agree with your SFS?\n",
    "</div>"
   ]
  },
  {
   "cell_type": "code",
   "execution_count": 958,
   "metadata": {},
   "outputs": [
    {
     "data": {
      "text/plain": [
       "array([0.   , 0.005, 0.   , 0.001, 0.   , 0.   , 0.   , 0.   , 0.   ,\n",
       "       0.   ])"
      ]
     },
     "execution_count": 958,
     "metadata": {},
     "output_type": "execute_result"
    }
   ],
   "source": [
    "#SOL\n",
    "simple_sfs_site = ts_with_muts.allele_frequency_spectrum()\n",
    "simple_sfs_site"
   ]
  },
  {
   "cell_type": "markdown",
   "metadata": {},
   "source": [
    "# fingure out how to calculate branch_baesd SFS"
   ]
  },
  {
   "cell_type": "code",
   "execution_count": 910,
   "metadata": {},
   "outputs": [
    {
     "name": "stdout",
     "output_type": "stream",
     "text": [
      "(0.0, 1000.0) [] [Edge(left=0.0, right=1000.0, parent=9, child=1, metadata=b'', id=0), Edge(left=0.0, right=1000.0, parent=9, child=7, metadata=b'', id=1), Edge(left=0.0, right=1000.0, parent=10, child=5, metadata=b'', id=2), Edge(left=0.0, right=1000.0, parent=10, child=9, metadata=b'', id=3), Edge(left=0.0, right=1000.0, parent=11, child=0, metadata=b'', id=4), Edge(left=0.0, right=1000.0, parent=11, child=3, metadata=b'', id=5), Edge(left=0.0, right=1000.0, parent=12, child=2, metadata=b'', id=6), Edge(left=0.0, right=1000.0, parent=12, child=8, metadata=b'', id=7), Edge(left=0.0, right=1000.0, parent=13, child=6, metadata=b'', id=8), Edge(left=0.0, right=1000.0, parent=13, child=11, metadata=b'', id=9), Edge(left=0.0, right=1000.0, parent=14, child=10, metadata=b'', id=10), Edge(left=0.0, right=1000.0, parent=14, child=12, metadata=b'', id=11), Edge(left=0.0, right=1000.0, parent=15, child=13, metadata=b'', id=12), Edge(left=0.0, right=1000.0, parent=15, child=14, metadata=b'', id=13), Edge(left=0.0, right=1000.0, parent=16, child=4, metadata=b'', id=14), Edge(left=0.0, right=1000.0, parent=16, child=15, metadata=b'', id=15)]\n"
     ]
    }
   ],
   "source": [
    "tree= ts_with_muts.first()\n",
    "# for i in ts_with_muts.edges():\n",
    "for (t_left, t_right), edges_out, edges_in in ts_with_muts.edge_diffs():\n",
    "    # ts_with_muts.branch_length(i)\n",
    "    print((t_left, t_right), edges_out, edges_in)"
   ]
  },
  {
   "cell_type": "code",
   "execution_count": 911,
   "metadata": {},
   "outputs": [
    {
     "name": "stdout",
     "output_type": "stream",
     "text": [
      "0 Node(id=0, flags=1, time=0.0, population=0, individual=0, metadata=b'')\n",
      "1 Node(id=1, flags=1, time=0.0, population=0, individual=1, metadata=b'')\n",
      "2 Node(id=2, flags=1, time=0.0, population=0, individual=2, metadata=b'')\n",
      "3 Node(id=3, flags=1, time=0.0, population=0, individual=3, metadata=b'')\n",
      "4 Node(id=4, flags=1, time=0.0, population=0, individual=4, metadata=b'')\n",
      "5 Node(id=5, flags=1, time=0.0, population=0, individual=5, metadata=b'')\n",
      "6 Node(id=6, flags=1, time=0.0, population=0, individual=6, metadata=b'')\n",
      "7 Node(id=7, flags=1, time=0.0, population=0, individual=7, metadata=b'')\n",
      "8 Node(id=8, flags=1, time=0.0, population=0, individual=8, metadata=b'')\n",
      "9 Node(id=9, flags=0, time=1092.3573727459354, population=0, individual=-1, metadata=b'')\n",
      "10 Node(id=10, flags=0, time=20755.361944447217, population=0, individual=-1, metadata=b'')\n",
      "11 Node(id=11, flags=0, time=68474.46002637298, population=0, individual=-1, metadata=b'')\n",
      "12 Node(id=12, flags=0, time=75612.10021334606, population=0, individual=-1, metadata=b'')\n",
      "13 Node(id=13, flags=0, time=131224.80582032498, population=0, individual=-1, metadata=b'')\n",
      "14 Node(id=14, flags=0, time=218695.3610685253, population=0, individual=-1, metadata=b'')\n",
      "15 Node(id=15, flags=0, time=397309.92664794344, population=0, individual=-1, metadata=b'')\n",
      "16 Node(id=16, flags=0, time=1774039.305690869, population=0, individual=-1, metadata=b'')\n"
     ]
    }
   ],
   "source": [
    "tree= ts_with_muts.first()\n",
    "# for i in ts_with_muts.edges():\n",
    "for i,j in enumerate(ts_with_muts.nodes()):\n",
    "    # ts_with_muts.branch_length(i)\n",
    "    print(i,j)"
   ]
  },
  {
   "cell_type": "code",
   "execution_count": 912,
   "metadata": {},
   "outputs": [
    {
     "name": "stdout",
     "output_type": "stream",
     "text": [
      "0 9 1 19663.00457170128 1092.3573727459354\n",
      "1 9 7 19663.00457170128 1092.3573727459354\n",
      "2 10 5 197939.99912407808 20755.361944447217\n",
      "3 10 9 197939.99912407808 19663.00457170128\n",
      "4 11 0 62750.345793952 68474.46002637298\n",
      "5 11 3 62750.345793952 68474.46002637298\n",
      "6 12 2 143083.26085517922 75612.10021334606\n",
      "7 12 8 143083.26085517922 75612.10021334606\n",
      "8 13 6 266085.12082761846 131224.80582032498\n",
      "9 13 11 266085.12082761846 62750.345793952\n",
      "10 14 10 178614.56557941815 197939.99912407808\n",
      "11 14 12 178614.56557941815 143083.26085517922\n",
      "12 15 13 1376729.3790429255 266085.12082761846\n",
      "13 15 14 1376729.3790429255 178614.56557941815\n",
      "14 16 4 0 1774039.305690869\n",
      "15 16 15 0 1376729.3790429255\n"
     ]
    }
   ],
   "source": [
    "tree= ts_with_muts.first()\n",
    "# for i in ts_with_muts.edges():\n",
    "a=[]\n",
    "for i,j in enumerate(ts_with_muts.edges()):\n",
    "    # ts_with_muts.branch_length(i)\n",
    "    print(i,j.parent,j.child,tree.get_branch_length(j.parent),tree.get_branch_length(j.child))\n",
    "    a.append([j.parent,j.child,tree.get_branch_length(j.child)])"
   ]
  },
  {
   "cell_type": "code",
   "execution_count": 922,
   "metadata": {},
   "outputs": [
    {
     "data": {
      "text/plain": [
       "[[9, 1, 1092.3573727459354],\n",
       " [9, 7, 1092.3573727459354],\n",
       " [10, 5, 20755.361944447217],\n",
       " [10, 9, 19663.00457170128],\n",
       " [11, 0, 68474.46002637298],\n",
       " [11, 3, 68474.46002637298],\n",
       " [12, 2, 75612.10021334606],\n",
       " [12, 8, 75612.10021334606],\n",
       " [13, 6, 131224.80582032498],\n",
       " [13, 11, 62750.345793952],\n",
       " [14, 10, 197939.99912407808],\n",
       " [14, 12, 143083.26085517922],\n",
       " [15, 13, 266085.12082761846],\n",
       " [15, 14, 178614.56557941815],\n",
       " [16, 4, 1774039.305690869],\n",
       " [16, 15, 1376729.3790429255]]"
      ]
     },
     "execution_count": 922,
     "metadata": {},
     "output_type": "execute_result"
    }
   ],
   "source": [
    "a"
   ]
  },
  {
   "cell_type": "code",
   "execution_count": 915,
   "metadata": {},
   "outputs": [],
   "source": [
    "b=0\n",
    "all=0\n",
    "dic_sign={}\n",
    "for j in range(0,10):\n",
    "    dic_sign[j]=1\n",
    "for i in a:\n",
    "    all+=i[2]\n",
    "    dic_sign[i[0]]=dic_sign[i[1]]+1"
   ]
  },
  {
   "cell_type": "code",
   "execution_count": 916,
   "metadata": {},
   "outputs": [
    {
     "data": {
      "text/plain": [
       "4461242.984475444"
      ]
     },
     "execution_count": 916,
     "metadata": {},
     "output_type": "execute_result"
    }
   ],
   "source": [
    "all"
   ]
  },
  {
   "cell_type": "code",
   "execution_count": 917,
   "metadata": {},
   "outputs": [
    {
     "data": {
      "text/plain": [
       "{0: 1,\n",
       " 1: 1,\n",
       " 2: 1,\n",
       " 3: 1,\n",
       " 4: 1,\n",
       " 5: 1,\n",
       " 6: 1,\n",
       " 7: 1,\n",
       " 8: 1,\n",
       " 9: 2,\n",
       " 10: 3,\n",
       " 11: 2,\n",
       " 12: 2,\n",
       " 13: 3,\n",
       " 14: 3,\n",
       " 15: 4,\n",
       " 16: 5}"
      ]
     },
     "execution_count": 917,
     "metadata": {},
     "output_type": "execute_result"
    }
   ],
   "source": [
    "dic_sign"
   ]
  },
  {
   "cell_type": "code",
   "execution_count": 918,
   "metadata": {},
   "outputs": [
    {
     "data": {
      "text/plain": [
       "array([1, 2, 3, 4, 5])"
      ]
     },
     "execution_count": 918,
     "metadata": {},
     "output_type": "execute_result"
    }
   ],
   "source": [
    "np.unique(list(dic_sign.values()))"
   ]
  },
  {
   "cell_type": "code",
   "execution_count": 919,
   "metadata": {
    "scrolled": true
   },
   "outputs": [],
   "source": [
    "f={}\n",
    "for i in np.unique(list(dic_sign.values())):\n",
    "    for j in dic_sign:\n",
    "        if dic_sign[j]==i:\n",
    "            f[i]=f.get(i,0)+tree.get_branch_length(j)/2"
   ]
  },
  {
   "cell_type": "code",
   "execution_count": 920,
   "metadata": {},
   "outputs": [
    {
     "data": {
      "text/plain": [
       "{1: 1108188.6543402856,\n",
       " 2: 112748.30561041625,\n",
       " 3: 321319.84276555735,\n",
       " 4: 688364.6895214628,\n",
       " 5: 0.0}"
      ]
     },
     "execution_count": 920,
     "metadata": {},
     "output_type": "execute_result"
    }
   ],
   "source": [
    "f"
   ]
  },
  {
   "cell_type": "code",
   "execution_count": 921,
   "metadata": {},
   "outputs": [
    {
     "data": {
      "text/plain": [
       "array([      0.        , 1796553.34386175,  112748.30561042,\n",
       "        232012.55997585,   89307.28278971,       0.        ,\n",
       "             0.        ,       0.        ,       0.        ,\n",
       "             0.        ])"
      ]
     },
     "execution_count": 921,
     "metadata": {},
     "output_type": "execute_result"
    }
   ],
   "source": [
    "simple_sfs_branch = ts_with_muts.allele_frequency_spectrum(mode = \"branch\")\n",
    "simple_sfs_branch"
   ]
  },
  {
   "cell_type": "code",
   "execution_count": 957,
   "metadata": {},
   "outputs": [
    {
     "data": {
      "text/plain": [
       "array([      0.        , 2216377.30868057,  225496.61122083,\n",
       "        464025.1199517 ,       0.        ,  178614.56557942,\n",
       "             0.        ,       0.        , 1376729.37904293,\n",
       "             0.        ])"
      ]
     },
     "execution_count": 957,
     "metadata": {},
     "output_type": "execute_result"
    }
   ],
   "source": [
    "simple_sfs_branch = ts_with_muts.allele_frequency_spectrum(mode = \"branch\",polarised=True)\n",
    "simple_sfs_branch"
   ]
  },
  {
   "cell_type": "code",
   "execution_count": 905,
   "metadata": {},
   "outputs": [
    {
     "data": {
      "text/plain": [
       "1737421.1402278633"
      ]
     },
     "execution_count": 905,
     "metadata": {},
     "output_type": "execute_result"
    }
   ],
   "source": [
    "sum(simple_sfs_branch)"
   ]
  },
  {
   "cell_type": "markdown",
   "metadata": {},
   "source": [
    "\n",
    "<div class=\"alert alert-block alert-success\">    \n",
    "    <b>Exercise 3:</b> Run <code>allele_frequency_spectrum</code> again, setting the option <code>span_normalise = False</code>. What is the difference?\n",
    "</div>"
   ]
  },
  {
   "cell_type": "code",
   "execution_count": 959,
   "metadata": {},
   "outputs": [
    {
     "data": {
      "text/plain": [
       "array([0., 3., 0., 1., 0., 0., 0., 0., 2., 0.])"
      ]
     },
     "execution_count": 959,
     "metadata": {},
     "output_type": "execute_result"
    }
   ],
   "source": [
    "#SOL\n",
    "simple_sfs_count = ts_with_muts.allele_frequency_spectrum(span_normalise = False, polarised = True)\n",
    "simple_sfs_count"
   ]
  },
  {
   "cell_type": "code",
   "execution_count": 960,
   "metadata": {},
   "outputs": [
    {
     "data": {
      "text/plain": [
       "array([0., 5., 0., 1., 0., 0., 0., 0., 0., 0.])"
      ]
     },
     "execution_count": 960,
     "metadata": {},
     "output_type": "execute_result"
    }
   ],
   "source": [
    "simple_sfs_count = ts_with_muts.allele_frequency_spectrum(span_normalise = False)\n",
    "simple_sfs_count"
   ]
  },
  {
   "cell_type": "markdown",
   "metadata": {},
   "source": [
    "<div class=\"alert alert-block alert-info\">\n",
    "    <b>PopGen:</b> The SFS is a set of counts which may or may not include the invariant category. We can normalize the SFS either by the total # of sites (<code>msprime</code> does this by default) or condition on variant sites only. In this case, invariant sites are removed and we divide by the total number of variant site counts. This choice of normalisations applies to many population genetic summary statistics! \n",
    "    \n",
    "The normalized SFS can be interpreted as a probability density function, i.e. it gives the probability that a randomly choosen site in the sequence is a singleton, doubleton etc.\n",
    "</div>"
   ]
  },
  {
   "cell_type": "markdown",
   "metadata": {},
   "source": [
    "<div class=\"alert alert-block alert-warning\">\n",
    "    <b>Python recipe:</b> it is much more efficient to <b>NOT</b> simulate mutations in the first place. Instead, we can set <code>mode=branch</code> to record the relative length of the $i_{ton}$ branch types.\n",
    "    </div>"
   ]
  },
  {
   "cell_type": "markdown",
   "metadata": {},
   "source": [
    "<div class=\"alert alert-block alert-success\">    \n",
    "    <b>Exercise 4:</b> Run <code>allele_frequency_spectrum</code> on <code>ts_with_muts</code> again, setting the option <code>mode=\"branch\"</code>. What is the difference? What are the units of these SFS entries?\n",
    "</div>"
   ]
  },
  {
   "cell_type": "code",
   "execution_count": 662,
   "metadata": {},
   "outputs": [
    {
     "data": {
      "text/plain": [
       "array([      0.        , 1656836.14784321,  119058.06910825,\n",
       "         26809.87880597,  185912.09499924,  893603.95422779,\n",
       "             0.        ,       0.        ,       0.        ,\n",
       "             0.        ,       0.        ,       0.        ])"
      ]
     },
     "execution_count": 662,
     "metadata": {},
     "output_type": "execute_result"
    }
   ],
   "source": [
    "#SOL\n",
    "simple_sfs_branch = ts_with_muts.allele_frequency_spectrum(mode = \"branch\")\n",
    "simple_sfs_branch"
   ]
  },
  {
   "cell_type": "code",
   "execution_count": 663,
   "metadata": {},
   "outputs": [
    {
     "data": {
      "text/plain": [
       "2882220.1449844493"
      ]
     },
     "execution_count": 663,
     "metadata": {},
     "output_type": "execute_result"
    }
   ],
   "source": [
    "sum(simple_sfs_branch)"
   ]
  },
  {
   "cell_type": "markdown",
   "metadata": {},
   "source": [
    "<div class=\"alert alert-block alert-success\">    \n",
    "    <b>Exercise 5:</b> Compare the site and branch based SFS of <code>simple_ts</code>. Why are some entries of the branch-based SFS non-zero, the corresponding entry of the mutation-based SFS is zero? What entries are zero in both versions of the SFS?\n",
    "</div>"
   ]
  },
  {
   "cell_type": "code",
   "execution_count": 664,
   "metadata": {},
   "outputs": [],
   "source": [
    "#SOL\n",
    "#The branch based SFS has zero entries for mutation types that do NOT have corresponding branches in the genealogy.\n",
    "#For example, there are no i=6 branches.\n",
    "#For an entry to be non-zero in the mutation based SFS, both the correspondong branch types need to be present \n",
    "#AND carry mutations."
   ]
  },
  {
   "cell_type": "markdown",
   "metadata": {},
   "source": [
    "So far, we have computed the SFS for individual trees under the coalescent. When using the SFS to summarize genome wide variation, we are computing an average SFS (i.e. the expectation) over many sites and genealogies. Let's use simulations to find the expectation for the average SFS.\n",
    "\n",
    "The code chunk below sets up 10,000 replicates. As in practical 1, we use a `for` loop to populate an empty numpy array (which we have called `sfs_table`) with the SFS of each replicate. \n",
    "\n",
    "**Note:**\n",
    "\n",
    "- `sfs_table` is a 2D array (check its shape to convince yourself)\n",
    "- we are using the `branch` mode to compute the SFS; i.e. the simulations do not include mutations"
   ]
  },
  {
   "cell_type": "code",
   "execution_count": 924,
   "metadata": {},
   "outputs": [],
   "source": [
    "num_replicates = 10_000\n",
    "nsamp = 9\n",
    "sfs_table = np.zeros((num_replicates, nsamp+1))\n",
    "replicates = msprime.sim_ancestry(9, ploidy=1, num_replicates=num_replicates,  population_size=1_000_000, random_seed=42)\n",
    "for replicate_index, ts in enumerate(replicates):\n",
    "    sfs = ts.allele_frequency_spectrum(mode=\"branch\", polarised=True)\n",
    "    sfs_table[replicate_index] = sfs"
   ]
  },
  {
   "cell_type": "markdown",
   "metadata": {},
   "source": [
    "# understand polorized"
   ]
  },
  {
   "cell_type": "code",
   "execution_count": 925,
   "metadata": {},
   "outputs": [
    {
     "data": {
      "text/plain": [
       "(array([   5,    6,    9, ..., 9989, 9993, 9996]),)"
      ]
     },
     "execution_count": 925,
     "metadata": {},
     "output_type": "execute_result"
    }
   ],
   "source": [
    "np.where(sfs_table[:,-2]>0)"
   ]
  },
  {
   "cell_type": "code",
   "execution_count": 938,
   "metadata": {},
   "outputs": [],
   "source": [
    "for replicate_index, ts in enumerate(replicates):\n",
    "    print(replicate_index, ts)"
   ]
  },
  {
   "cell_type": "code",
   "execution_count": 940,
   "metadata": {},
   "outputs": [
    {
     "data": {
      "image/svg+xml": [
       "<svg xmlns=\"http://www.w3.org/2000/svg\" xmlns:ev=\"http://www.w3.org/2001/xml-events\" xmlns:xlink=\"http://www.w3.org/1999/xlink\" baseProfile=\"full\" height=\"500\" version=\"1.1\" width=\"500\"><defs><style type=\"text/css\"><![CDATA[.background path {fill: #808080; fill-opacity: 0}.background path:nth-child(odd) {fill-opacity: .1}.axes {font-size: 14px}.x-axis .tick .lab {font-weight: bold; dominant-baseline: hanging}.axes, .tree {font-size: 14px; text-anchor: middle}.axes line, .edge {stroke: black; fill: none}.axes .ax-skip {stroke-dasharray: 4}.y-axis .grid {stroke: #FAFAFA}.node > .sym {fill: black; stroke: none}.site > .sym {stroke: black}.mut text {fill: red; font-style: italic}.mut.extra text {fill: hotpink}.mut line {fill: none; stroke: none}.mut .sym {fill: none; stroke: red}.mut.extra .sym {stroke: hotpink}.node .mut .sym {stroke-width: 1.5px}.tree text, .tree-sequence text {dominant-baseline: central}.plotbox .lab.lft {text-anchor: end}.plotbox .lab.rgt {text-anchor: start}]]></style></defs><g class=\"tree-sequence\"><g class=\"background\"><path d=\"M56.8,0 l423.2,0 l0,438.2 l0,25 l0,5 l-423.2,0 l0,-5 l0,-25 l0,-438.2z\"/></g><g class=\"axes\"><g class=\"x-axis\"><g class=\"title\" transform=\"translate(268.4 500)\"><text class=\"lab\" text-anchor=\"middle\" transform=\"translate(0 -11)\">Genome position</text></g><line class=\"ax-line\" x1=\"56.8\" x2=\"480\" y1=\"463.2\" y2=\"463.2\"/><g class=\"ticks\"><g class=\"tick\" transform=\"translate(56.8 463.2)\"><line x1=\"0\" x2=\"0\" y1=\"0\" y2=\"5\"/><g transform=\"translate(0 6)\"><text class=\"lab\">0</text></g></g><g class=\"tick\" transform=\"translate(480 463.2)\"><line x1=\"0\" x2=\"0\" y1=\"0\" y2=\"5\"/><g transform=\"translate(0 6)\"><text class=\"lab\">1</text></g></g></g></g><g class=\"y-axis\"><g class=\"title\" transform=\"translate(0 215.7)\"><text class=\"lab\" text-anchor=\"middle\" transform=\"translate(11) rotate(-90)\">Time (generations)</text></g><line class=\"ax-line\" x1=\"56.8\" x2=\"56.8\" y1=\"421.4\" y2=\"10\"/><g class=\"ticks\"><g class=\"tick\" transform=\"translate(56.8 421.4)\"><line x1=\"0\" x2=\"-5\" y1=\"0\" y2=\"0\"/><g transform=\"translate(-6 0)\"><text class=\"lab\" text-anchor=\"end\">0.00</text></g></g><g class=\"tick\" transform=\"translate(56.8 418.852)\"><line x1=\"0\" x2=\"-5\" y1=\"0\" y2=\"0\"/><g transform=\"translate(-6 0)\"><text class=\"lab\" text-anchor=\"end\">13670.29</text></g></g><g class=\"tick\" transform=\"translate(56.8 413.687)\"><line x1=\"0\" x2=\"-5\" y1=\"0\" y2=\"0\"/><g transform=\"translate(-6 0)\"><text class=\"lab\" text-anchor=\"end\">41379.56</text></g></g><g class=\"tick\" transform=\"translate(56.8 409.771)\"><line x1=\"0\" x2=\"-5\" y1=\"0\" y2=\"0\"/><g transform=\"translate(-6 0)\"><text class=\"lab\" text-anchor=\"end\">62390.37</text></g></g><g class=\"tick\" transform=\"translate(56.8 398.164)\"><line x1=\"0\" x2=\"-5\" y1=\"0\" y2=\"0\"/><g transform=\"translate(-6 0)\"><text class=\"lab\" text-anchor=\"end\">124659.23</text></g></g><g class=\"tick\" transform=\"translate(56.8 395.333)\"><line x1=\"0\" x2=\"-5\" y1=\"0\" y2=\"0\"/><g transform=\"translate(-6 0)\"><text class=\"lab\" text-anchor=\"end\">139849.04</text></g></g><g class=\"tick\" transform=\"translate(56.8 389.721)\"><line x1=\"0\" x2=\"-5\" y1=\"0\" y2=\"0\"/><g transform=\"translate(-6 0)\"><text class=\"lab\" text-anchor=\"end\">169956.26</text></g></g><g class=\"tick\" transform=\"translate(56.8 120.432)\"><line x1=\"0\" x2=\"-5\" y1=\"0\" y2=\"0\"/><g transform=\"translate(-6 0)\"><text class=\"lab\" text-anchor=\"end\">1614671.66</text></g></g><g class=\"tick\" transform=\"translate(56.8 26.8)\"><line x1=\"0\" x2=\"-5\" y1=\"0\" y2=\"0\"/><g transform=\"translate(-6 0)\"><text class=\"lab\" text-anchor=\"end\">2117002.66</text></g></g></g></g></g><g class=\"plotbox trees\"><g class=\"tree t0\" transform=\"translate(56.8 0)\"><g class=\"plotbox\"><g class=\"c2 node n16 p0 root\" transform=\"translate(274.801 26.8)\"><g class=\"a16 i7 leaf node n7 p0 sample\" transform=\"translate(107.11 394.6)\"><path class=\"edge\" d=\"M 0 0 V -394.6 H -107.11\"/><rect class=\"sym\" height=\"6\" width=\"6\" x=\"-3\" y=\"-3\"/><text class=\"lab\" transform=\"translate(0 11)\">7</text></g><g class=\"a16 c2 node n15 p0\" transform=\"translate(-107.11 93.6323)\"><g class=\"a15 c2 node n11 p0\" transform=\"translate(-105.114 289.338)\"><g class=\"a11 i0 leaf node n0 p0 sample\" transform=\"translate(-21.2889 11.6293)\"><path class=\"edge\" d=\"M 0 0 V -11.6293 H 21.2889\"/><rect class=\"sym\" height=\"6\" width=\"6\" x=\"-3\" y=\"-3\"/><text class=\"lab\" transform=\"translate(0 11)\">0</text></g><g class=\"a11 i2 leaf node n2 p0 sample\" transform=\"translate(21.2889 11.6293)\"><path class=\"edge\" d=\"M 0 0 V -11.6293 H -21.2889\"/><rect class=\"sym\" height=\"6\" width=\"6\" x=\"-3\" y=\"-3\"/><text class=\"lab\" transform=\"translate(0 11)\">2</text></g><path class=\"edge\" d=\"M 0 0 V -289.338 H 105.114\"/><circle class=\"sym\" cx=\"0\" cy=\"0\" r=\"3\"/><text class=\"lab lft\" transform=\"translate(-3 -7.0)\">11</text></g><g class=\"a15 c2 node n14 p0\" transform=\"translate(105.114 269.289)\"><g class=\"a14 i4 leaf node n4 p0 sample\" transform=\"translate(66.5278 31.6791)\"><path class=\"edge\" d=\"M 0 0 V -31.6791 H -66.5278\"/><rect class=\"sym\" height=\"6\" width=\"6\" x=\"-3\" y=\"-3\"/><text class=\"lab\" transform=\"translate(0 11)\">4</text></g><g class=\"a14 c2 node n13 p0\" transform=\"translate(-66.5278 5.61185)\"><g class=\"a13 c2 node n9 p0\" transform=\"translate(-58.5444 23.5192)\"><g class=\"a9 i1 leaf node n1 p0 sample\" transform=\"translate(-21.2889 2.54808)\"><path class=\"edge\" d=\"M 0 0 V -2.54808 H 21.2889\"/><rect class=\"sym\" height=\"6\" width=\"6\" x=\"-3\" y=\"-3\"/><text class=\"lab\" transform=\"translate(0 11)\">1</text></g><g class=\"a9 i6 leaf node n6 p0 sample\" transform=\"translate(21.2889 2.54808)\"><path class=\"edge\" d=\"M 0 0 V -2.54808 H -21.2889\"/><rect class=\"sym\" height=\"6\" width=\"6\" x=\"-3\" y=\"-3\"/><text class=\"lab\" transform=\"translate(0 11)\">6</text></g><path class=\"edge\" d=\"M 0 0 V -23.5192 H 58.5444\"/><circle class=\"sym\" cx=\"0\" cy=\"0\" r=\"3\"/><text class=\"lab lft\" transform=\"translate(-3 -7.0)\">9</text></g><g class=\"a13 c2 node n12 p0\" transform=\"translate(58.5444 2.83131)\"><g class=\"a12 i5 leaf node n5 p0 sample\" transform=\"translate(31.9333 23.2359)\"><path class=\"edge\" d=\"M 0 0 V -23.2359 H -31.9333\"/><rect class=\"sym\" height=\"6\" width=\"6\" x=\"-3\" y=\"-3\"/><text class=\"lab\" transform=\"translate(0 11)\">5</text></g><g class=\"a12 c2 node n10 p0\" transform=\"translate(-31.9333 15.523)\"><g class=\"a10 i3 leaf node n3 p0 sample\" transform=\"translate(-21.2889 7.71297)\"><path class=\"edge\" d=\"M 0 0 V -7.71297 H 21.2889\"/><rect class=\"sym\" height=\"6\" width=\"6\" x=\"-3\" y=\"-3\"/><text class=\"lab\" transform=\"translate(0 11)\">3</text></g><g class=\"a10 i8 leaf node n8 p0 sample\" transform=\"translate(21.2889 7.71297)\"><path class=\"edge\" d=\"M 0 0 V -7.71297 H -21.2889\"/><rect class=\"sym\" height=\"6\" width=\"6\" x=\"-3\" y=\"-3\"/><text class=\"lab\" transform=\"translate(0 11)\">8</text></g><path class=\"edge\" d=\"M 0 0 V -15.523 H 31.9333\"/><circle class=\"sym\" cx=\"0\" cy=\"0\" r=\"3\"/><text class=\"lab lft\" transform=\"translate(-3 -7.0)\">10</text></g><path class=\"edge\" d=\"M 0 0 V -2.83131 H -58.5444\"/><circle class=\"sym\" cx=\"0\" cy=\"0\" r=\"3\"/><text class=\"lab rgt\" transform=\"translate(3 -7.0)\">12</text></g><path class=\"edge\" d=\"M 0 0 V -5.61185 H 66.5278\"/><circle class=\"sym\" cx=\"0\" cy=\"0\" r=\"3\"/><text class=\"lab lft\" transform=\"translate(-3 -7.0)\">13</text></g><path class=\"edge\" d=\"M 0 0 V -269.289 H -105.114\"/><circle class=\"sym\" cx=\"0\" cy=\"0\" r=\"3\"/><text class=\"lab rgt\" transform=\"translate(3 -7.0)\">14</text></g><path class=\"edge\" d=\"M 0 0 V -93.6323 H 107.11\"/><circle class=\"sym\" cx=\"0\" cy=\"0\" r=\"3\"/><text class=\"lab lft\" transform=\"translate(-3 -7.0)\">15</text></g><circle class=\"sym\" cx=\"0\" cy=\"0\" r=\"3\"/><text class=\"lab\" transform=\"translate(0 -11)\">16</text></g></g></g></g></g></svg>"
      ],
      "text/plain": [
       "<IPython.core.display.SVG object>"
      ]
     },
     "metadata": {},
     "output_type": "display_data"
    }
   ],
   "source": [
    "num_replicates = 10_000\n",
    "nsamp = 9\n",
    "sfs_table = np.zeros((num_replicates, nsamp+1))\n",
    "replicates = msprime.sim_ancestry(9, ploidy=1, num_replicates=num_replicates,  population_size=1_000_000, random_seed=42)\n",
    "for replicate_index, ts in enumerate(replicates):\n",
    "    sfs = ts.allele_frequency_spectrum(mode=\"branch\", polarised=True)\n",
    "    if replicate_index==5:\n",
    "        b=ts\n",
    "display(SVG(b.draw_svg(size=(500, 500),y_axis=True)))"
   ]
  },
  {
   "cell_type": "code",
   "execution_count": 955,
   "metadata": {},
   "outputs": [
    {
     "data": {
      "text/plain": [
       "[[9, 1, 13670.285788864076],\n",
       " [9, 6, 13670.285788864076],\n",
       " [10, 3, 41379.56184663548],\n",
       " [10, 8, 41379.56184663548],\n",
       " [11, 0, 62390.37124656778],\n",
       " [11, 2, 62390.37124656778],\n",
       " [12, 5, 124659.22597050297],\n",
       " [12, 10, 83279.6641238675],\n",
       " [13, 9, 126178.75492356977],\n",
       " [13, 12, 15189.814741930866],\n",
       " [14, 4, 169956.25661652515],\n",
       " [14, 13, 30107.21590409131],\n",
       " [15, 11, 1552281.2872208988],\n",
       " [15, 14, 1444715.4018509414],\n",
       " [16, 7, 2117002.6584194293],\n",
       " [16, 15, 502330.99995196285]]"
      ]
     },
     "execution_count": 955,
     "metadata": {},
     "output_type": "execute_result"
    }
   ],
   "source": [
    "a=[]\n",
    "tree= b.first()\n",
    "for i,j in enumerate(b.edges()):\n",
    "# ts_with_muts.branch_length(i)\n",
    "    a.append([j.parent,j.child,tree.get_branch_length(j.child)])\n",
    "a"
   ]
  },
  {
   "cell_type": "code",
   "execution_count": 951,
   "metadata": {},
   "outputs": [
    {
     "data": {
      "text/plain": [
       "array([      0.        , 2646498.57877059, 1761739.70626834,\n",
       "         15189.81474193,       0.        ,   30107.21590409,\n",
       "       1444715.40185094,       0.        ,  502330.99995196,\n",
       "             0.        ])"
      ]
     },
     "execution_count": 951,
     "metadata": {},
     "output_type": "execute_result"
    }
   ],
   "source": [
    "b.allele_frequency_spectrum(mode=\"branch\", polarised=True)"
   ]
  },
  {
   "cell_type": "code",
   "execution_count": 952,
   "metadata": {},
   "outputs": [
    {
     "data": {
      "text/plain": [
       "array([      0.        , 1574414.78936128,  880869.85313417,\n",
       "        729952.60829644,   15053.60795205,       0.        ,\n",
       "             0.        ,       0.        ,       0.        ,\n",
       "             0.        ])"
      ]
     },
     "execution_count": 952,
     "metadata": {},
     "output_type": "execute_result"
    }
   ],
   "source": [
    "b.allele_frequency_spectrum(mode=\"branch\")"
   ]
  },
  {
   "cell_type": "markdown",
   "metadata": {},
   "source": [
    "<div class=\"alert alert-block alert-warning\">\n",
    "    <b>Python recipe: pd dataframes</b>\n",
    "We use <code>.mean()</code> to calculate the mean SFS across all replicates:\n",
    "    </div>"
   ]
  },
  {
   "cell_type": "code",
   "execution_count": 927,
   "metadata": {},
   "outputs": [
    {
     "name": "stdout",
     "output_type": "stream",
     "text": [
      "The mean SFS is: \n",
      " [2003169.40332324  994179.39193106  673246.0719543   503108.7012861\n",
      "  401099.64521601  331932.34051494  284554.30651258  254286.30056072]\n"
     ]
    }
   ],
   "source": [
    "sfs_mean = sfs_table.mean(0)[1:nsamp]\n",
    "print(\"The mean SFS is: \\n\", sfs_mean)"
   ]
  },
  {
   "cell_type": "markdown",
   "metadata": {},
   "source": [
    "<div class=\"alert alert-block alert-warning\">\n",
    "    <b>Python recipe: pd dataframes</b>\n",
    "    \n",
    "    \n",
    "We have so far dealt with python lists and arrays. When analysing data, we often want to store many pieces of information together. A [pandas](https://pandas.pydata.org/docs/reference/index.html) dataframe lets us do just that (if you've used `R` before, you will be familiar with dataframes)! Dataframes may seem fiddly at first but make further analysis and plotting with [seaborn](https://seaborn.pydata.org/api.html) much easier (we will use them extensively when dealing with real data later onm in the course). Here is a quick [introduction](https://pandas.pydata.org/docs/user_guide/10min.html) to pandas dataframes. \n",
    "    </div>"
   ]
  },
  {
   "cell_type": "markdown",
   "metadata": {},
   "source": [
    "Let's store the (mean) simulated SFS as a pandas dataframe:"
   ]
  },
  {
   "cell_type": "code",
   "execution_count": 78,
   "metadata": {},
   "outputs": [
    {
     "data": {
      "text/html": [
       "<div>\n",
       "<style scoped>\n",
       "    .dataframe tbody tr th:only-of-type {\n",
       "        vertical-align: middle;\n",
       "    }\n",
       "\n",
       "    .dataframe tbody tr th {\n",
       "        vertical-align: top;\n",
       "    }\n",
       "\n",
       "    .dataframe thead th {\n",
       "        text-align: right;\n",
       "    }\n",
       "</style>\n",
       "<table border=\"1\" class=\"dataframe\">\n",
       "  <thead>\n",
       "    <tr style=\"text-align: right;\">\n",
       "      <th></th>\n",
       "      <th>itons</th>\n",
       "      <th>sfs</th>\n",
       "      <th>type</th>\n",
       "    </tr>\n",
       "  </thead>\n",
       "  <tbody>\n",
       "    <tr>\n",
       "      <th>0</th>\n",
       "      <td>1</td>\n",
       "      <td>2.003169e+06</td>\n",
       "      <td>sim</td>\n",
       "    </tr>\n",
       "    <tr>\n",
       "      <th>1</th>\n",
       "      <td>2</td>\n",
       "      <td>9.941794e+05</td>\n",
       "      <td>sim</td>\n",
       "    </tr>\n",
       "    <tr>\n",
       "      <th>2</th>\n",
       "      <td>3</td>\n",
       "      <td>6.732461e+05</td>\n",
       "      <td>sim</td>\n",
       "    </tr>\n",
       "    <tr>\n",
       "      <th>3</th>\n",
       "      <td>4</td>\n",
       "      <td>5.031087e+05</td>\n",
       "      <td>sim</td>\n",
       "    </tr>\n",
       "    <tr>\n",
       "      <th>4</th>\n",
       "      <td>5</td>\n",
       "      <td>4.010996e+05</td>\n",
       "      <td>sim</td>\n",
       "    </tr>\n",
       "    <tr>\n",
       "      <th>5</th>\n",
       "      <td>6</td>\n",
       "      <td>3.319323e+05</td>\n",
       "      <td>sim</td>\n",
       "    </tr>\n",
       "    <tr>\n",
       "      <th>6</th>\n",
       "      <td>7</td>\n",
       "      <td>2.845543e+05</td>\n",
       "      <td>sim</td>\n",
       "    </tr>\n",
       "    <tr>\n",
       "      <th>7</th>\n",
       "      <td>8</td>\n",
       "      <td>2.542863e+05</td>\n",
       "      <td>sim</td>\n",
       "    </tr>\n",
       "  </tbody>\n",
       "</table>\n",
       "</div>"
      ],
      "text/plain": [
       "   itons           sfs type\n",
       "0      1  2.003169e+06  sim\n",
       "1      2  9.941794e+05  sim\n",
       "2      3  6.732461e+05  sim\n",
       "3      4  5.031087e+05  sim\n",
       "4      5  4.010996e+05  sim\n",
       "5      6  3.319323e+05  sim\n",
       "6      7  2.845543e+05  sim\n",
       "7      8  2.542863e+05  sim"
      ]
     },
     "execution_count": 78,
     "metadata": {},
     "output_type": "execute_result"
    }
   ],
   "source": [
    "itons = range(1,nsamp)\n",
    "type_sim = ['sim']*(nsamp-1)\n",
    "sfs_sim_df = pd.DataFrame({'itons':itons,'sfs':sfs_mean,'type':type_sim})\n",
    "sfs_sim_df"
   ]
  },
  {
   "cell_type": "markdown",
   "metadata": {},
   "source": [
    "<div class=\"alert alert-block alert-warning\">\n",
    "    <b>Python recipe: barplot</b>\n",
    "    \n",
    "We can visualise the SFS using <a href=\"https://seaborn.pydata.org/generated/seaborn.barplot.html\"><code>barplot</code></a>\n",
    "    </div>"
   ]
  },
  {
   "cell_type": "code",
   "execution_count": 79,
   "metadata": {},
   "outputs": [
    {
     "data": {
      "image/png": "[encoded data removed]",
      "text/plain": [
       "<Figure size 640x480 with 1 Axes>"
      ]
     },
     "metadata": {},
     "output_type": "display_data"
    }
   ],
   "source": [
    "p = sns.barplot(data = sfs_sim_df, x='itons', y='sfs', hue= 'type')"
   ]
  },
  {
   "cell_type": "markdown",
   "metadata": {},
   "source": [
    "<div class=\"alert alert-block alert-success\">    \n",
    "    <b>Exercise 6:</b> What is the expected SFS for a neutrally evolving Wright-Fisher population (see mini lecture 2)? Define a list or array that gives this expectation for a sample of $n=9$ and store the result as a dataframe <code>sfs_exp_df</code> analogous to <code>sfs_sim_df</code>.\n",
    "    </div>"
   ]
  },
  {
   "cell_type": "code",
   "execution_count": 80,
   "metadata": {},
   "outputs": [],
   "source": [
    "#SOL\n",
    "sfs_exp = [1/i for i in range(1,nsamp)]\n",
    "type_exp = ['exp']*(nsamp-1)\n",
    "sfs_exp_df = pd.DataFrame({'itons':itons,'sfs':sfs_exp,'type':type_exp})"
   ]
  },
  {
   "cell_type": "code",
   "execution_count": 81,
   "metadata": {},
   "outputs": [
    {
     "data": {
      "text/html": [
       "<div>\n",
       "<style scoped>\n",
       "    .dataframe tbody tr th:only-of-type {\n",
       "        vertical-align: middle;\n",
       "    }\n",
       "\n",
       "    .dataframe tbody tr th {\n",
       "        vertical-align: top;\n",
       "    }\n",
       "\n",
       "    .dataframe thead th {\n",
       "        text-align: right;\n",
       "    }\n",
       "</style>\n",
       "<table border=\"1\" class=\"dataframe\">\n",
       "  <thead>\n",
       "    <tr style=\"text-align: right;\">\n",
       "      <th></th>\n",
       "      <th>itons</th>\n",
       "      <th>sfs</th>\n",
       "      <th>type</th>\n",
       "    </tr>\n",
       "  </thead>\n",
       "  <tbody>\n",
       "    <tr>\n",
       "      <th>0</th>\n",
       "      <td>1</td>\n",
       "      <td>1.000000</td>\n",
       "      <td>exp</td>\n",
       "    </tr>\n",
       "    <tr>\n",
       "      <th>1</th>\n",
       "      <td>2</td>\n",
       "      <td>0.500000</td>\n",
       "      <td>exp</td>\n",
       "    </tr>\n",
       "    <tr>\n",
       "      <th>2</th>\n",
       "      <td>3</td>\n",
       "      <td>0.333333</td>\n",
       "      <td>exp</td>\n",
       "    </tr>\n",
       "    <tr>\n",
       "      <th>3</th>\n",
       "      <td>4</td>\n",
       "      <td>0.250000</td>\n",
       "      <td>exp</td>\n",
       "    </tr>\n",
       "    <tr>\n",
       "      <th>4</th>\n",
       "      <td>5</td>\n",
       "      <td>0.200000</td>\n",
       "      <td>exp</td>\n",
       "    </tr>\n",
       "    <tr>\n",
       "      <th>5</th>\n",
       "      <td>6</td>\n",
       "      <td>0.166667</td>\n",
       "      <td>exp</td>\n",
       "    </tr>\n",
       "    <tr>\n",
       "      <th>6</th>\n",
       "      <td>7</td>\n",
       "      <td>0.142857</td>\n",
       "      <td>exp</td>\n",
       "    </tr>\n",
       "    <tr>\n",
       "      <th>7</th>\n",
       "      <td>8</td>\n",
       "      <td>0.125000</td>\n",
       "      <td>exp</td>\n",
       "    </tr>\n",
       "  </tbody>\n",
       "</table>\n",
       "</div>"
      ],
      "text/plain": [
       "   itons       sfs type\n",
       "0      1  1.000000  exp\n",
       "1      2  0.500000  exp\n",
       "2      3  0.333333  exp\n",
       "3      4  0.250000  exp\n",
       "4      5  0.200000  exp\n",
       "5      6  0.166667  exp\n",
       "6      7  0.142857  exp\n",
       "7      8  0.125000  exp"
      ]
     },
     "execution_count": 81,
     "metadata": {},
     "output_type": "execute_result"
    }
   ],
   "source": [
    "sfs_exp_df"
   ]
  },
  {
   "cell_type": "code",
   "execution_count": 82,
   "metadata": {},
   "outputs": [
    {
     "data": {
      "image/png": "[encoded data removed]",
      "text/plain": [
       "<Figure size 640x480 with 1 Axes>"
      ]
     },
     "metadata": {},
     "output_type": "display_data"
    }
   ],
   "source": [
    "p = sns.barplot(x='itons', y='sfs', hue= 'type', data = sfs_exp_df)"
   ]
  },
  {
   "cell_type": "markdown",
   "metadata": {},
   "source": [
    "You can concatenate the simulated and expected SFS into a single dataframe and plot both using the code below:"
   ]
  },
  {
   "cell_type": "code",
   "execution_count": 83,
   "metadata": {},
   "outputs": [
    {
     "data": {
      "image/png": "[encoded data removed]",
      "text/plain": [
       "<Figure size 640x480 with 1 Axes>"
      ]
     },
     "metadata": {},
     "output_type": "display_data"
    }
   ],
   "source": [
    "sfs_concat_df = pd.concat([sfs_sim_df, sfs_exp_df])\n",
    "p = sns.barplot(x='itons', y='sfs', hue='type', data=sfs_concat_df)"
   ]
  },
  {
   "cell_type": "markdown",
   "metadata": {},
   "source": [
    "<div class=\"alert alert-block alert-success\">    \n",
    "    <b>Exercise 8:</b> What explains the difference between expected and observed SFS? Normalize both SFS by the total length of genealogical branches and replot! \n",
    "    \n",
    "**Hint:** <code>sfs_mean/=np.sum(sfs_mean)</code> can be used to assign a normalized (by the total) sfs to the same variable name. once you have normalized both SFS, you need to define the dataframe <code>sfs_concat_df</code>\n",
    "    </div>"
   ]
  },
  {
   "cell_type": "code",
   "execution_count": 84,
   "metadata": {},
   "outputs": [
    {
     "data": {
      "image/png": "[encoded data removed]",
      "text/plain": [
       "<Figure size 640x480 with 1 Axes>"
      ]
     },
     "metadata": {},
     "output_type": "display_data"
    }
   ],
   "source": [
    "#SOL\n",
    "sfs_mean/=np.sum(sfs_mean)\n",
    "sfs_exp/=np.sum(sfs_exp)\n",
    "sfs_sim_df = pd.DataFrame({'itons':itons,'sfs':sfs_mean,'type':type_sim})\n",
    "sfs_exp_df = pd.DataFrame({'itons':itons,'sfs':sfs_exp,'type':type_exp})\n",
    "sfs_concat_df = pd.concat([sfs_sim_df, sfs_exp_df])\n",
    "p = sns.barplot(x='itons', y='sfs', hue='type', data=sfs_concat_df)"
   ]
  },
  {
   "cell_type": "markdown",
   "metadata": {},
   "source": [
    "<div class=\"alert alert-block alert-success\">    \n",
    "    <b>Exercise 9:</b> \n",
    "Measure how well your simulated SFS fits the expectation using the sum of squared differences. \n",
    "    \n",
    "**Hint:** Use the functions <code>np.sum()</code> and <code>np.square()</code>. Note that both are vectorized operations for numpy arrays, i.e. fact that <code>np.square()</code> applies  <code>**2 </code> to each element of the array.\n",
    "    </div>"
   ]
  },
  {
   "cell_type": "code",
   "execution_count": 85,
   "metadata": {},
   "outputs": [
    {
     "data": {
      "text/plain": [
       "3.839388257037742e-06"
      ]
     },
     "execution_count": 85,
     "metadata": {},
     "output_type": "execute_result"
    }
   ],
   "source": [
    "#SOL\n",
    "np.sum(np.square(sfs_mean-sfs_exp))"
   ]
  },
  {
   "cell_type": "markdown",
   "metadata": {},
   "source": [
    "<div class=\"alert alert-block alert-success\">    \n",
    "    <b>Exercise 10 (optional, python practice):</b> \n",
    "Generate an expectation for the SFS based on 10,000 replicates using mutations (assume a sequence length of 1kb and a mutation rate of 0.001) counts rather than branch lengths and check how well this fits the predicted SFS. Which one should give a closer fit? Assign this SFS to a variable <code>sfs_sites_mean</code> (or some other name that makes sense to you).\n",
    "    </div>"
   ]
  },
  {
   "cell_type": "code",
   "execution_count": 86,
   "metadata": {},
   "outputs": [],
   "source": [
    "#SOL\n",
    "sfs_sites_table = np.zeros((num_replicates, nsamp+1))\n",
    "replicates = msprime.sim_ancestry(9, ploidy=1, num_replicates=num_replicates, sequence_length=1_000, random_seed=42)\n",
    "for replicate_index, ts in enumerate(replicates):\n",
    "    ts_with_muts = msprime.sim_mutations(ts, rate=0.001, random_seed = 34)\n",
    "    sfs = ts_with_muts.allele_frequency_spectrum(polarised=True)\n",
    "    sfs_sites_table[replicate_index] = sfs\n",
    "\n",
    "sfs_sites_mean = sfs_sites_table.mean(0)[1:nsamp]\n",
    "sfs_sites_mean /=np.sum(sfs_sites_mean)"
   ]
  },
  {
   "cell_type": "code",
   "execution_count": 89,
   "metadata": {},
   "outputs": [
    {
     "data": {
      "text/plain": [
       "array([0.0023097, 0.0013237, 0.0009289, 0.000695 , 0.0005562, 0.0004639,\n",
       "       0.0004178, 0.0003618])"
      ]
     },
     "execution_count": 89,
     "metadata": {},
     "output_type": "execute_result"
    }
   ],
   "source": [
    "sfs_sites_table.mean(0)[1:nsamp]"
   ]
  },
  {
   "cell_type": "code",
   "execution_count": 90,
   "metadata": {},
   "outputs": [
    {
     "data": {
      "text/plain": [
       "0.0019066780918453926"
      ]
     },
     "execution_count": 90,
     "metadata": {},
     "output_type": "execute_result"
    }
   ],
   "source": [
    "#SOL\n",
    "diff_sfs=(sfs_sites_mean-sfs_exp);\n",
    "np.sum(np.square(diff_sfs))"
   ]
  },
  {
   "cell_type": "markdown",
   "metadata": {},
   "source": [
    "<div class=\"alert alert-block alert-success\">    \n",
    "    <b>Exercise 11 (optional, python practice):</b> \n",
    "Store the new simulated SFS based on sites as a dataframe and add it to your existing SFS dataframe (using concatenate). Plot all three site frequency spectra. \n",
    "    </div>"
   ]
  },
  {
   "cell_type": "code",
   "execution_count": 91,
   "metadata": {},
   "outputs": [],
   "source": [
    "itons = range(1,nsamp)\n",
    "type_sites = ['sites']*(nsamp-1)\n",
    "sfs_sites_df = pd.DataFrame({'itons':itons,'sfs':sfs_sites_mean,'type':type_sites})"
   ]
  },
  {
   "cell_type": "code",
   "execution_count": 92,
   "metadata": {},
   "outputs": [
    {
     "data": {
      "image/png": "[encoded data removed]",
      "text/plain": [
       "<Figure size 640x480 with 1 Axes>"
      ]
     },
     "metadata": {},
     "output_type": "display_data"
    }
   ],
   "source": [
    "sfs_concatB_df = pd.concat([sfs_sim_df, sfs_exp_df, sfs_sites_df])\n",
    "p = sns.barplot(x='itons', y='sfs', hue='type', data=sfs_concatB_df)"
   ]
  },
  {
   "cell_type": "markdown",
   "metadata": {},
   "source": [
    "## 2.2 The SFS of Sub-Saharan *Drosophila melanogaster*"
   ]
  },
  {
   "attachments": {
    "image.png": {
     "image/png": "[encoded data removed]"
    }
   },
   "cell_type": "markdown",
   "metadata": {},
   "source": [
    "Let's import an SFS from a real population (we will learn more about summarizing real sequence variation in practical 4)! For now, we will use an example from the king of all (lab) organisms: *D. melanogaster*.\n",
    "\n",
    "![image.png](attachment:image.png)\n",
    "\n",
    "This [dataset](https://www.genetics.org/content/203/2/975) was generated from whole genome sequence (WGS) data from 17 haploid (**!!!**) *D. melanogaster* sequences sampled from Rwanda as part the Drosophila Population Genomics Project."
   ]
  },
  {
   "cell_type": "markdown",
   "metadata": {},
   "source": [
    "<div class=\"alert alert-block alert-warning\">\n",
    "    <b>Python recipe: data download using wget</b>\n",
    "    \n",
    "We can run any <code>bash</code> command from within a jupyter notebook by including `!` at the beginning of a code cell. To download a csv file containing the <i>D. melanogaster</i> sfs we will use <a href=\"https://g.co/kgs/VqTPwJ\"><code>wget</code></a> (we will use <code>wget</code> to download data throughout the course): \n",
    "    </div>"
   ]
  },
  {
   "cell_type": "code",
   "execution_count": 93,
   "metadata": {},
   "outputs": [
    {
     "name": "stdout",
     "output_type": "stream",
     "text": [
      "zsh:1: command not found: wget\n"
     ]
    }
   ],
   "source": [
    "! wget https://www.dropbox.com/s/xr56safng7hzs75/dmel_sfs.csv -q --show-progress -O dmel_sfs.csv\n",
    "#--show-progress https://www.dropbox.com/s/xr56safng7hzs75/dmel_sfs.csv"
   ]
  },
  {
   "cell_type": "markdown",
   "metadata": {},
   "source": [
    "We can check that the file is in our working directory:"
   ]
  },
  {
   "cell_type": "code",
   "execution_count": 36,
   "metadata": {},
   "outputs": [
    {
     "name": "stdout",
     "output_type": "stream",
     "text": [
      " 10.class_test_2023_STUDENT.ipynb\r\n",
      " 1.Introduction_to_msprime_SOLUTION.ipynb\r\n",
      " 1.Introduction_to_msprime_STUDENT.ipynb\r\n",
      " 2.From_simulation_to_inference_SOLUTION.ipynb\r\n",
      " 2.From_simulation_to_inference_STUDENT.ipynb\r\n",
      " 3.Recombining_genomes_and_treesequences_SOLUTION.ipynb\r\n",
      " 3.Recombining_genomes_and_treesequences_STUDENT.ipynb\r\n",
      " 4.Visualizing_and_quantifying_genomic_variation_in_real_data_SOLVED.ipynb\r\n",
      " 4.Visualizing_and_quantifying_genomic_variation_in_real_data_STUDENT.ipynb\r\n",
      " 5.Detecting_selective_sweeps_SOLUTION.ipynb\r\n",
      " 5.Detecting_selective_sweeps_STUDENT.ipynb\r\n",
      " 6._Discordance_introgression_and_ABBA_BABA_STUDENT.ipynb\r\n",
      "'7. Modelling differentiation between populations_SOLUTION.ipynb'\r\n",
      "'7. Modelling differentiation between populations_STUDENT.ipynb'\r\n",
      "'8AND9. Population_genomics_of_Brenthis_butterflies_STUDENT.ipynb'\r\n",
      " dmel_sfs.csv\r\n",
      " README.md\r\n"
     ]
    }
   ],
   "source": [
    "! ls"
   ]
  },
  {
   "cell_type": "code",
   "execution_count": 961,
   "metadata": {},
   "outputs": [
    {
     "data": {
      "text/html": [
       "<div>\n",
       "<style scoped>\n",
       "    .dataframe tbody tr th:only-of-type {\n",
       "        vertical-align: middle;\n",
       "    }\n",
       "\n",
       "    .dataframe tbody tr th {\n",
       "        vertical-align: top;\n",
       "    }\n",
       "\n",
       "    .dataframe thead th {\n",
       "        text-align: right;\n",
       "    }\n",
       "</style>\n",
       "<table border=\"1\" class=\"dataframe\">\n",
       "  <thead>\n",
       "    <tr style=\"text-align: right;\">\n",
       "      <th></th>\n",
       "      <th>itons</th>\n",
       "      <th>sfs</th>\n",
       "    </tr>\n",
       "  </thead>\n",
       "  <tbody>\n",
       "    <tr>\n",
       "      <th>0</th>\n",
       "      <td>0</td>\n",
       "      <td>900040.004336</td>\n",
       "    </tr>\n",
       "    <tr>\n",
       "      <th>1</th>\n",
       "      <td>1</td>\n",
       "      <td>17923.612355</td>\n",
       "    </tr>\n",
       "    <tr>\n",
       "      <th>2</th>\n",
       "      <td>2</td>\n",
       "      <td>7805.649778</td>\n",
       "    </tr>\n",
       "    <tr>\n",
       "      <th>3</th>\n",
       "      <td>3</td>\n",
       "      <td>5063.585760</td>\n",
       "    </tr>\n",
       "    <tr>\n",
       "      <th>4</th>\n",
       "      <td>4</td>\n",
       "      <td>3667.575585</td>\n",
       "    </tr>\n",
       "    <tr>\n",
       "      <th>5</th>\n",
       "      <td>5</td>\n",
       "      <td>3044.973523</td>\n",
       "    </tr>\n",
       "    <tr>\n",
       "      <th>6</th>\n",
       "      <td>6</td>\n",
       "      <td>2539.840965</td>\n",
       "    </tr>\n",
       "    <tr>\n",
       "      <th>7</th>\n",
       "      <td>7</td>\n",
       "      <td>2257.735257</td>\n",
       "    </tr>\n",
       "    <tr>\n",
       "      <th>8</th>\n",
       "      <td>8</td>\n",
       "      <td>2066.146167</td>\n",
       "    </tr>\n",
       "    <tr>\n",
       "      <th>9</th>\n",
       "      <td>9</td>\n",
       "      <td>1781.853833</td>\n",
       "    </tr>\n",
       "    <tr>\n",
       "      <th>10</th>\n",
       "      <td>10</td>\n",
       "      <td>1693.264743</td>\n",
       "    </tr>\n",
       "    <tr>\n",
       "      <th>11</th>\n",
       "      <td>11</td>\n",
       "      <td>1582.159035</td>\n",
       "    </tr>\n",
       "    <tr>\n",
       "      <th>12</th>\n",
       "      <td>12</td>\n",
       "      <td>1432.026477</td>\n",
       "    </tr>\n",
       "    <tr>\n",
       "      <th>13</th>\n",
       "      <td>13</td>\n",
       "      <td>1358.424415</td>\n",
       "    </tr>\n",
       "    <tr>\n",
       "      <th>14</th>\n",
       "      <td>14</td>\n",
       "      <td>1305.414240</td>\n",
       "    </tr>\n",
       "    <tr>\n",
       "      <th>15</th>\n",
       "      <td>15</td>\n",
       "      <td>1386.350222</td>\n",
       "    </tr>\n",
       "    <tr>\n",
       "      <th>16</th>\n",
       "      <td>16</td>\n",
       "      <td>1568.387645</td>\n",
       "    </tr>\n",
       "    <tr>\n",
       "      <th>17</th>\n",
       "      <td>17</td>\n",
       "      <td>81764.995664</td>\n",
       "    </tr>\n",
       "  </tbody>\n",
       "</table>\n",
       "</div>"
      ],
      "text/plain": [
       "    itons            sfs\n",
       "0       0  900040.004336\n",
       "1       1   17923.612355\n",
       "2       2    7805.649778\n",
       "3       3    5063.585760\n",
       "4       4    3667.575585\n",
       "5       5    3044.973523\n",
       "6       6    2539.840965\n",
       "7       7    2257.735257\n",
       "8       8    2066.146167\n",
       "9       9    1781.853833\n",
       "10     10    1693.264743\n",
       "11     11    1582.159035\n",
       "12     12    1432.026477\n",
       "13     13    1358.424415\n",
       "14     14    1305.414240\n",
       "15     15    1386.350222\n",
       "16     16    1568.387645\n",
       "17     17   81764.995664"
      ]
     },
     "execution_count": 961,
     "metadata": {},
     "output_type": "execute_result"
    }
   ],
   "source": [
    "dmel_sfs = pd.read_csv('dmel_sfs.csv')\n",
    "dmel_sfs"
   ]
  },
  {
   "cell_type": "markdown",
   "metadata": {},
   "source": [
    "<div class=\"alert alert-block alert-success\">    \n",
    "    <b>Exercise 12:</b> Check whether the <i>D. melanogaster</i> SFS is normalized. What is the total number of sites? Assign this to a new variable <code>n_dmel_total</code>. Are $0$ and $n$ entries for monomorphic and fixed sites included?\n",
    "   </div>"
   ]
  },
  {
   "cell_type": "code",
   "execution_count": 962,
   "metadata": {},
   "outputs": [
    {
     "name": "stdout",
     "output_type": "stream",
     "text": [
      "The Dmel SFS contains 1038282.0000000001 sites\n"
     ]
    }
   ],
   "source": [
    "#SOL\n",
    "n_dmel_total = np.sum(dmel_sfs['sfs']);\n",
    "print(\"The Dmel SFS contains\", n_dmel_total, \"sites\")"
   ]
  },
  {
   "cell_type": "code",
   "execution_count": 963,
   "metadata": {},
   "outputs": [
    {
     "name": "stdout",
     "output_type": "stream",
     "text": [
      "The Dmel SFS contains 18 entries. i=0 and i=n are NOT icluded.\n"
     ]
    }
   ],
   "source": [
    "#SOL\n",
    "print(\"The Dmel SFS contains\", len(dmel_sfs), \"entries. i=0 and i=n are NOT icluded.\")"
   ]
  },
  {
   "cell_type": "markdown",
   "metadata": {},
   "source": [
    "It is helpful to give the variant only, normalized SFS a new variable name and store it as a dataframe. The code chunk below uses python indices and assign the SFS without the first and last entry to a new variable, defines an SFS that is normalized (by the total number of variable of sites) and stores this as a dataframe:"
   ]
  },
  {
   "cell_type": "markdown",
   "metadata": {},
   "source": [
    "<div class=\"alert alert-block alert-info\">\n",
    "    <b>PopGen:</b> As in section 1 above, we will normalize the SFS by the total number of variable sites. In contrast, <code>msprime</code> normalizes by the total number of sites (i.e. the sequence length) by default.\n",
    "    </div>"
   ]
  },
  {
   "cell_type": "code",
   "execution_count": 964,
   "metadata": {},
   "outputs": [],
   "source": [
    "nsamp_dmel = 17\n",
    "dmel_sfs_var = dmel_sfs['sfs'][1:nsamp_dmel]\n",
    "dmel_sfs_var_norm = dmel_sfs_var/np.sum(dmel_sfs_var)\n",
    "itons = range(1,nsamp_dmel)\n",
    "type_dmel = ['dmel']*(nsamp_dmel-1)\n",
    "sfs_dmel_df = pd.DataFrame({'itons':itons,'sfs':dmel_sfs_var_norm,'type':type_dmel})"
   ]
  },
  {
   "cell_type": "markdown",
   "metadata": {},
   "source": [
    "<div class=\"alert alert-block alert-success\">    \n",
    "    <b>Exercise 13:</b> Generate a barplot to compare the <i>D. melanogaster</i> SFS to the expectation for a sample from a Wright-Fisher population of constant size. Which entries show the greatest deviation from neutrality? What might be the cause of these differences?\n",
    "    </div>"
   ]
  },
  {
   "cell_type": "code",
   "execution_count": 965,
   "metadata": {},
   "outputs": [
    {
     "data": {
      "image/png": "[encoded data removed]",
      "text/plain": [
       "<Figure size 640x480 with 1 Axes>"
      ]
     },
     "metadata": {},
     "output_type": "display_data"
    }
   ],
   "source": [
    "#SOL\n",
    "#This sets up the expected SFS as a dataframe\n",
    "exp_branches =[1/i for i in range(1,nsamp_dmel)]\n",
    "exp_sfs = exp_branches/np.sum(exp_branches)\n",
    "type_exp = ['exp']*(nsamp_dmel-1)\n",
    "sfs_exp_df = pd.DataFrame({'itons':itons,'sfs':exp_sfs,'type':type_exp})\n",
    "\n",
    "#Combines it with the dmel_SFS dataframe\n",
    "sfs_dmel_concat_df = pd.concat([sfs_dmel_df, sfs_exp_df])\n",
    "p = sns.barplot(x='itons', y='sfs', hue='type', data=sfs_dmel_concat_df)"
   ]
  },
  {
   "cell_type": "markdown",
   "metadata": {},
   "source": [
    "<div class=\"alert alert-block alert-success\">    \n",
    "    <b>Exercise 14:</b>\n",
    "Compute Watterson's $\\theta$ (see lecture 2)\n",
    "\n",
    "<b>Hint:</b> Use <code>exp_branches</code> defined above and  <code>n_dmel_total</code> (exercise 12).\n",
    "    </div>"
   ]
  },
  {
   "cell_type": "code",
   "execution_count": 966,
   "metadata": {},
   "outputs": [
    {
     "data": {
      "text/plain": [
       "3.3807289932289937"
      ]
     },
     "execution_count": 966,
     "metadata": {},
     "output_type": "execute_result"
    }
   ],
   "source": [
    "wattersons_correction = np.sum(exp_branches)\n",
    "wattersons_correction"
   ]
  },
  {
   "cell_type": "code",
   "execution_count": 967,
   "metadata": {},
   "outputs": [
    {
     "name": "stdout",
     "output_type": "stream",
     "text": [
      "Watterson's theta is 0.01608962552193177\n"
     ]
    }
   ],
   "source": [
    "#SOL\n",
    "wattersons_correction = np.sum(exp_branches);\n",
    "wattersons_theta = np.sum(dmel_sfs_var)/(n_dmel_total *  wattersons_correction);\n",
    "print(\"Watterson's theta is\", wattersons_theta)"
   ]
  },
  {
   "cell_type": "markdown",
   "metadata": {},
   "source": [
    "<div class=\"alert alert-block alert-success\">    \n",
    "    <b>Exercise 15:</b> Assume a mutation rate of $\\mu= 3.5 \\times 10^{-9}$ <a href=\"https://genome.cshlp.org/content/19/7/1195\">(Keightley et al 2009)</a>. Translate your estimate of $\\theta_W$ into the effective population size ($N_e$) for this species.\n",
    "   </div>"
   ]
  },
  {
   "cell_type": "code",
   "execution_count": 968,
   "metadata": {},
   "outputs": [
    {
     "data": {
      "text/plain": [
       "1149258.9658522692"
      ]
     },
     "execution_count": 968,
     "metadata": {},
     "output_type": "execute_result"
    }
   ],
   "source": [
    "#SOL\n",
    "mu = 3.5e-9\n",
    "wattersons_theta/ (4 * mu)"
   ]
  },
  {
   "cell_type": "markdown",
   "metadata": {},
   "source": [
    "<div class=\"alert alert-block alert-info\">\n",
    "    <b>PopGen:</b> Remember that for a population of constant $N_e$, the frequency of singletons is also an estimator of the scaled mutation rate $\\theta$ (see lecture 2).\n",
    "    </div>"
   ]
  },
  {
   "cell_type": "markdown",
   "metadata": {},
   "source": [
    "<div class=\"alert alert-block alert-success\">    \n",
    "    <b>Exercise 16:</b> How does the estimate of $N_e$ based on singletons differ from the estimate based on $\\theta_W$ above?\n",
    "    </div>"
   ]
  },
  {
   "cell_type": "code",
   "execution_count": 973,
   "metadata": {},
   "outputs": [
    {
     "data": {
      "text/plain": [
       "pandas.core.series.Series"
      ]
     },
     "execution_count": 973,
     "metadata": {},
     "output_type": "execute_result"
    }
   ],
   "source": [
    "type(dmel_sfs_var)"
   ]
  },
  {
   "cell_type": "code",
   "execution_count": 974,
   "metadata": {},
   "outputs": [
    {
     "data": {
      "text/plain": [
       "1233054.2428330095"
      ]
     },
     "execution_count": 974,
     "metadata": {},
     "output_type": "execute_result"
    }
   ],
   "source": [
    "#SOL\n",
    "# singleton\n",
    "dmel_sfs_var[1]/ (n_dmel_total * 4 * mu)"
   ]
  },
  {
   "cell_type": "markdown",
   "metadata": {},
   "source": [
    "<div class=\"alert alert-block alert-success\">    \n",
    "    <b>Class discussion questions:</b>\n",
    "\n",
    "- What biological processes could explain the difference between the estimates of $N_e$ based on $\\theta_w$ and the number of singleton mutations?\n",
    "- What bioinformatic artefacts could generate an artefactual excess of singletons?\n",
    "</div>"
   ]
  },
  {
   "cell_type": "markdown",
   "metadata": {},
   "source": [
    "<div class=\"alert alert-block alert-success\">    \n",
    "    <b>answer:</b>\n",
    "\n",
    "- The frequency of signleton may be overestimated (or unber special bioinformatic artefacts) -> excess of singletons\n",
    "- cause more rare mutation\n",
    "- X ray, add new iindividual, expend \n",
    "</div>"
   ]
  },
  {
   "cell_type": "markdown",
   "metadata": {},
   "source": [
    "## 2.3 Fitting models of population growth and decline"
   ]
  },
  {
   "cell_type": "markdown",
   "metadata": {},
   "source": [
    "There is an infinite number of possible models of population size change. A simple possibility (1 parameter) is to assume that population size has been growing or shrinking deterministically. E.g. we could assume exponential growth. A more complex (2 parameter) model is to assume that population sizes changed suddenly at some time $T$ in the past. The code chunk below defines a function that simulates a single genealogy from a population that has undegone exponential growth."
   ]
  },
  {
   "cell_type": "code",
   "execution_count": 976,
   "metadata": {},
   "outputs": [],
   "source": [
    "def run_growth_sims(num_samp, rate, num_rep=None, seed=123):    \n",
    "    demography = msprime.Demography()\n",
    "    demography.add_population(initial_size=1/2)\n",
    "    demography.add_population_parameters_change(time=0, growth_rate= rate, population=0)\n",
    "    return msprime.sim_ancestry(\n",
    "        samples=[msprime.SampleSet(num_samp, ploidy=1)],\n",
    "        num_replicates=num_rep,\n",
    "        demography=demography,\n",
    "        random_seed=seed)"
   ]
  },
  {
   "cell_type": "markdown",
   "metadata": {},
   "source": [
    "<div class=\"alert alert-block alert-success\">    \n",
    "    <b>Exercise 17:</b> Use the function <code>run_growth_sims</code> to simulate a single genealogy for a sample of the same size as the Dmel dataset. Assume a growth rate of 5 and use the <code>draw_svg</code> method to plot the resulting tree. How does this genealogy differ from the a genealogy sampled for a population of fixed size?\n",
    "    </div>"
   ]
  },
  {
   "cell_type": "markdown",
   "metadata": {},
   "source": [
    "Note that a growth rate of 5 is extreme population growth! Going back in time, the population size at time $T=0.5 \\times 2N_e$ generations ago (1 million Dmel generations) would be roughly an order of magnitude smaller than at the time of sampling (0):"
   ]
  },
  {
   "cell_type": "code",
   "execution_count": 977,
   "metadata": {},
   "outputs": [
    {
     "data": {
      "image/png": "[encoded data removed]",
      "text/plain": [
       "<Figure size 640x480 with 1 Axes>"
      ]
     },
     "metadata": {},
     "output_type": "display_data"
    }
   ],
   "source": [
    "t = np.arange(0., 5., 0.2)\n",
    "ty = np.exp(t*-5)\n",
    "plt.ylabel('N_e')\n",
    "plt.xlabel('time')\n",
    "p = sns.lineplot(x =t, y =ty)"
   ]
  },
  {
   "cell_type": "code",
   "execution_count": 978,
   "metadata": {},
   "outputs": [],
   "source": [
    "#SOL\n",
    "ts_grow = run_growth_sims(17, rate=5, num_rep=None, seed=123)"
   ]
  },
  {
   "cell_type": "code",
   "execution_count": 979,
   "metadata": {},
   "outputs": [
    {
     "data": {
      "image/svg+xml": [
       "<svg xmlns=\"http://www.w3.org/2000/svg\" xmlns:ev=\"http://www.w3.org/2001/xml-events\" xmlns:xlink=\"http://www.w3.org/1999/xlink\" baseProfile=\"full\" height=\"500\" version=\"1.1\" width=\"500\"><defs><style type=\"text/css\"><![CDATA[.background path {fill: #808080; fill-opacity: 0}.background path:nth-child(odd) {fill-opacity: .1}.axes {font-size: 14px}.x-axis .tick .lab {font-weight: bold; dominant-baseline: hanging}.axes, .tree {font-size: 14px; text-anchor: middle}.axes line, .edge {stroke: black; fill: none}.axes .ax-skip {stroke-dasharray: 4}.y-axis .grid {stroke: #FAFAFA}.node > .sym {fill: black; stroke: none}.site > .sym {stroke: black}.mut text {fill: red; font-style: italic}.mut.extra text {fill: hotpink}.mut line {fill: none; stroke: none}.mut .sym {fill: none; stroke: red}.mut.extra .sym {stroke: hotpink}.node .mut .sym {stroke-width: 1.5px}.tree text, .tree-sequence text {dominant-baseline: central}.plotbox .lab.lft {text-anchor: end}.plotbox .lab.rgt {text-anchor: start}]]></style></defs><g class=\"tree-sequence\"><g class=\"background\"><path d=\"M56.8,0 l423.2,0 l0,438.2 l0,25 l0,5 l-423.2,0 l0,-5 l0,-25 l0,-438.2z\"/></g><g class=\"axes\"><g class=\"x-axis\"><g class=\"title\" transform=\"translate(268.4 500)\"><text class=\"lab\" text-anchor=\"middle\" transform=\"translate(0 -11)\">Genome position</text></g><line class=\"ax-line\" x1=\"56.8\" x2=\"480\" y1=\"463.2\" y2=\"463.2\"/><g class=\"ticks\"><g class=\"tick\" transform=\"translate(56.8 463.2)\"><line x1=\"0\" x2=\"0\" y1=\"0\" y2=\"5\"/><g transform=\"translate(0 6)\"><text class=\"lab\">0</text></g></g><g class=\"tick\" transform=\"translate(480 463.2)\"><line x1=\"0\" x2=\"0\" y1=\"0\" y2=\"5\"/><g transform=\"translate(0 6)\"><text class=\"lab\">1</text></g></g></g></g><g class=\"y-axis\"><g class=\"title\" transform=\"translate(0 215.7)\"><text class=\"lab\" text-anchor=\"middle\" transform=\"translate(11) rotate(-90)\">Time (generations)</text></g><line class=\"ax-line\" x1=\"56.8\" x2=\"56.8\" y1=\"421.4\" y2=\"10\"/><g class=\"ticks\"><g class=\"tick\" transform=\"translate(56.8 421.4)\"><line x1=\"0\" x2=\"-5\" y1=\"0\" y2=\"0\"/><g transform=\"translate(-6 0)\"><text class=\"lab\" text-anchor=\"end\">0.00</text></g></g><g class=\"tick\" transform=\"translate(56.8 414.832)\"><line x1=\"0\" x2=\"-5\" y1=\"0\" y2=\"0\"/><g transform=\"translate(-6 0)\"><text class=\"lab\" text-anchor=\"end\">0.01</text></g></g><g class=\"tick\" transform=\"translate(56.8 411.45)\"><line x1=\"0\" x2=\"-5\" y1=\"0\" y2=\"0\"/><g transform=\"translate(-6 0)\"><text class=\"lab\" text-anchor=\"end\">0.01</text></g></g><g class=\"tick\" transform=\"translate(56.8 406.071)\"><line x1=\"0\" x2=\"-5\" y1=\"0\" y2=\"0\"/><g transform=\"translate(-6 0)\"><text class=\"lab\" text-anchor=\"end\">0.02</text></g></g><g class=\"tick\" transform=\"translate(56.8 401.014)\"><line x1=\"0\" x2=\"-5\" y1=\"0\" y2=\"0\"/><g transform=\"translate(-6 0)\"><text class=\"lab\" text-anchor=\"end\">0.03</text></g></g><g class=\"tick\" transform=\"translate(56.8 370.356)\"><line x1=\"0\" x2=\"-5\" y1=\"0\" y2=\"0\"/><g transform=\"translate(-6 0)\"><text class=\"lab\" text-anchor=\"end\">0.07</text></g></g><g class=\"tick\" transform=\"translate(56.8 363.317)\"><line x1=\"0\" x2=\"-5\" y1=\"0\" y2=\"0\"/><g transform=\"translate(-6 0)\"><text class=\"lab\" text-anchor=\"end\">0.08</text></g></g><g class=\"tick\" transform=\"translate(56.8 358.648)\"><line x1=\"0\" x2=\"-5\" y1=\"0\" y2=\"0\"/><g transform=\"translate(-6 0)\"><text class=\"lab\" text-anchor=\"end\">0.08</text></g></g><g class=\"tick\" transform=\"translate(56.8 347.89)\"><line x1=\"0\" x2=\"-5\" y1=\"0\" y2=\"0\"/><g transform=\"translate(-6 0)\"><text class=\"lab\" text-anchor=\"end\">0.10</text></g></g><g class=\"tick\" transform=\"translate(56.8 340.478)\"><line x1=\"0\" x2=\"-5\" y1=\"0\" y2=\"0\"/><g transform=\"translate(-6 0)\"><text class=\"lab\" text-anchor=\"end\">0.11</text></g></g><g class=\"tick\" transform=\"translate(56.8 322.457)\"><line x1=\"0\" x2=\"-5\" y1=\"0\" y2=\"0\"/><g transform=\"translate(-6 0)\"><text class=\"lab\" text-anchor=\"end\">0.13</text></g></g><g class=\"tick\" transform=\"translate(56.8 298.798)\"><line x1=\"0\" x2=\"-5\" y1=\"0\" y2=\"0\"/><g transform=\"translate(-6 0)\"><text class=\"lab\" text-anchor=\"end\">0.16</text></g></g><g class=\"tick\" transform=\"translate(56.8 286.048)\"><line x1=\"0\" x2=\"-5\" y1=\"0\" y2=\"0\"/><g transform=\"translate(-6 0)\"><text class=\"lab\" text-anchor=\"end\">0.18</text></g></g><g class=\"tick\" transform=\"translate(56.8 263.768)\"><line x1=\"0\" x2=\"-5\" y1=\"0\" y2=\"0\"/><g transform=\"translate(-6 0)\"><text class=\"lab\" text-anchor=\"end\">0.21</text></g></g><g class=\"tick\" transform=\"translate(56.8 240.229)\"><line x1=\"0\" x2=\"-5\" y1=\"0\" y2=\"0\"/><g transform=\"translate(-6 0)\"><text class=\"lab\" text-anchor=\"end\">0.24</text></g></g><g class=\"tick\" transform=\"translate(56.8 136.697)\"><line x1=\"0\" x2=\"-5\" y1=\"0\" y2=\"0\"/><g transform=\"translate(-6 0)\"><text class=\"lab\" text-anchor=\"end\">0.37</text></g></g><g class=\"tick\" transform=\"translate(56.8 26.8)\"><line x1=\"0\" x2=\"-5\" y1=\"0\" y2=\"0\"/><g transform=\"translate(-6 0)\"><text class=\"lab\" text-anchor=\"end\">0.52</text></g></g></g></g></g><g class=\"plotbox trees\"><g class=\"tree t0\" transform=\"translate(56.8 0)\"><g class=\"plotbox\"><g class=\"c2 node n32 p0 root\" transform=\"translate(275.173 26.8)\"><g class=\"a32 c2 node n28 p0\" transform=\"translate(66.0386 259.248)\"><g class=\"a28 c2 node n25 p0\" transform=\"translate(33.8118 54.4302)\"><g class=\"a25 i13 leaf node n13 p0 sample\" transform=\"translate(16.9059 80.9222)\"><path class=\"edge\" d=\"M 0 0 V -80.9222 H -16.9059\"/><rect class=\"sym\" height=\"6\" width=\"6\" x=\"-3\" y=\"-3\"/><text class=\"lab\" transform=\"translate(0 11)\">13</text></g><g class=\"a25 c2 node n17 p0\" transform=\"translate(-16.9059 74.354)\"><g class=\"a17 i4 leaf node n4 p0 sample\" transform=\"translate(-11.2706 6.5682)\"><path class=\"edge\" d=\"M 0 0 V -6.5682 H 11.2706\"/><rect class=\"sym\" height=\"6\" width=\"6\" x=\"-3\" y=\"-3\"/><text class=\"lab\" transform=\"translate(0 11)\">4</text></g><g class=\"a17 i12 leaf node n12 p0 sample\" transform=\"translate(11.2706 6.5682)\"><path class=\"edge\" d=\"M 0 0 V -6.5682 H -11.2706\"/><rect class=\"sym\" height=\"6\" width=\"6\" x=\"-3\" y=\"-3\"/><text class=\"lab\" transform=\"translate(0 11)\">12</text></g><path class=\"edge\" d=\"M 0 0 V -74.354 H 16.9059\"/><circle class=\"sym\" cx=\"0\" cy=\"0\" r=\"3\"/><text class=\"lab lft\" transform=\"translate(-3 -7.0)\">17</text></g><path class=\"edge\" d=\"M 0 0 V -54.4302 H -33.8118\"/><circle class=\"sym\" cx=\"0\" cy=\"0\" r=\"3\"/><text class=\"lab rgt\" transform=\"translate(3 -7.0)\">25</text></g><g class=\"a28 c2 node n26 p0\" transform=\"translate(-33.8118 36.4096)\"><g class=\"a26 i7 leaf node n7 p0 sample\" transform=\"translate(16.9059 98.9428)\"><path class=\"edge\" d=\"M 0 0 V -98.9428 H -16.9059\"/><rect class=\"sym\" height=\"6\" width=\"6\" x=\"-3\" y=\"-3\"/><text class=\"lab\" transform=\"translate(0 11)\">7</text></g><g class=\"a26 c2 node n20 p0\" transform=\"translate(-16.9059 78.5565)\"><g class=\"a20 i2 leaf node n2 p0 sample\" transform=\"translate(-11.2706 20.3864)\"><path class=\"edge\" d=\"M 0 0 V -20.3864 H 11.2706\"/><rect class=\"sym\" height=\"6\" width=\"6\" x=\"-3\" y=\"-3\"/><text class=\"lab\" transform=\"translate(0 11)\">2</text></g><g class=\"a20 i11 leaf node n11 p0 sample\" transform=\"translate(11.2706 20.3864)\"><path class=\"edge\" d=\"M 0 0 V -20.3864 H -11.2706\"/><rect class=\"sym\" height=\"6\" width=\"6\" x=\"-3\" y=\"-3\"/><text class=\"lab\" transform=\"translate(0 11)\">11</text></g><path class=\"edge\" d=\"M 0 0 V -78.5565 H 16.9059\"/><circle class=\"sym\" cx=\"0\" cy=\"0\" r=\"3\"/><text class=\"lab lft\" transform=\"translate(-3 -7.0)\">20</text></g><path class=\"edge\" d=\"M 0 0 V -36.4096 H 33.8118\"/><circle class=\"sym\" cx=\"0\" cy=\"0\" r=\"3\"/><text class=\"lab lft\" transform=\"translate(-3 -7.0)\">26</text></g><path class=\"edge\" d=\"M 0 0 V -259.248 H -66.0386\"/><circle class=\"sym\" cx=\"0\" cy=\"0\" r=\"3\"/><text class=\"lab rgt\" transform=\"translate(3 -7.0)\">28</text></g><g class=\"a32 c2 node n31 p0\" transform=\"translate(-66.0386 109.897)\"><g class=\"a31 i16 leaf node n16 p0 sample\" transform=\"translate(47.5478 284.703)\"><path class=\"edge\" d=\"M 0 0 V -284.703 H -47.5478\"/><rect class=\"sym\" height=\"6\" width=\"6\" x=\"-3\" y=\"-3\"/><text class=\"lab\" transform=\"translate(0 11)\">16</text></g><g class=\"a31 c2 node n30 p0\" transform=\"translate(-47.5478 103.533)\"><g class=\"a30 c2 node n24 p0\" transform=\"translate(52.8309 107.661)\"><g class=\"a24 i15 leaf node n15 p0 sample\" transform=\"translate(19.7235 73.5097)\"><path class=\"edge\" d=\"M 0 0 V -73.5097 H -19.7235\"/><rect class=\"sym\" height=\"6\" width=\"6\" x=\"-3\" y=\"-3\"/><text class=\"lab\" transform=\"translate(0 11)\">15</text></g><g class=\"a24 c2 node n21 p0\" transform=\"translate(-19.7235 22.466)\"><g class=\"a21 i10 leaf node n10 p0 sample\" transform=\"translate(16.9059 51.0438)\"><path class=\"edge\" d=\"M 0 0 V -51.0438 H -16.9059\"/><rect class=\"sym\" height=\"6\" width=\"6\" x=\"-3\" y=\"-3\"/><text class=\"lab\" transform=\"translate(0 11)\">10</text></g><g class=\"a21 c2 node n19 p0\" transform=\"translate(-16.9059 35.7144)\"><g class=\"a19 i3 leaf node n3 p0 sample\" transform=\"translate(-11.2706 15.3293)\"><path class=\"edge\" d=\"M 0 0 V -15.3293 H 11.2706\"/><rect class=\"sym\" height=\"6\" width=\"6\" x=\"-3\" y=\"-3\"/><text class=\"lab\" transform=\"translate(0 11)\">3</text></g><g class=\"a19 i6 leaf node n6 p0 sample\" transform=\"translate(11.2706 15.3293)\"><path class=\"edge\" d=\"M 0 0 V -15.3293 H -11.2706\"/><rect class=\"sym\" height=\"6\" width=\"6\" x=\"-3\" y=\"-3\"/><text class=\"lab\" transform=\"translate(0 11)\">6</text></g><path class=\"edge\" d=\"M 0 0 V -35.7144 H 16.9059\"/><circle class=\"sym\" cx=\"0\" cy=\"0\" r=\"3\"/><text class=\"lab lft\" transform=\"translate(-3 -7.0)\">19</text></g><path class=\"edge\" d=\"M 0 0 V -22.466 H 19.7235\"/><circle class=\"sym\" cx=\"0\" cy=\"0\" r=\"3\"/><text class=\"lab lft\" transform=\"translate(-3 -7.0)\">21</text></g><path class=\"edge\" d=\"M 0 0 V -107.661 H -52.8309\"/><circle class=\"sym\" cx=\"0\" cy=\"0\" r=\"3\"/><text class=\"lab rgt\" transform=\"translate(3 -7.0)\">24</text></g><g class=\"a30 c2 node n29 p0\" transform=\"translate(-52.8309 23.539)\"><g class=\"a29 i1 leaf node n1 p0 sample\" transform=\"translate(35.2206 157.632)\"><path class=\"edge\" d=\"M 0 0 V -157.632 H -35.2206\"/><rect class=\"sym\" height=\"6\" width=\"6\" x=\"-3\" y=\"-3\"/><text class=\"lab\" transform=\"translate(0 11)\">1</text></g><g class=\"a29 c2 node n27 p0\" transform=\"translate(-35.2206 35.0295)\"><g class=\"a27 c2 node n22 p0\" transform=\"translate(-30.9941 64.5193)\"><g class=\"a22 i0 leaf node n0 p0 sample\" transform=\"translate(-11.2706 58.0827)\"><path class=\"edge\" d=\"M 0 0 V -58.0827 H 11.2706\"/><rect class=\"sym\" height=\"6\" width=\"6\" x=\"-3\" y=\"-3\"/><text class=\"lab\" transform=\"translate(0 11)\">0</text></g><g class=\"a22 i9 leaf node n9 p0 sample\" transform=\"translate(11.2706 58.0827)\"><path class=\"edge\" d=\"M 0 0 V -58.0827 H -11.2706\"/><rect class=\"sym\" height=\"6\" width=\"6\" x=\"-3\" y=\"-3\"/><text class=\"lab\" transform=\"translate(0 11)\">9</text></g><path class=\"edge\" d=\"M 0 0 V -64.5193 H 30.9941\"/><circle class=\"sym\" cx=\"0\" cy=\"0\" r=\"3\"/><text class=\"lab lft\" transform=\"translate(-3 -7.0)\">22</text></g><g class=\"a27 c2 node n23 p0\" transform=\"translate(30.9941 59.8502)\"><g class=\"a23 i8 leaf node n8 p0 sample\" transform=\"translate(16.9059 62.7518)\"><path class=\"edge\" d=\"M 0 0 V -62.7518 H -16.9059\"/><rect class=\"sym\" height=\"6\" width=\"6\" x=\"-3\" y=\"-3\"/><text class=\"lab\" transform=\"translate(0 11)\">8</text></g><g class=\"a23 c2 node n18 p0\" transform=\"translate(-16.9059 52.8022)\"><g class=\"a18 i5 leaf node n5 p0 sample\" transform=\"translate(-11.2706 9.94959)\"><path class=\"edge\" d=\"M 0 0 V -9.94959 H 11.2706\"/><rect class=\"sym\" height=\"6\" width=\"6\" x=\"-3\" y=\"-3\"/><text class=\"lab\" transform=\"translate(0 11)\">5</text></g><g class=\"a18 i14 leaf node n14 p0 sample\" transform=\"translate(11.2706 9.94959)\"><path class=\"edge\" d=\"M 0 0 V -9.94959 H -11.2706\"/><rect class=\"sym\" height=\"6\" width=\"6\" x=\"-3\" y=\"-3\"/><text class=\"lab\" transform=\"translate(0 11)\">14</text></g><path class=\"edge\" d=\"M 0 0 V -52.8022 H 16.9059\"/><circle class=\"sym\" cx=\"0\" cy=\"0\" r=\"3\"/><text class=\"lab lft\" transform=\"translate(-3 -7.0)\">18</text></g><path class=\"edge\" d=\"M 0 0 V -59.8502 H -30.9941\"/><circle class=\"sym\" cx=\"0\" cy=\"0\" r=\"3\"/><text class=\"lab rgt\" transform=\"translate(3 -7.0)\">23</text></g><path class=\"edge\" d=\"M 0 0 V -35.0295 H 35.2206\"/><circle class=\"sym\" cx=\"0\" cy=\"0\" r=\"3\"/><text class=\"lab lft\" transform=\"translate(-3 -7.0)\">27</text></g><path class=\"edge\" d=\"M 0 0 V -23.539 H 52.8309\"/><circle class=\"sym\" cx=\"0\" cy=\"0\" r=\"3\"/><text class=\"lab lft\" transform=\"translate(-3 -7.0)\">29</text></g><path class=\"edge\" d=\"M 0 0 V -103.533 H 47.5478\"/><circle class=\"sym\" cx=\"0\" cy=\"0\" r=\"3\"/><text class=\"lab lft\" transform=\"translate(-3 -7.0)\">30</text></g><path class=\"edge\" d=\"M 0 0 V -109.897 H 66.0386\"/><circle class=\"sym\" cx=\"0\" cy=\"0\" r=\"3\"/><text class=\"lab lft\" transform=\"translate(-3 -7.0)\">31</text></g><circle class=\"sym\" cx=\"0\" cy=\"0\" r=\"3\"/><text class=\"lab\" transform=\"translate(0 -11)\">32</text></g></g></g></g></g></svg>"
      ],
      "text/plain": [
       "<IPython.core.display.SVG object>"
      ]
     },
     "metadata": {},
     "output_type": "display_data"
    }
   ],
   "source": [
    "#SOL\n",
    "display(SVG(ts_grow.draw_svg(size=(500, 500),y_axis=True)))"
   ]
  },
  {
   "cell_type": "code",
   "execution_count": 980,
   "metadata": {},
   "outputs": [],
   "source": [
    "#SOL: It is much shallower ($T_{MRCA}= 0.52!$) and has an excess of singleton branches than a typical genealogy from a pop of constant size."
   ]
  },
  {
   "cell_type": "markdown",
   "metadata": {},
   "source": [
    "<div class=\"alert alert-block alert-success\">    \n",
    "        <b>Exercise 18:</b> Use <code>run_growth_sims</code> to simulate the mean SFS for a population that has undergone exponential growth at rate 5. Does this history give a better fit to the Dmel history than a population of constant size?\n",
    "    \n",
    "<b>Hint:</b> Set <code>nsamp_dmel</code>\n",
    "<code>growth_rate</code> and <code>num_replicates</code> in the code chunk below and run it to compute the mean across replicates as in section 2.1. Combine the dataframe with the Dmel SFS daraframe and plot.\n",
    "</div>"
   ]
  },
  {
   "cell_type": "code",
   "execution_count": 982,
   "metadata": {},
   "outputs": [],
   "source": [
    "nsamp_dmel = 17\n",
    "growth_rate = 5\n",
    "num_replicates = 10_000\n",
    "sfs_table = np.zeros((num_replicates, nsamp_dmel+1))\n",
    "replicates = run_growth_sims(nsamp_dmel, rate=growth_rate, num_rep=num_replicates)\n",
    "for replicate_index, ts in enumerate(replicates):\n",
    "    sfs = ts.allele_frequency_spectrum(mode=\"branch\", polarised=True)\n",
    "    sfs_table[replicate_index] = sfs"
   ]
  },
  {
   "cell_type": "code",
   "execution_count": 983,
   "metadata": {},
   "outputs": [],
   "source": [
    "sfs_mean_g5 = sfs_table.mean(0)[1:nsamp_dmel]\n",
    "sfs_mean_g5/=np.sum(sfs_mean_g5)\n",
    "\n",
    "type_sim_g5 = ['sim_g5']*(nsamp_dmel-1)\n",
    "sfs_sim_g5_df = pd.DataFrame({'itons':itons,'sfs':sfs_mean_g5,'type':type_sim_g5})"
   ]
  },
  {
   "cell_type": "code",
   "execution_count": 984,
   "metadata": {},
   "outputs": [
    {
     "data": {
      "image/png": "[encoded data removed]",
      "text/plain": [
       "<Figure size 640x480 with 1 Axes>"
      ]
     },
     "metadata": {},
     "output_type": "display_data"
    }
   ],
   "source": [
    "sfs_mean_g5 = sfs_table.mean(0)[1:nsamp_dmel]\n",
    "sfs_mean_g5/=np.sum(sfs_mean_g5)\n",
    "\n",
    "type_sim_g5 = ['sim_g5']*(nsamp_dmel-1)\n",
    "sfs_sim_g5_df = pd.DataFrame({'itons':itons,'sfs':sfs_mean_g5,'type':type_sim_g5})\n",
    "\n",
    "#Combines this with the dmel_SFS dataframe\n",
    "sfs_dmel_concat3_df = pd.concat([sfs_dmel_concat_df, sfs_sim_g5_df])\n",
    "p = sns.barplot(x='itons', y='sfs', hue='type', data=sfs_dmel_concat3_df)"
   ]
  },
  {
   "cell_type": "markdown",
   "metadata": {},
   "source": [
    "## 2.4 Finding plausible demographic histories with Approximate Likelihood inference"
   ]
  },
  {
   "cell_type": "markdown",
   "metadata": {},
   "source": [
    "Fitting real data to a model can be challenging. For very simple models, such a neutrally evolving Wright-Fisher population of constant size analytic expectations exist for summaries of sequence variation and one can use likelihood approaches maximise the fit between data and model. \n",
    "\n",
    "However, for most biologically interesting/realistic models analytic predictions do NOT exits. This has led to the development of likelihood-free inference methods, that use simulations to fit data to models of demographic history including Approximate Bayesian Computation (ABC) ([Beaumont 2002](https://www.genetics.org/content/162/4/2025)) and machine learning. \n",
    "\n",
    "We will demonstrate how `msprime` can be used for a simple approximate inference. Given the poor fit an exponential growth model when choosing an arbitrary growth rate (above), our aim is to infer the growth rate parameter that gives the best fit to the *D. melanogaster* SFS."
   ]
  },
  {
   "cell_type": "markdown",
   "metadata": {},
   "source": [
    "The code chunk below defines a function `approx_1DS_SFS` that sets up a number of replicate msprime simulations under an arbitrary demography and returns the mean SFS."
   ]
  },
  {
   "cell_type": "code",
   "execution_count": 993,
   "metadata": {},
   "outputs": [],
   "source": [
    "def approx_1D_SFS(num_samp, demography, num_rep=None, seed=123):\n",
    "    sfs_table = np.zeros((num_rep, num_samp+1))\n",
    "    replicates = msprime.sim_ancestry(\n",
    "        samples=[msprime.SampleSet(num_samp, ploidy=1)],\n",
    "        num_replicates=num_rep,\n",
    "        demography=demography,\n",
    "        random_seed=seed)\n",
    "    for replicate_index, ts in enumerate(replicates):\n",
    "        sfs = ts.allele_frequency_spectrum(mode=\"branch\", polarised=True)\n",
    "        sfs_table[replicate_index] = sfs\n",
    "    sfs_mean = sfs_table.mean(0)[1:num_samp]\n",
    "    return sfs_mean / np.sum(sfs_mean)"
   ]
  },
  {
   "cell_type": "markdown",
   "metadata": {},
   "source": [
    "If we want to find the best fitting history, we need to compare the real data to simulations under a range of growth models. Let's define a numpy array of growth rates from 0 to 0.5: "
   ]
  },
  {
   "cell_type": "code",
   "execution_count": 994,
   "metadata": {},
   "outputs": [],
   "source": [
    "growth_rate_grid = np.arange(-0.02,0.5,0.01)"
   ]
  },
  {
   "cell_type": "markdown",
   "metadata": {},
   "source": [
    "We can  use <code>approx_1D_SFS</code> to find the approximate SFS (based on 1,000 replicate simulations) for each value in <code>growth_rate_grid</code>:"
   ]
  },
  {
   "cell_type": "code",
   "execution_count": 995,
   "metadata": {},
   "outputs": [],
   "source": [
    "num_rep = 1_000\n",
    "sfs_exp_grid = np.zeros((len(growth_rate_grid), nsamp_dmel-1))\n",
    "for rate_index, rate in enumerate(growth_rate_grid):\n",
    "    demography = msprime.Demography()\n",
    "    demography.add_population(initial_size=1/2)\n",
    "    demography.add_population_parameters_change(time = 0, growth_rate = rate, population=0)\n",
    "    sfs_exp_grid[rate_index] = approx_1D_SFS(num_samp = nsamp_dmel, demography = demography, num_rep = num_rep, seed=123)"
   ]
  },
  {
   "cell_type": "markdown",
   "metadata": {},
   "source": [
    "<div class=\"alert alert-block alert-info\">\n",
    "    <b>PopGen:</b>\n",
    "\n",
    "How do we compare the real and simulated SFS? There are two obvious options:\n",
    " - We could compute sum of squared differences, aka the Euclidean distance between the observed and simulated (mean) SFS. ABC inference is based on this measure of goodness of fit.\n",
    " - Alternatively, we can could compute a likelihood. Remember that the normalised SFS can be interpreted as a probability distribution; i.e. each entry gives the probability of the correspoding $n_{ton}$ type. The overal log likelihood (support) of the model ($\\Theta$) given a set of SFS counts $\\bar{j} = \\{j_1, j_2 \\ldots j_{n-1}\\}$ is:\n",
    "\n",
    "\\begin{equation}\n",
    "ln(L[\\Theta |\\bar{j}]) = \\sum_{i=1}^{n-1} j_i \\times ln(p_i)\n",
    "\\end{equation}\n",
    " </div>"
   ]
  },
  {
   "cell_type": "code",
   "execution_count": 996,
   "metadata": {},
   "outputs": [],
   "source": [
    "support = np.zeros(len(growth_rate_grid))\n",
    "for idx, sfs in enumerate(sfs_exp_grid):\n",
    "    support[idx] = sum(np.log(sfs) * dmel_sfs_var)"
   ]
  },
  {
   "cell_type": "code",
   "execution_count": 997,
   "metadata": {},
   "outputs": [
    {
     "data": {
      "image/png": "[encoded data removed]",
      "text/plain": [
       "<Figure size 640x480 with 1 Axes>"
      ]
     },
     "metadata": {},
     "output_type": "display_data"
    }
   ],
   "source": [
    "plt.xlabel('growth_rate')\n",
    "plt.ylabel('support (lnL)')\n",
    "p = sns.lineplot(x = growth_rate_grid, y = support)"
   ]
  },
  {
   "cell_type": "markdown",
   "metadata": {},
   "source": [
    "<div class=\"alert alert-block alert-success\">    \n",
    "    <b>Exercise 19:</b> How do you interpret the support curve above? \n",
    "    </div>"
   ]
  },
  {
   "cell_type": "markdown",
   "metadata": {},
   "source": [
    "<div class=\"alert alert-block alert-info\">\n",
    "    <b>answer:</b>\n",
    "\n",
    "growth rate=0, likelihood is largest\n",
    "fly population didn't experence population growth.\n",
    " </div>"
   ]
  },
  {
   "cell_type": "markdown",
   "metadata": {},
   "source": [
    "The code chunk below sets up an instantaneous bottleneck at time $t=0.2$ (on the coalescence scale of 2 $N_e$ generations) will be useful. To keep things simple, we will keep the bottleneck time fixed (at 0.2) and explore strengths between 0 and 11."
   ]
  },
  {
   "cell_type": "code",
   "execution_count": 1002,
   "metadata": {},
   "outputs": [
    {
     "data": {
      "image/svg+xml": [
       "<svg xmlns=\"http://www.w3.org/2000/svg\" xmlns:ev=\"http://www.w3.org/2001/xml-events\" xmlns:xlink=\"http://www.w3.org/1999/xlink\" baseProfile=\"full\" height=\"500\" version=\"1.1\" width=\"500\"><defs><style type=\"text/css\"><![CDATA[.background path {fill: #808080; fill-opacity: 0}.background path:nth-child(odd) {fill-opacity: .1}.axes {font-size: 14px}.x-axis .tick .lab {font-weight: bold; dominant-baseline: hanging}.axes, .tree {font-size: 14px; text-anchor: middle}.axes line, .edge {stroke: black; fill: none}.axes .ax-skip {stroke-dasharray: 4}.y-axis .grid {stroke: #FAFAFA}.node > .sym {fill: black; stroke: none}.site > .sym {stroke: black}.mut text {fill: red; font-style: italic}.mut.extra text {fill: hotpink}.mut line {fill: none; stroke: none}.mut .sym {fill: none; stroke: red}.mut.extra .sym {stroke: hotpink}.node .mut .sym {stroke-width: 1.5px}.tree text, .tree-sequence text {dominant-baseline: central}.plotbox .lab.lft {text-anchor: end}.plotbox .lab.rgt {text-anchor: start}]]></style></defs><g class=\"tree t0\"><g class=\"axes\"><g class=\"y-axis\"><g class=\"title\" transform=\"translate(0 239.1)\"><text class=\"lab\" text-anchor=\"middle\" transform=\"translate(11) rotate(-90)\">Time (generations)</text></g><line class=\"ax-line\" x1=\"56.8\" x2=\"56.8\" y1=\"468.2\" y2=\"10\"/><g class=\"ticks\"><g class=\"tick\" transform=\"translate(56.8 26.8)\"><line x1=\"0\" x2=\"-5\" y1=\"0\" y2=\"0\"/><g transform=\"translate(-6 0)\"><text class=\"lab\" text-anchor=\"end\">1.13</text></g></g><g class=\"tick\" transform=\"translate(56.8 420.111)\"><line x1=\"0\" x2=\"-5\" y1=\"0\" y2=\"0\"/><g transform=\"translate(-6 0)\"><text class=\"lab\" text-anchor=\"end\">0.12</text></g></g><g class=\"tick\" transform=\"translate(56.8 468.2)\"><line x1=\"0\" x2=\"-5\" y1=\"0\" y2=\"0\"/><g transform=\"translate(-6 0)\"><text class=\"lab\" text-anchor=\"end\">0.00</text></g></g><g class=\"tick\" transform=\"translate(56.8 437.323)\"><line x1=\"0\" x2=\"-5\" y1=\"0\" y2=\"0\"/><g transform=\"translate(-6 0)\"><text class=\"lab\" text-anchor=\"end\">0.08</text></g></g><g class=\"tick\" transform=\"translate(56.8 459.983)\"><line x1=\"0\" x2=\"-5\" y1=\"0\" y2=\"0\"/><g transform=\"translate(-6 0)\"><text class=\"lab\" text-anchor=\"end\">0.02</text></g></g><g class=\"tick\" transform=\"translate(56.8 199.541)\"><line x1=\"0\" x2=\"-5\" y1=\"0\" y2=\"0\"/><g transform=\"translate(-6 0)\"><text class=\"lab\" text-anchor=\"end\">0.69</text></g></g><g class=\"tick\" transform=\"translate(56.8 390.168)\"><line x1=\"0\" x2=\"-5\" y1=\"0\" y2=\"0\"/><g transform=\"translate(-6 0)\"><text class=\"lab\" text-anchor=\"end\">0.20</text></g></g><g class=\"tick\" transform=\"translate(56.8 428.668)\"><line x1=\"0\" x2=\"-5\" y1=\"0\" y2=\"0\"/><g transform=\"translate(-6 0)\"><text class=\"lab\" text-anchor=\"end\">0.10</text></g></g><g class=\"tick\" transform=\"translate(56.8 462.961)\"><line x1=\"0\" x2=\"-5\" y1=\"0\" y2=\"0\"/><g transform=\"translate(-6 0)\"><text class=\"lab\" text-anchor=\"end\">0.01</text></g></g><g class=\"tick\" transform=\"translate(56.8 413.854)\"><line x1=\"0\" x2=\"-5\" y1=\"0\" y2=\"0\"/><g transform=\"translate(-6 0)\"><text class=\"lab\" text-anchor=\"end\">0.14</text></g></g><g class=\"tick\" transform=\"translate(56.8 464.78)\"><line x1=\"0\" x2=\"-5\" y1=\"0\" y2=\"0\"/><g transform=\"translate(-6 0)\"><text class=\"lab\" text-anchor=\"end\">0.01</text></g></g><g class=\"tick\" transform=\"translate(56.8 397.319)\"><line x1=\"0\" x2=\"-5\" y1=\"0\" y2=\"0\"/><g transform=\"translate(-6 0)\"><text class=\"lab\" text-anchor=\"end\">0.18</text></g></g><g class=\"tick\" transform=\"translate(56.8 457.086)\"><line x1=\"0\" x2=\"-5\" y1=\"0\" y2=\"0\"/><g transform=\"translate(-6 0)\"><text class=\"lab\" text-anchor=\"end\">0.03</text></g></g><g class=\"tick\" transform=\"translate(56.8 367.181)\"><line x1=\"0\" x2=\"-5\" y1=\"0\" y2=\"0\"/><g transform=\"translate(-6 0)\"><text class=\"lab\" text-anchor=\"end\">0.26</text></g></g><g class=\"tick\" transform=\"translate(56.8 432.199)\"><line x1=\"0\" x2=\"-5\" y1=\"0\" y2=\"0\"/><g transform=\"translate(-6 0)\"><text class=\"lab\" text-anchor=\"end\">0.09</text></g></g></g></g></g><g class=\"plotbox\"><g class=\"c2 node n30 p0 root\" transform=\"translate(315.854 26.8)\"><g class=\"a30 c2 node n24 p0\" transform=\"translate(129.916 393.311)\"><g class=\"a24 i15 leaf node n15 p0 sample\" transform=\"translate(21.7824 48.0895)\"><path class=\"edge\" d=\"M 0 0 V -48.0895 H -21.7824\"/><rect class=\"sym\" height=\"6\" width=\"6\" x=\"-3\" y=\"-3\"/><text class=\"lab\" transform=\"translate(0 11)\">15</text></g><g class=\"a24 c2 node n21 p0\" transform=\"translate(-21.7824 17.2128)\"><g class=\"a21 i10 leaf node n10 p0 sample\" transform=\"translate(18.6706 30.8767)\"><path class=\"edge\" d=\"M 0 0 V -30.8767 H -18.6706\"/><rect class=\"sym\" height=\"6\" width=\"6\" x=\"-3\" y=\"-3\"/><text class=\"lab\" transform=\"translate(0 11)\">10</text></g><g class=\"a21 c2 node n19 p0\" transform=\"translate(-18.6706 22.6594)\"><g class=\"a19 i3 leaf node n3 p0 sample\" transform=\"translate(-12.4471 8.21731)\"><path class=\"edge\" d=\"M 0 0 V -8.21731 H 12.4471\"/><rect class=\"sym\" height=\"6\" width=\"6\" x=\"-3\" y=\"-3\"/><text class=\"lab\" transform=\"translate(0 11)\">3</text></g><g class=\"a19 i6 leaf node n6 p0 sample\" transform=\"translate(12.4471 8.21731)\"><path class=\"edge\" d=\"M 0 0 V -8.21731 H -12.4471\"/><rect class=\"sym\" height=\"6\" width=\"6\" x=\"-3\" y=\"-3\"/><text class=\"lab\" transform=\"translate(0 11)\">6</text></g><path class=\"edge\" d=\"M 0 0 V -22.6594 H 18.6706\"/><circle class=\"sym\" cx=\"0\" cy=\"0\" r=\"3\"/><text class=\"lab lft\" transform=\"translate(-3 -7.0)\">19</text></g><path class=\"edge\" d=\"M 0 0 V -17.2128 H 21.7824\"/><circle class=\"sym\" cx=\"0\" cy=\"0\" r=\"3\"/><text class=\"lab lft\" transform=\"translate(-3 -7.0)\">21</text></g><path class=\"edge\" d=\"M 0 0 V -393.311 H -129.916\"/><circle class=\"sym\" cx=\"0\" cy=\"0\" r=\"3\"/><text class=\"lab rgt\" transform=\"translate(3 -7.0)\">24</text></g><g class=\"a30 c2 node n29 p0\" transform=\"translate(-129.916 172.741)\"><g class=\"a29 c4 node n27 p0\" transform=\"translate(85.5735 190.627)\"><g class=\"a27 i16 leaf node n16 p0 sample\" transform=\"translate(96.4647 78.0319)\"><path class=\"edge\" d=\"M 0 0 V -78.0319 H -96.4647\"/><rect class=\"sym\" height=\"6\" width=\"6\" x=\"-3\" y=\"-3\"/><text class=\"lab\" transform=\"translate(0 11)\">16</text></g><g class=\"a27 c2 node n23 p0\" transform=\"translate(52.9 38.5002)\"><g class=\"a23 i8 leaf node n8 p0 sample\" transform=\"translate(18.6706 39.5317)\"><path class=\"edge\" d=\"M 0 0 V -39.5317 H -18.6706\"/><rect class=\"sym\" height=\"6\" width=\"6\" x=\"-3\" y=\"-3\"/><text class=\"lab\" transform=\"translate(0 11)\">8</text></g><g class=\"a23 c2 node n18 p0\" transform=\"translate(-18.6706 34.2924)\"><g class=\"a18 i5 leaf node n5 p0 sample\" transform=\"translate(-12.4471 5.23934)\"><path class=\"edge\" d=\"M 0 0 V -5.23934 H 12.4471\"/><rect class=\"sym\" height=\"6\" width=\"6\" x=\"-3\" y=\"-3\"/><text class=\"lab\" transform=\"translate(0 11)\">5</text></g><g class=\"a18 i14 leaf node n14 p0 sample\" transform=\"translate(12.4471 5.23934)\"><path class=\"edge\" d=\"M 0 0 V -5.23934 H -12.4471\"/><rect class=\"sym\" height=\"6\" width=\"6\" x=\"-3\" y=\"-3\"/><text class=\"lab\" transform=\"translate(0 11)\">14</text></g><path class=\"edge\" d=\"M 0 0 V -34.2924 H 18.6706\"/><circle class=\"sym\" cx=\"0\" cy=\"0\" r=\"3\"/><text class=\"lab lft\" transform=\"translate(-3 -7.0)\">18</text></g><path class=\"edge\" d=\"M 0 0 V -38.5002 H -52.9\"/><circle class=\"sym\" cx=\"0\" cy=\"0\" r=\"3\"/><text class=\"lab rgt\" transform=\"translate(3 -7.0)\">23</text></g><g class=\"a27 c2 node n25 p0\" transform=\"translate(-21.7824 23.6861)\"><g class=\"a25 i13 leaf node n13 p0 sample\" transform=\"translate(18.6706 54.3458)\"><path class=\"edge\" d=\"M 0 0 V -54.3458 H -18.6706\"/><rect class=\"sym\" height=\"6\" width=\"6\" x=\"-3\" y=\"-3\"/><text class=\"lab\" transform=\"translate(0 11)\">13</text></g><g class=\"a25 c2 node n17 p0\" transform=\"translate(-18.6706 50.9254)\"><g class=\"a17 i4 leaf node n4 p0 sample\" transform=\"translate(-12.4471 3.42042)\"><path class=\"edge\" d=\"M 0 0 V -3.42042 H 12.4471\"/><rect class=\"sym\" height=\"6\" width=\"6\" x=\"-3\" y=\"-3\"/><text class=\"lab\" transform=\"translate(0 11)\">4</text></g><g class=\"a17 i12 leaf node n12 p0 sample\" transform=\"translate(12.4471 3.42042)\"><path class=\"edge\" d=\"M 0 0 V -3.42042 H -12.4471\"/><rect class=\"sym\" height=\"6\" width=\"6\" x=\"-3\" y=\"-3\"/><text class=\"lab\" transform=\"translate(0 11)\">12</text></g><path class=\"edge\" d=\"M 0 0 V -50.9254 H 18.6706\"/><circle class=\"sym\" cx=\"0\" cy=\"0\" r=\"3\"/><text class=\"lab lft\" transform=\"translate(-3 -7.0)\">17</text></g><path class=\"edge\" d=\"M 0 0 V -23.6861 H 21.7824\"/><circle class=\"sym\" cx=\"0\" cy=\"0\" r=\"3\"/><text class=\"lab rgt\" transform=\"translate(3 -7.0)\">25</text></g><g class=\"a27 c2 node n26 p0\" transform=\"translate(-96.4647 7.15115)\"><g class=\"a26 i7 leaf node n7 p0 sample\" transform=\"translate(18.6706 70.8808)\"><path class=\"edge\" d=\"M 0 0 V -70.8808 H -18.6706\"/><rect class=\"sym\" height=\"6\" width=\"6\" x=\"-3\" y=\"-3\"/><text class=\"lab\" transform=\"translate(0 11)\">7</text></g><g class=\"a26 c2 node n20 p0\" transform=\"translate(-18.6706 59.7671)\"><g class=\"a20 i2 leaf node n2 p0 sample\" transform=\"translate(-12.4471 11.1137)\"><path class=\"edge\" d=\"M 0 0 V -11.1137 H 12.4471\"/><rect class=\"sym\" height=\"6\" width=\"6\" x=\"-3\" y=\"-3\"/><text class=\"lab\" transform=\"translate(0 11)\">2</text></g><g class=\"a20 i11 leaf node n11 p0 sample\" transform=\"translate(12.4471 11.1137)\"><path class=\"edge\" d=\"M 0 0 V -11.1137 H -12.4471\"/><rect class=\"sym\" height=\"6\" width=\"6\" x=\"-3\" y=\"-3\"/><text class=\"lab\" transform=\"translate(0 11)\">11</text></g><path class=\"edge\" d=\"M 0 0 V -59.7671 H 18.6706\"/><circle class=\"sym\" cx=\"0\" cy=\"0\" r=\"3\"/><text class=\"lab lft\" transform=\"translate(-3 -7.0)\">20</text></g><path class=\"edge\" d=\"M 0 0 V -7.15115 H 96.4647\"/><circle class=\"sym\" cx=\"0\" cy=\"0\" r=\"3\"/><text class=\"lab lft\" transform=\"translate(-3 -7.0)\">26</text></g><path class=\"edge\" d=\"M 0 0 V -190.627 H -85.5735\"/><circle class=\"sym\" cx=\"0\" cy=\"0\" r=\"3\"/><text class=\"lab rgt\" transform=\"translate(3 -7.0)\">27</text></g><g class=\"a29 c2 node n28 p0\" transform=\"translate(-85.5735 167.639)\"><g class=\"a28 i1 leaf node n1 p0 sample\" transform=\"translate(18.6706 101.019)\"><path class=\"edge\" d=\"M 0 0 V -101.019 H -18.6706\"/><rect class=\"sym\" height=\"6\" width=\"6\" x=\"-3\" y=\"-3\"/><text class=\"lab\" transform=\"translate(0 11)\">1</text></g><g class=\"a28 c2 node n22 p0\" transform=\"translate(-18.6706 65.0188)\"><g class=\"a22 i0 leaf node n0 p0 sample\" transform=\"translate(-12.4471 36.0006)\"><path class=\"edge\" d=\"M 0 0 V -36.0006 H 12.4471\"/><rect class=\"sym\" height=\"6\" width=\"6\" x=\"-3\" y=\"-3\"/><text class=\"lab\" transform=\"translate(0 11)\">0</text></g><g class=\"a22 i9 leaf node n9 p0 sample\" transform=\"translate(12.4471 36.0006)\"><path class=\"edge\" d=\"M 0 0 V -36.0006 H -12.4471\"/><rect class=\"sym\" height=\"6\" width=\"6\" x=\"-3\" y=\"-3\"/><text class=\"lab\" transform=\"translate(0 11)\">9</text></g><path class=\"edge\" d=\"M 0 0 V -65.0188 H 18.6706\"/><circle class=\"sym\" cx=\"0\" cy=\"0\" r=\"3\"/><text class=\"lab lft\" transform=\"translate(-3 -7.0)\">22</text></g><path class=\"edge\" d=\"M 0 0 V -167.639 H 85.5735\"/><circle class=\"sym\" cx=\"0\" cy=\"0\" r=\"3\"/><text class=\"lab lft\" transform=\"translate(-3 -7.0)\">28</text></g><path class=\"edge\" d=\"M 0 0 V -172.741 H 129.916\"/><circle class=\"sym\" cx=\"0\" cy=\"0\" r=\"3\"/><text class=\"lab lft\" transform=\"translate(-3 -7.0)\">29</text></g><circle class=\"sym\" cx=\"0\" cy=\"0\" r=\"3\"/><text class=\"lab\" transform=\"translate(0 -11)\">30</text></g></g></g></svg>"
      ],
      "text/plain": [
       "<IPython.core.display.SVG object>"
      ]
     },
     "metadata": {},
     "output_type": "display_data"
    }
   ],
   "source": [
    "demography = msprime.Demography()\n",
    "demography.add_population(initial_size=1/2)\n",
    "demography.add_instantaneous_bottleneck(time=0.2, strength=0.2, population=0)\n",
    "bottle_ts = msprime.sim_ancestry(\n",
    "        samples=[msprime.SampleSet(nsamp_dmel, ploidy=1)],\n",
    "        demography=demography,\n",
    "        random_seed=123)\n",
    "bottle_tree = bottle_ts.first()\n",
    "display(SVG(bottle_tree.draw_svg(size=(500, 500),y_axis=True)))"
   ]
  },
  {
   "cell_type": "markdown",
   "metadata": {},
   "source": [
    "This sets up an empty 2D array and <code>sfs_bott_grid</code> and stores the simulated SFS for each bottleneck strength: "
   ]
  },
  {
   "cell_type": "code",
   "execution_count": 1003,
   "metadata": {},
   "outputs": [],
   "source": [
    "num_rep = 5_000\n",
    "num_samp = 17\n",
    "bott_grid = np.arange(0,1,0.05)\n",
    "sfs_bott_grid = np.zeros((len(bott_grid), num_samp-1))\n",
    "for strength_index, strength in enumerate(bott_grid):\n",
    "    demography = msprime.Demography()\n",
    "    demography.add_population(initial_size=1/2)\n",
    "    demography.add_instantaneous_bottleneck(time=0.2, strength=strength , population=0)   \n",
    "    sfs_bott_grid[strength_index] = approx_1D_SFS(num_samp = num_samp, demography = demography, num_rep = num_rep)"
   ]
  },
  {
   "cell_type": "markdown",
   "metadata": {},
   "source": [
    "<div class=\"alert alert-block alert-success\">    \n",
    "    <b>Exercise 20:</b> The code below computes the approximate likelihood for each bottleneck strength parameter and plots it! Which history best fits the data (and which entry in <code>sfs_bott_grid</code> corresponds to it)?\n",
    "        </div>"
   ]
  },
  {
   "cell_type": "code",
   "execution_count": 1004,
   "metadata": {},
   "outputs": [],
   "source": [
    "support_bott = np.zeros(len(bott_grid))\n",
    "for idx, sfs in enumerate(sfs_bott_grid):\n",
    "    support_bott[idx] = sum(np.log(sfs) * dmel_sfs_var)"
   ]
  },
  {
   "cell_type": "code",
   "execution_count": 1005,
   "metadata": {},
   "outputs": [
    {
     "data": {
      "image/png": "[encoded data removed]",
      "text/plain": [
       "<Figure size 640x480 with 1 Axes>"
      ]
     },
     "metadata": {},
     "output_type": "display_data"
    }
   ],
   "source": [
    "plt.xlabel('bottleneck strength')\n",
    "plt.ylabel('support (lnL)')\n",
    "p = sns.lineplot(x = bott_grid, y = support_bott)"
   ]
  },
  {
   "cell_type": "markdown",
   "metadata": {},
   "source": [
    "<div class=\"alert alert-block alert-success\">    \n",
    "    <b>Exercise 21:</b> Compare the SFS under the best fitting bottleneck history to both the observed and the neutral SFS. Check whether low or high frequency mutations (or both) is better predicted under this model. Do you think this model is biologically plausible for Sub-Saharan African populations of <i>D. melanogaster</i>?\n",
    "    </div>"
   ]
  },
  {
   "cell_type": "code",
   "execution_count": 157,
   "metadata": {},
   "outputs": [
    {
     "data": {
      "image/png": "[encoded data removed]",
      "text/plain": [
       "<Figure size 432x288 with 1 Axes>"
      ]
     },
     "metadata": {
      "needs_background": "light"
     },
     "output_type": "display_data"
    }
   ],
   "source": [
    "#SOL\n",
    "type_sim_bott = ['sim_bott']*(nsamp_dmel-1)\n",
    "sfs_sim_best_bottle_df = pd.DataFrame({'itons':itons,'sfs':sfs_bott_grid[7],'type':type_sim_bott})\n",
    "\n",
    "#Combines it with the dmel_SFS dataframe\n",
    "sfs_dmel_concat4_df = pd.concat([sfs_dmel_concat3_df,sfs_sim_best_bottle_df])\n",
    "p = sns.barplot(x='itons', y='sfs', hue='type', data=sfs_dmel_concat4_df)"
   ]
  }
 ],
 "metadata": {
  "kernelspec": {
   "display_name": "Python 3 (ipykernel)",
   "language": "python",
   "name": "python3"
  },
  "language_info": {
   "codemirror_mode": {
    "name": "ipython",
    "version": 3
   },
   "file_extension": ".py",
   "mimetype": "text/x-python",
   "name": "python",
   "nbconvert_exporter": "python",
   "pygments_lexer": "ipython3",
   "version": "3.12.1"
  }
 },
 "nbformat": 4,
 "nbformat_minor": 4
}
