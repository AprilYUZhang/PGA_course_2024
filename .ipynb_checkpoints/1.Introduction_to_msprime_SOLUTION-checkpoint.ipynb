{
 "cells": [
  {
   "cell_type": "markdown",
   "metadata": {},
   "source": [
    "---\n",
    "# Practical 1. Recap of the neutral coalescent and an intro to coalescence simulations with msprime\n",
    "---\n",
    "\n",
    "At the end of this practical you should:\n",
    "\n",
    "- Understand what a coalescent simulation is and what the relevant data structures are.\n",
    "- Know how to run and analyse coalescent simulations with [`msprime`](https://tskit.dev/msprime/docs/stable/intro.html) and [`tskit`](https://tskit.dev/tskit/docs/stable/python-api.html#trees-and-tree-sequences).\n",
    "- Understand the extent to which the variance of the coalescent depends on the two major axis of sampling: # of loci, # of individuals ([Felsenstein 2004](https://academic.oup.com/mbe/article-lookup/doi/10.1093/molbev/msj079)).\n",
    "- Understand why it is natural (and helpful) to treat mutations separately from ancestry."
   ]
  },
  {
   "cell_type": "markdown",
   "metadata": {},
   "source": [
    "## 1.1 Getting started"
   ]
  },
  {
   "cell_type": "markdown",
   "metadata": {},
   "source": [
    "### Importing python tools"
   ]
  },
  {
   "cell_type": "markdown",
   "metadata": {},
   "source": [
    "<div class=\"alert alert-block alert-warning\">\n",
    "    <b>Python recipe:</b> We will generally import python tools in the first code cell of a jupyter practical notebook. \n",
    "    \n",
    "There are several tools we will use throughout the course: <code>msprime</code> is a powerful and well documented coalescent simulator. In fact, this notebook is based largely on the \"Running Simulations\" section in the <a href=\"https://tskit.dev/msprime/docs/stable/mutations.html\"><code>msprime</code> manual</a>.\n",
    "\n",
    "<a href=\"https://numpy.org/\"><code>numpy</code></a> is an open source python library that is widely used for scientific computing.  If you are new to `python` or need a refresher about basic <code>python</code> concepts, complete Python-novice, please read sections 1. - 4.3 of the official <a href=\"https://docs.python.org/3/tutorial/index.html\">Python documentation</a>.\n",
    "</div>"
   ]
  },
  {
   "cell_type": "code",
   "execution_count": 4,
   "metadata": {},
   "outputs": [],
   "source": [
    "import msprime\n",
    "import tskit\n",
    "from IPython.display import SVG, set_matplotlib_formats\n",
    "from matplotlib import pyplot as plt\n",
    "%matplotlib inline\n",
    "import seaborn as sns\n",
    "import numpy as np\n",
    "from collections import Counter"
   ]
  },
  {
   "cell_type": "markdown",
   "metadata": {},
   "source": [
    "## 1.2 Build your own simulator"
   ]
  },
  {
   "cell_type": "markdown",
   "metadata": {},
   "source": [
    "Population genetic models are algorithmic by nature: forwards in time they specify how a population evolves from one generation to the next, backwards in time models are framed in terms of the probabilities of the next event in the ancestry of a sample. It is unsurprising that a large number of population genetic simulators (both forward and backwards) exist. Simulating under the neutral coalescent, the simplest backwards in time model, is straightforward in principle.\n",
    "\n",
    "In fact, if we're only interested in coalescence times, a coalescent simulation is just a set of random draws of coalescence times from an exponential distribution. We can do this with the `random` method in `numpy`. Let's draw 1,000 pairwise coalescence times for a population (of diploid individuals) with an effective size of $N_e= 10,000$:"
   ]
  },
  {
   "cell_type": "markdown",
   "metadata": {},
   "source": [
    "# Basic knowledge "
   ]
  },
  {
   "cell_type": "markdown",
   "metadata": {},
   "source": [
    "\n",
    " ### Wright-Fisher model\n",
    " ### constant population size of N diploid individual, each individual leaves a poisson number of offspring\n",
    "\n",
    " ### the coalescent is the backward view of genetic drift for a sample of sequences\n",
    "\n",
    "## what is the pairwise coalescence time?\n",
    "\n",
    "\n",
    "\n"
   ]
  },
  {
   "cell_type": "code",
   "execution_count": 5,
   "metadata": {},
   "outputs": [],
   "source": [
    "num_replicates = 1_000\n",
    "pair_times_array = np.random.exponential(20_000, num_replicates)"
   ]
  },
  {
   "cell_type": "markdown",
   "metadata": {},
   "source": [
    "Note that the result which we have assigned to a variable `pair_times_array` is a numpy array of floats:"
   ]
  },
  {
   "cell_type": "code",
   "execution_count": 11,
   "metadata": {},
   "outputs": [
    {
     "name": "stdout",
     "output_type": "stream",
     "text": [
      "<class 'numpy.ndarray'> (1000,)\n"
     ]
    }
   ],
   "source": [
    "print(type(pair_times_array), \n",
    "pair_times_array.shape)"
   ]
  },
  {
   "cell_type": "markdown",
   "metadata": {},
   "source": [
    "We can use python indexing to examine the first 10 simulation replicates:"
   ]
  },
  {
   "cell_type": "code",
   "execution_count": 7,
   "metadata": {},
   "outputs": [
    {
     "data": {
      "text/plain": [
       "array([13859.21614129, 13169.59178148, 15686.11590529, 36584.53708394,\n",
       "       42355.93520782, 39611.15965785, 23727.84153312,  9342.20278653,\n",
       "       21974.29243385, 42473.28556265])"
      ]
     },
     "execution_count": 7,
     "metadata": {},
     "output_type": "execute_result"
    }
   ],
   "source": [
    "pair_times_array[:10]"
   ]
  },
  {
   "cell_type": "markdown",
   "metadata": {},
   "source": [
    "<div class=\"alert alert-block alert-warning\">\n",
    "    <b>Python recipe:</b> We can use the <a href=\"https://seaborn.pydata.org/generated/seaborn.displot.html#seaborn.displot/\"><code>displot()</code></a> plot method to plot the distribution of pairwise coalescence times. Unsurprisingly (given that we've drawn from an exponential distribution), the pairwise coalescence times are exponentially distributed:\n",
    "</div>"
   ]
  },
  {
   "cell_type": "code",
   "execution_count": 12,
   "metadata": {},
   "outputs": [
    {
     "data": {
      "image/png": "[encoded data removed]",
      "text/plain": [
       "<Figure size 500x500 with 1 Axes>"
      ]
     },
     "metadata": {},
     "output_type": "display_data"
    }
   ],
   "source": [
    "p = sns.displot(x = pair_times_array, stat = \"density\", binwidth = 5_000)\n",
    "plt.xlabel(\"times (in generations)\");\n",
    "plt.axvline(x= np.mean(pair_times_array)) \n",
    "plt.ylabel(\"count\");"
   ]
  },
  {
   "cell_type": "markdown",
   "metadata": {},
   "source": [
    "<div class=\"alert alert-block alert-success\">    \n",
    "    <b>Exercise 1:</b> Find the <a href=\"https://numpy.org/doc/stable/\"><code>numpy<code></a> methods for computing the mean and standard deviation of an array and check how well the mean of the 1_000 pairwise coalescence times simulated above matches the analytic expectation.\n",
    "    </div>"
   ]
  },
  {
   "cell_type": "code",
   "execution_count": 13,
   "metadata": {},
   "outputs": [
    {
     "name": "stdout",
     "output_type": "stream",
     "text": [
      "The mean pairwise coalescence time is 19703.990946592086\n",
      "The standard deviation of the pairwise coalescence time is 19991.553297769686\n"
     ]
    }
   ],
   "source": [
    "#SOL\n",
    "print(\"The mean pairwise coalescence time is\", np.mean(pair_times_array))\n",
    "print(\"The standard deviation of the pairwise coalescence time is\", pair_times_array.std())"
   ]
  },
  {
   "cell_type": "markdown",
   "metadata": {},
   "source": [
    "<div class=\"alert alert-block alert-info\">\n",
    "    <b>PopGen:</b> A basic property of the coalescent is that the rate is proportional to the number of pairs of lineages, and so changes after each coalescent event. When there are  $i$ lineages the rate of coalescence is $\\lambda = \\binom i 2 = \\frac{i (i-1)}{2}$.\n",
    "    </div>"
   ]
  },
  {
   "cell_type": "markdown",
   "metadata": {},
   "source": [
    "<div class=\"alert alert-block alert-warning\">\n",
    "    <b>Python recipe:</b> Writing your own function is easy! The code chunk below defines a coalescence time simulator as a function. <code>coaltimes</code> has three arguments: <code>samplesize</code>,  <code>Ne</code> and  <code>replicates</code>, i.e. for a sample of size $n$ and a given $N_e$, <code>coaltimes</code> uses <a href=\"https://numpy.org/doc/stable/reference/random/generated/numpy.random.exponential.html\"><code>np.random.exponential()</code></a> to draw $n-1$ random coalescence times:\n",
    "    </div>"
   ]
  },
  {
   "cell_type": "code",
   "execution_count": 14,
   "metadata": {},
   "outputs": [],
   "source": [
    "def coaltimes(samplesize, Ne, replicates):\n",
    "    list_of_coal_intervals = [np.random.exponential(2* Ne/int(i*(i-1)/2), replicates) for i in range(2,samplesize+1)]\n",
    "    return np.asarray(list_of_coal_intervals)"
   ]
  },
  {
   "cell_type": "markdown",
   "metadata": {},
   "source": [
    "<div class=\"alert alert-block alert-success\">    \n",
    "    <b>Exercise 2:</b> Which <code>numpy</code> functions and methods does <code>coaltimes</code> use? The waiting time for most other possible processes that affect the ancestry of a sample (e.g. mutation, migration, recombination events) depend on the number of lineages that are present (rather than the number of possible pairs). Copy <code>coaltimes</code> in the cell below and modify it to define a new function that draws waiting times at a rate proportional to the number of lineages (rather than the number of pairs).\n",
    "    \n",
    "<b>Hint:</b> Read the docs of <a href=\"https://numpy.org/doc/stable/reference/random/generated/numpy.random.exponential.html\"><code>np.random.exponential()</code></a> to understand what input parameters this function takes.\n",
    "    </div>"
   ]
  },
  {
   "cell_type": "code",
   "execution_count": 16,
   "metadata": {},
   "outputs": [],
   "source": [
    "#SOL\n",
    "def coaltimes(samplesize, Ne, replicates):\n",
    "    list_of_coal_intervals = [np.random.exponential(2* Ne/int(i), replicates) for i in range(2,samplesize+1)]\n",
    "    return np.asarray(list_of_coal_intervals)"
   ]
  },
  {
   "cell_type": "markdown",
   "metadata": {},
   "source": [
    "<div class=\"alert alert-block alert-success\">    \n",
    "    <b>Exercise 3:</b>  Use <code>coaltimes</code> to simulate 1,000 replicate sets of coalescence times for a sample of $n=9$ sequences (don't forget to assign the output to a new, helpful variable name).\n",
    "    </div>"
   ]
  },
  {
   "cell_type": "code",
   "execution_count": 21,
   "metadata": {},
   "outputs": [],
   "source": [
    "#SOL\n",
    "n9_times_array = coaltimes(9, 10_000, num_replicates)"
   ]
  },
  {
   "cell_type": "markdown",
   "metadata": {},
   "source": [
    "<div class=\"alert alert-block alert-success\">    \n",
    "    <b>Exercise 4:</b> Use the funtion <code>type()</code> and the method <code>shape</code> to check what form the output of <code>coaltimes</code> takes.\n",
    "    </div>"
   ]
  },
  {
   "cell_type": "code",
   "execution_count": 18,
   "metadata": {},
   "outputs": [
    {
     "data": {
      "text/plain": [
       "numpy.ndarray"
      ]
     },
     "execution_count": 18,
     "metadata": {},
     "output_type": "execute_result"
    }
   ],
   "source": [
    "#SOL\n",
    "type(n9_times_array)"
   ]
  },
  {
   "cell_type": "code",
   "execution_count": 19,
   "metadata": {},
   "outputs": [
    {
     "data": {
      "text/plain": [
       "(8, 1000)"
      ]
     },
     "execution_count": 19,
     "metadata": {},
     "output_type": "execute_result"
    }
   ],
   "source": [
    "#SOL\n",
    "n9_times_array.shape"
   ]
  },
  {
   "cell_type": "markdown",
   "metadata": {},
   "source": [
    "<div class=\"alert alert-block alert-success\">    \n",
    "    <b>Exercise 5:</b> Compute the $t_{mrca}$ of each simulation replicate (as the sum of internode intervals) and use <code>sns.displot()</code> to visualize the distribution of $t_{mrca}$ arcoss replicates. What is the mean coalescence time for each internode interval? \n",
    "    \n",
    "<b>Hint: </b> Assign the $t_{mrca}$ to a new variable <code>tmrca</code>\n",
    "       </div>"
   ]
  },
  {
   "cell_type": "code",
   "execution_count": 22,
   "metadata": {},
   "outputs": [
    {
     "data": {
      "text/plain": [
       "array([9996.26836049, 6691.90301511, 5052.68020837, 4186.92012976,\n",
       "       3306.22630128, 2866.89260389, 2493.91540722, 2234.80688384])"
      ]
     },
     "execution_count": 22,
     "metadata": {},
     "output_type": "execute_result"
    }
   ],
   "source": [
    "##SOL\n",
    "tmrca = sum(n9_times_array)\n",
    "np.mean(n9_times_array, axis=1)"
   ]
  },
  {
   "cell_type": "code",
   "execution_count": 33,
   "metadata": {},
   "outputs": [
    {
     "data": {
      "image/png": "[encoded data removed]",
      "text/plain": [
       "<Figure size 360x360 with 1 Axes>"
      ]
     },
     "metadata": {
      "needs_background": "light"
     },
     "output_type": "display_data"
    }
   ],
   "source": [
    "##SOL\n",
    "p = sns.displot(x = tmrca, stat = \"density\", label = 'span of trees', binwidth = 5_000)\n",
    "plt.xlabel(\"times (in generations)\");\n",
    "plt.ylabel(\"count\");"
   ]
  },
  {
   "cell_type": "markdown",
   "metadata": {},
   "source": [
    "<div class=\"alert alert-block alert-success\">    \n",
    "    <b>Exercise 6:</b> What is the mean $t_{mrca}$ arcoss replicates?"
   ]
  },
  {
   "cell_type": "code",
   "execution_count": 34,
   "metadata": {},
   "outputs": [
    {
     "name": "stdout",
     "output_type": "stream",
     "text": [
      "The mean tmrca is 36597.53044624645\n"
     ]
    }
   ],
   "source": [
    "#SOL\n",
    "print(\"The mean tmrca is\", np.mean(tmrca))"
   ]
  },
  {
   "cell_type": "markdown",
   "metadata": {},
   "source": [
    "<div class=\"alert alert-block alert-success\">    \n",
    "    <b>Exercise 7:</b> How well does this match the theoretical expectation $E[t_{mrca}]$?"
   ]
  },
  {
   "cell_type": "markdown",
   "metadata": {},
   "source": [
    "<div class=\"alert alert-block alert-info\">\n",
    "    <b>PopGen hint:</b>\n",
    "work out the expected times between coalescent intervals first and use the fact that $E[t_{mrca}] = \\sum_{i=2}^{n-1} E[t_i]$"
   ]
  },
  {
   "cell_type": "code",
   "execution_count": 35,
   "metadata": {},
   "outputs": [
    {
     "data": {
      "text/plain": [
       "35555.555555555555"
      ]
     },
     "execution_count": 35,
     "metadata": {},
     "output_type": "execute_result"
    }
   ],
   "source": [
    "#SOL\n",
    "expected_intervals = [2/int(i * (i-1)) for i in range(2, 10)]\n",
    "sum(expected_intervals) * 20_000"
   ]
  },
  {
   "cell_type": "markdown",
   "metadata": {},
   "source": [
    "<div class=\"alert alert-block alert-success\">    \n",
    "    <b>Exercise 8:</b> What is missing from this simulation?\n",
    "</div>"
   ]
  },
  {
   "cell_type": "code",
   "execution_count": 80,
   "metadata": {},
   "outputs": [],
   "source": [
    "#SOL\n",
    "#Topologies! A more realistic model of the population."
   ]
  },
  {
   "cell_type": "markdown",
   "metadata": {},
   "source": [
    "## 1.3 A simple `msprime` ancestry simulation"
   ]
  },
  {
   "cell_type": "markdown",
   "metadata": {},
   "source": [
    "We can set up a single simulation using `sim_ancestry()` which is a method of the coalescent simulator `msprime`. The `samples` argument of `sim_ancestry` defines the sampled individuals whose history will be simulated. In the simplest case, we provide a single integer which defines the number of samples."
   ]
  },
  {
   "cell_type": "markdown",
   "metadata": {},
   "source": [
    "<div class=\"alert alert-block alert-warning\">\n",
    "    <b>Python recipe:</b> Typing the variable assigned to this <code>msprime</code> simulation generates a useful, tabular summary of the simulation output."
   ]
  },
  {
   "cell_type": "code",
   "execution_count": 24,
   "metadata": {},
   "outputs": [
    {
     "data": {
      "text/html": [
       "\n",
       "            <div>\n",
       "              <style>\n",
       "                .tskit-table thead tr th {text-align: left;padding: 0.5em 0.5em;}\n",
       "                .tskit-table tbody tr td {padding: 0.5em 0.5em;}\n",
       "                .tskit-table tbody tr td:first-of-type {text-align: left;}\n",
       "                .tskit-details-label {vertical-align: top; padding-right:5px;}\n",
       "                .tskit-table-set {display: inline-flex;flex-wrap: wrap;margin: -12px 0 0 -12px;width: calc(100% + 12px);}\n",
       "                .tskit-table-set-table {margin: 12px 0 0 12px;}\n",
       "                details {display: inline-block;}\n",
       "                summary {cursor: pointer; outline: 0; display: list-item;}\n",
       "              </style>\n",
       "              <div class=\"tskit-table-set\">\n",
       "                <div class=\"tskit-table-set-table\">\n",
       "                  <table class=\"tskit-table\">\n",
       "                    <thead>\n",
       "                      <tr>\n",
       "                        <th style=\"padding:0;line-height:21px;\">\n",
       "                          <img style=\"height: 32px;display: inline-block;padding: 3px 5px 3px 0;\" src=\"https://raw.githubusercontent.com/tskit-dev/administrative/main/tskit_logo.svg\"/>\n",
       "                          <a target=\"_blank\" href=\"https://tskit.dev/tskit/docs/latest/python-api.html#the-treesequence-class\"> Tree Sequence </a>\n",
       "                        </th>\n",
       "                      </tr>\n",
       "                    </thead>\n",
       "                    <tbody>\n",
       "                      <tr><td>Trees</td><td>1</td></tr>\n",
       "                      <tr><td>Sequence Length</td><td>1.0</td></tr>\n",
       "                      <tr><td>Time Units</td><td>generations</td></tr>\n",
       "                      <tr><td>Sample Nodes</td><td>18</td></tr>\n",
       "                      <tr><td>Total Size</td><td>3.9 KiB</td></tr>\n",
       "                      <tr>\n",
       "                        <td>Metadata</td><td style=\"text-align: left;\">No Metadata</td></tr>\n",
       "                    </tbody>\n",
       "                  </table>\n",
       "                </div>\n",
       "                <div class=\"tskit-table-set-table\">\n",
       "                  <table class=\"tskit-table\">\n",
       "                    <thead>\n",
       "                      <tr>\n",
       "                        <th style=\"line-height:21px;\">Table</th>\n",
       "                        <th>Rows</th>\n",
       "                        <th>Size</th>\n",
       "                        <th>Has Metadata</th>\n",
       "                      </tr>\n",
       "                    </thead>\n",
       "                    <tbody>\n",
       "                    \n",
       "                  <tr>\n",
       "                    <td>Edges</td>\n",
       "                      <td>34</td>\n",
       "                      <td>1.1 KiB</td>\n",
       "                      <td style=\"text-align: center;\">\n",
       "                        \n",
       "                      </td>\n",
       "                    </tr>\n",
       "                \n",
       "                  <tr>\n",
       "                    <td>Individuals</td>\n",
       "                      <td>9</td>\n",
       "                      <td>276 Bytes</td>\n",
       "                      <td style=\"text-align: center;\">\n",
       "                        \n",
       "                      </td>\n",
       "                    </tr>\n",
       "                \n",
       "                  <tr>\n",
       "                    <td>Migrations</td>\n",
       "                      <td>0</td>\n",
       "                      <td>8 Bytes</td>\n",
       "                      <td style=\"text-align: center;\">\n",
       "                        \n",
       "                      </td>\n",
       "                    </tr>\n",
       "                \n",
       "                  <tr>\n",
       "                    <td>Mutations</td>\n",
       "                      <td>0</td>\n",
       "                      <td>16 Bytes</td>\n",
       "                      <td style=\"text-align: center;\">\n",
       "                        \n",
       "                      </td>\n",
       "                    </tr>\n",
       "                \n",
       "                  <tr>\n",
       "                    <td>Nodes</td>\n",
       "                      <td>35</td>\n",
       "                      <td>988 Bytes</td>\n",
       "                      <td style=\"text-align: center;\">\n",
       "                        \n",
       "                      </td>\n",
       "                    </tr>\n",
       "                \n",
       "                  <tr>\n",
       "                    <td>Populations</td>\n",
       "                      <td>1</td>\n",
       "                      <td>224 Bytes</td>\n",
       "                      <td style=\"text-align: center;\">\n",
       "                        ✅\n",
       "                      </td>\n",
       "                    </tr>\n",
       "                \n",
       "                  <tr>\n",
       "                    <td>Provenances</td>\n",
       "                      <td>1</td>\n",
       "                      <td>1.0 KiB</td>\n",
       "                      <td style=\"text-align: center;\">\n",
       "                        \n",
       "                      </td>\n",
       "                    </tr>\n",
       "                \n",
       "                  <tr>\n",
       "                    <td>Sites</td>\n",
       "                      <td>0</td>\n",
       "                      <td>16 Bytes</td>\n",
       "                      <td style=\"text-align: center;\">\n",
       "                        \n",
       "                      </td>\n",
       "                    </tr>\n",
       "                \n",
       "                    </tbody>\n",
       "                  </table>\n",
       "                </div>\n",
       "              </div>\n",
       "            </div>\n",
       "            "
      ],
      "text/plain": [
       "<tskit.trees.TreeSequence at 0x14341f7a0>"
      ]
     },
     "execution_count": 24,
     "metadata": {},
     "output_type": "execute_result"
    }
   ],
   "source": [
    "simple_ts = msprime.sim_ancestry(9);\n",
    "simple_ts"
   ]
  },
  {
   "cell_type": "markdown",
   "metadata": {},
   "source": [
    "<div class=\"alert alert-block alert-warning\">\n",
    "    <b>Python recipe:</b> Strictly speaking, <code>sim_ancestry()</code> always returns a treesequence (more on these practical 3). However, in this case we have only simulated a single tree. We can use the method <code>.first()</code> to extract this tree:"
   ]
  },
  {
   "cell_type": "code",
   "execution_count": 25,
   "metadata": {},
   "outputs": [],
   "source": [
    "simple_tree = simple_ts.first()"
   ]
  },
  {
   "cell_type": "markdown",
   "metadata": {},
   "source": [
    "<div class=\"alert alert-block alert-warning\">\n",
    "    <b>Python recipe:</b> We can plot our simulated tree using the method <code>.draw_svg()</code>:"
   ]
  },
  {
   "cell_type": "code",
   "execution_count": 26,
   "metadata": {},
   "outputs": [
    {
     "data": {
      "image/svg+xml": [
       "<svg xmlns=\"http://www.w3.org/2000/svg\" xmlns:ev=\"http://www.w3.org/2001/xml-events\" xmlns:xlink=\"http://www.w3.org/1999/xlink\" baseProfile=\"full\" height=\"500\" version=\"1.1\" width=\"500\"><defs><style type=\"text/css\"><![CDATA[.background path {fill: #808080; fill-opacity: 0}.background path:nth-child(odd) {fill-opacity: .1}.axes {font-size: 14px}.x-axis .tick .lab {font-weight: bold; dominant-baseline: hanging}.axes, .tree {font-size: 14px; text-anchor: middle}.axes line, .edge {stroke: black; fill: none}.axes .ax-skip {stroke-dasharray: 4}.y-axis .grid {stroke: #FAFAFA}.node > .sym {fill: black; stroke: none}.site > .sym {stroke: black}.mut text {fill: red; font-style: italic}.mut.extra text {fill: hotpink}.mut line {fill: none; stroke: none}.mut .sym {fill: none; stroke: red}.mut.extra .sym {stroke: hotpink}.node .mut .sym {stroke-width: 1.5px}.tree text, .tree-sequence text {dominant-baseline: central}.plotbox .lab.lft {text-anchor: end}.plotbox .lab.rgt {text-anchor: start}]]></style></defs><g class=\"tree t0\"><g class=\"plotbox\"><g class=\"c2 node n34 p0 root\" transform=\"translate(348.529 26.8)\"><g class=\"a34 c2 node n32 p0\" transform=\"translate(105.916 255.257)\"><g class=\"a32 i2 leaf node n4 p0 sample\" transform=\"translate(-12.7778 186.143)\"><path class=\"edge\" d=\"M 0 0 V -186.143 H 12.7778\"/><rect class=\"sym\" height=\"6\" width=\"6\" x=\"-3\" y=\"-3\"/><text class=\"lab\" transform=\"translate(0 11)\">4</text></g><g class=\"a32 i7 leaf node n14 p0 sample\" transform=\"translate(12.7778 186.143)\"><path class=\"edge\" d=\"M 0 0 V -186.143 H -12.7778\"/><rect class=\"sym\" height=\"6\" width=\"6\" x=\"-3\" y=\"-3\"/><text class=\"lab\" transform=\"translate(0 11)\">14</text></g><path class=\"edge\" d=\"M 0 0 V -255.257 H -105.916\"/><circle class=\"sym\" cx=\"0\" cy=\"0\" r=\"3\"/><text class=\"lab rgt\" transform=\"translate(3 -7.0)\">32</text></g><g class=\"a34 c2 node n33 p0\" transform=\"translate(-105.916 130.47)\"><g class=\"a33 c2 node n28 p0\" transform=\"translate(76.0677 237.709)\"><g class=\"a28 c2 node n23 p0\" transform=\"translate(-43.125 28.3014)\"><g class=\"a23 i0 leaf node n1 p0 sample\" transform=\"translate(-12.7778 44.9196)\"><path class=\"edge\" d=\"M 0 0 V -44.9196 H 12.7778\"/><rect class=\"sym\" height=\"6\" width=\"6\" x=\"-3\" y=\"-3\"/><text class=\"lab\" transform=\"translate(0 11)\">1</text></g><g class=\"a23 i6 leaf node n12 p0 sample\" transform=\"translate(12.7778 44.9196)\"><path class=\"edge\" d=\"M 0 0 V -44.9196 H -12.7778\"/><rect class=\"sym\" height=\"6\" width=\"6\" x=\"-3\" y=\"-3\"/><text class=\"lab\" transform=\"translate(0 11)\">12</text></g><path class=\"edge\" d=\"M 0 0 V -28.3014 H 43.125\"/><circle class=\"sym\" cx=\"0\" cy=\"0\" r=\"3\"/><text class=\"lab lft\" transform=\"translate(-3 -7.0)\">23</text></g><g class=\"a28 c2 node n26 p0\" transform=\"translate(43.125 15.9576)\"><g class=\"a26 c2 node n21 p0\" transform=\"translate(-35.1389 32.9616)\"><g class=\"a21 i1 leaf node n2 p0 sample\" transform=\"translate(-12.7778 24.3017)\"><path class=\"edge\" d=\"M 0 0 V -24.3017 H 12.7778\"/><rect class=\"sym\" height=\"6\" width=\"6\" x=\"-3\" y=\"-3\"/><text class=\"lab\" transform=\"translate(0 11)\">2</text></g><g class=\"a21 i6 leaf node n13 p0 sample\" transform=\"translate(12.7778 24.3017)\"><path class=\"edge\" d=\"M 0 0 V -24.3017 H -12.7778\"/><rect class=\"sym\" height=\"6\" width=\"6\" x=\"-3\" y=\"-3\"/><text class=\"lab\" transform=\"translate(0 11)\">13</text></g><path class=\"edge\" d=\"M 0 0 V -32.9616 H 35.1389\"/><circle class=\"sym\" cx=\"0\" cy=\"0\" r=\"3\"/><text class=\"lab lft\" transform=\"translate(-3 -7.0)\">21</text></g><g class=\"a26 c2 node n25 p0\" transform=\"translate(35.1389 4.75641)\"><g class=\"a25 i2 leaf node n5 p0 sample\" transform=\"translate(19.1667 52.5069)\"><path class=\"edge\" d=\"M 0 0 V -52.5069 H -19.1667\"/><rect class=\"sym\" height=\"6\" width=\"6\" x=\"-3\" y=\"-3\"/><text class=\"lab\" transform=\"translate(0 11)\">5</text></g><g class=\"a25 c2 node n18 p0\" transform=\"translate(-19.1667 49.1374)\"><g class=\"a18 i1 leaf node n3 p0 sample\" transform=\"translate(-12.7778 3.36949)\"><path class=\"edge\" d=\"M 0 0 V -3.36949 H 12.7778\"/><rect class=\"sym\" height=\"6\" width=\"6\" x=\"-3\" y=\"-3\"/><text class=\"lab\" transform=\"translate(0 11)\">3</text></g><g class=\"a18 i4 leaf node n8 p0 sample\" transform=\"translate(12.7778 3.36949)\"><path class=\"edge\" d=\"M 0 0 V -3.36949 H -12.7778\"/><rect class=\"sym\" height=\"6\" width=\"6\" x=\"-3\" y=\"-3\"/><text class=\"lab\" transform=\"translate(0 11)\">8</text></g><path class=\"edge\" d=\"M 0 0 V -49.1374 H 19.1667\"/><circle class=\"sym\" cx=\"0\" cy=\"0\" r=\"3\"/><text class=\"lab lft\" transform=\"translate(-3 -7.0)\">18</text></g><path class=\"edge\" d=\"M 0 0 V -4.75641 H -35.1389\"/><circle class=\"sym\" cx=\"0\" cy=\"0\" r=\"3\"/><text class=\"lab rgt\" transform=\"translate(3 -7.0)\">25</text></g><path class=\"edge\" d=\"M 0 0 V -15.9576 H -43.125\"/><circle class=\"sym\" cx=\"0\" cy=\"0\" r=\"3\"/><text class=\"lab rgt\" transform=\"translate(3 -7.0)\">26</text></g><path class=\"edge\" d=\"M 0 0 V -237.709 H -76.0677\"/><circle class=\"sym\" cx=\"0\" cy=\"0\" r=\"3\"/><text class=\"lab rgt\" transform=\"translate(3 -7.0)\">28</text></g><g class=\"a33 c2 node n31 p0\" transform=\"translate(-76.0677 159.223)\"><g class=\"a31 c2 node n24 p0\" transform=\"translate(51.5104 102.324)\"><g class=\"a24 i7 leaf node n15 p0 sample\" transform=\"translate(19.1667 49.3823)\"><path class=\"edge\" d=\"M 0 0 V -49.3823 H -19.1667\"/><rect class=\"sym\" height=\"6\" width=\"6\" x=\"-3\" y=\"-3\"/><text class=\"lab\" transform=\"translate(0 11)\">15</text></g><g class=\"a24 c2 node n20 p0\" transform=\"translate(-19.1667 42.2865)\"><g class=\"a20 i3 leaf node n6 p0 sample\" transform=\"translate(-12.7778 7.09575)\"><path class=\"edge\" d=\"M 0 0 V -7.09575 H 12.7778\"/><rect class=\"sym\" height=\"6\" width=\"6\" x=\"-3\" y=\"-3\"/><text class=\"lab\" transform=\"translate(0 11)\">6</text></g><g class=\"a20 i5 leaf node n10 p0 sample\" transform=\"translate(12.7778 7.09575)\"><path class=\"edge\" d=\"M 0 0 V -7.09575 H -12.7778\"/><rect class=\"sym\" height=\"6\" width=\"6\" x=\"-3\" y=\"-3\"/><text class=\"lab\" transform=\"translate(0 11)\">10</text></g><path class=\"edge\" d=\"M 0 0 V -42.2865 H 19.1667\"/><circle class=\"sym\" cx=\"0\" cy=\"0\" r=\"3\"/><text class=\"lab lft\" transform=\"translate(-3 -7.0)\">20</text></g><path class=\"edge\" d=\"M 0 0 V -102.324 H -51.5104\"/><circle class=\"sym\" cx=\"0\" cy=\"0\" r=\"3\"/><text class=\"lab rgt\" transform=\"translate(3 -7.0)\">24</text></g><g class=\"a31 c2 node n30 p0\" transform=\"translate(-51.5104 44.4195)\"><g class=\"a30 i5 leaf node n11 p0 sample\" transform=\"translate(45.5208 107.287)\"><path class=\"edge\" d=\"M 0 0 V -107.287 H -45.5208\"/><rect class=\"sym\" height=\"6\" width=\"6\" x=\"-3\" y=\"-3\"/><text class=\"lab\" transform=\"translate(0 11)\">11</text></g><g class=\"a30 c2 node n29 p0\" transform=\"translate(-45.5208 10.6736)\"><g class=\"a29 i0 leaf node n0 p0 sample\" transform=\"translate(-36.7361 96.6135)\"><path class=\"edge\" d=\"M 0 0 V -96.6135 H 36.7361\"/><rect class=\"sym\" height=\"6\" width=\"6\" x=\"-3\" y=\"-3\"/><text class=\"lab\" transform=\"translate(0 11)\">0</text></g><g class=\"a29 c2 node n27 p0\" transform=\"translate(36.7361 38.5019)\"><g class=\"a27 i4 leaf node n9 p0 sample\" transform=\"translate(28.75 58.1116)\"><path class=\"edge\" d=\"M 0 0 V -58.1116 H -28.75\"/><rect class=\"sym\" height=\"6\" width=\"6\" x=\"-3\" y=\"-3\"/><text class=\"lab\" transform=\"translate(0 11)\">9</text></g><g class=\"a27 c2 node n22 p0\" transform=\"translate(-28.75 15.2786)\"><g class=\"a22 i3 leaf node n7 p0 sample\" transform=\"translate(-19.1667 42.8329)\"><path class=\"edge\" d=\"M 0 0 V -42.8329 H 19.1667\"/><rect class=\"sym\" height=\"6\" width=\"6\" x=\"-3\" y=\"-3\"/><text class=\"lab\" transform=\"translate(0 11)\">7</text></g><g class=\"a22 c2 node n19 p0\" transform=\"translate(19.1667 39.1076)\"><g class=\"a19 i8 leaf node n16 p0 sample\" transform=\"translate(-12.7778 3.72528)\"><path class=\"edge\" d=\"M 0 0 V -3.72528 H 12.7778\"/><rect class=\"sym\" height=\"6\" width=\"6\" x=\"-3\" y=\"-3\"/><text class=\"lab\" transform=\"translate(0 11)\">16</text></g><g class=\"a19 i8 leaf node n17 p0 sample\" transform=\"translate(12.7778 3.72528)\"><path class=\"edge\" d=\"M 0 0 V -3.72528 H -12.7778\"/><rect class=\"sym\" height=\"6\" width=\"6\" x=\"-3\" y=\"-3\"/><text class=\"lab\" transform=\"translate(0 11)\">17</text></g><path class=\"edge\" d=\"M 0 0 V -39.1076 H -19.1667\"/><circle class=\"sym\" cx=\"0\" cy=\"0\" r=\"3\"/><text class=\"lab rgt\" transform=\"translate(3 -7.0)\">19</text></g><path class=\"edge\" d=\"M 0 0 V -15.2786 H 28.75\"/><circle class=\"sym\" cx=\"0\" cy=\"0\" r=\"3\"/><text class=\"lab lft\" transform=\"translate(-3 -7.0)\">22</text></g><path class=\"edge\" d=\"M 0 0 V -38.5019 H -36.7361\"/><circle class=\"sym\" cx=\"0\" cy=\"0\" r=\"3\"/><text class=\"lab rgt\" transform=\"translate(3 -7.0)\">27</text></g><path class=\"edge\" d=\"M 0 0 V -10.6736 H 45.5208\"/><circle class=\"sym\" cx=\"0\" cy=\"0\" r=\"3\"/><text class=\"lab lft\" transform=\"translate(-3 -7.0)\">29</text></g><path class=\"edge\" d=\"M 0 0 V -44.4195 H 51.5104\"/><circle class=\"sym\" cx=\"0\" cy=\"0\" r=\"3\"/><text class=\"lab lft\" transform=\"translate(-3 -7.0)\">30</text></g><path class=\"edge\" d=\"M 0 0 V -159.223 H 76.0677\"/><circle class=\"sym\" cx=\"0\" cy=\"0\" r=\"3\"/><text class=\"lab lft\" transform=\"translate(-3 -7.0)\">31</text></g><path class=\"edge\" d=\"M 0 0 V -130.47 H 105.916\"/><circle class=\"sym\" cx=\"0\" cy=\"0\" r=\"3\"/><text class=\"lab lft\" transform=\"translate(-3 -7.0)\">33</text></g><circle class=\"sym\" cx=\"0\" cy=\"0\" r=\"3\"/><text class=\"lab\" transform=\"translate(0 -11)\">34</text></g></g></g></svg>"
      ],
      "text/plain": [
       "<IPython.core.display.SVG object>"
      ]
     },
     "execution_count": 26,
     "metadata": {},
     "output_type": "execute_result"
    }
   ],
   "source": [
    "SVG(simple_tree.draw_svg(size=(500, 500)))"
   ]
  },
  {
   "cell_type": "markdown",
   "metadata": {},
   "source": [
    "<div class=\"alert alert-block alert-success\">    \n",
    "    <b>Exercise 9:</b>  Why does the tree we simulated contain 18 sample nodes and 35 nodes in total? How would you change the arguments of <code>sim_ancestry</code> to match the simulation we have assumed for our DIY coalescence time simulator above?\n",
    "\n",
    "<b>Hint: </b> Check what arguments <a href=\"https://tskit.dev/msprime/docs/stable/ancestry.html\"><code>sim_ancestry</code></a> takes. \n",
    "        </div>"
   ]
  },
  {
   "cell_type": "code",
   "execution_count": 27,
   "metadata": {},
   "outputs": [
    {
     "data": {
      "image/svg+xml": [
       "<svg xmlns=\"http://www.w3.org/2000/svg\" xmlns:ev=\"http://www.w3.org/2001/xml-events\" xmlns:xlink=\"http://www.w3.org/1999/xlink\" baseProfile=\"full\" height=\"500\" version=\"1.1\" width=\"500\"><defs><style type=\"text/css\"><![CDATA[.background path {fill: #808080; fill-opacity: 0}.background path:nth-child(odd) {fill-opacity: .1}.axes {font-size: 14px}.x-axis .tick .lab {font-weight: bold; dominant-baseline: hanging}.axes, .tree {font-size: 14px; text-anchor: middle}.axes line, .edge {stroke: black; fill: none}.axes .ax-skip {stroke-dasharray: 4}.y-axis .grid {stroke: #FAFAFA}.node > .sym {fill: black; stroke: none}.site > .sym {stroke: black}.mut text {fill: red; font-style: italic}.mut.extra text {fill: hotpink}.mut line {fill: none; stroke: none}.mut .sym {fill: none; stroke: red}.mut.extra .sym {stroke: hotpink}.node .mut .sym {stroke-width: 1.5px}.tree text, .tree-sequence text {dominant-baseline: central}.plotbox .lab.lft {text-anchor: end}.plotbox .lab.rgt {text-anchor: start}]]></style></defs><g class=\"tree t0\"><g class=\"plotbox\"><g class=\"c2 node n16 p0 root\" transform=\"translate(201.285 26.8)\"><g class=\"a16 i0 leaf node n0 p0 sample\" transform=\"translate(-155.729 441.4)\"><path class=\"edge\" d=\"M 0 0 V -441.4 H 155.729\"/><rect class=\"sym\" height=\"6\" width=\"6\" x=\"-3\" y=\"-3\"/><text class=\"lab\" transform=\"translate(0 11)\">0</text></g><g class=\"a16 c2 node n15 p0\" transform=\"translate(155.729 121.476)\"><g class=\"a15 c2 node n10 p0\" transform=\"translate(71.875 300.716)\"><g class=\"a10 i4 leaf node n4 p0 sample\" transform=\"translate(-25.5556 19.2078)\"><path class=\"edge\" d=\"M 0 0 V -19.2078 H 25.5556\"/><rect class=\"sym\" height=\"6\" width=\"6\" x=\"-3\" y=\"-3\"/><text class=\"lab\" transform=\"translate(0 11)\">4</text></g><g class=\"a10 i6 leaf node n6 p0 sample\" transform=\"translate(25.5556 19.2078)\"><path class=\"edge\" d=\"M 0 0 V -19.2078 H -25.5556\"/><rect class=\"sym\" height=\"6\" width=\"6\" x=\"-3\" y=\"-3\"/><text class=\"lab\" transform=\"translate(0 11)\">6</text></g><path class=\"edge\" d=\"M 0 0 V -300.716 H -71.875\"/><circle class=\"sym\" cx=\"0\" cy=\"0\" r=\"3\"/><text class=\"lab rgt\" transform=\"translate(3 -7.0)\">10</text></g><g class=\"a15 c2 node n14 p0\" transform=\"translate(-71.875 56.2704)\"><g class=\"a14 i7 leaf node n7 p0 sample\" transform=\"translate(67.0833 263.653)\"><path class=\"edge\" d=\"M 0 0 V -263.653 H -67.0833\"/><rect class=\"sym\" height=\"6\" width=\"6\" x=\"-3\" y=\"-3\"/><text class=\"lab\" transform=\"translate(0 11)\">7</text></g><g class=\"a14 c2 node n13 p0\" transform=\"translate(-67.0833 74.6152)\"><g class=\"a13 c2 node n11 p0\" transform=\"translate(57.5 161.249)\"><g class=\"a11 i3 leaf node n3 p0 sample\" transform=\"translate(-25.5556 27.789)\"><path class=\"edge\" d=\"M 0 0 V -27.789 H 25.5556\"/><rect class=\"sym\" height=\"6\" width=\"6\" x=\"-3\" y=\"-3\"/><text class=\"lab\" transform=\"translate(0 11)\">3</text></g><g class=\"a11 i8 leaf node n8 p0 sample\" transform=\"translate(25.5556 27.789)\"><path class=\"edge\" d=\"M 0 0 V -27.789 H -25.5556\"/><rect class=\"sym\" height=\"6\" width=\"6\" x=\"-3\" y=\"-3\"/><text class=\"lab\" transform=\"translate(0 11)\">8</text></g><path class=\"edge\" d=\"M 0 0 V -161.249 H -57.5\"/><circle class=\"sym\" cx=\"0\" cy=\"0\" r=\"3\"/><text class=\"lab rgt\" transform=\"translate(3 -7.0)\">11</text></g><g class=\"a13 c2 node n12 p0\" transform=\"translate(-57.5 21.9794)\"><g class=\"a12 i2 leaf node n2 p0 sample\" transform=\"translate(38.3333 167.059)\"><path class=\"edge\" d=\"M 0 0 V -167.059 H -38.3333\"/><rect class=\"sym\" height=\"6\" width=\"6\" x=\"-3\" y=\"-3\"/><text class=\"lab\" transform=\"translate(0 11)\">2</text></g><g class=\"a12 c2 node n9 p0\" transform=\"translate(-38.3333 158.07)\"><g class=\"a9 i1 leaf node n1 p0 sample\" transform=\"translate(-25.5556 8.9883)\"><path class=\"edge\" d=\"M 0 0 V -8.9883 H 25.5556\"/><rect class=\"sym\" height=\"6\" width=\"6\" x=\"-3\" y=\"-3\"/><text class=\"lab\" transform=\"translate(0 11)\">1</text></g><g class=\"a9 i5 leaf node n5 p0 sample\" transform=\"translate(25.5556 8.9883)\"><path class=\"edge\" d=\"M 0 0 V -8.9883 H -25.5556\"/><rect class=\"sym\" height=\"6\" width=\"6\" x=\"-3\" y=\"-3\"/><text class=\"lab\" transform=\"translate(0 11)\">5</text></g><path class=\"edge\" d=\"M 0 0 V -158.07 H 38.3333\"/><circle class=\"sym\" cx=\"0\" cy=\"0\" r=\"3\"/><text class=\"lab lft\" transform=\"translate(-3 -7.0)\">9</text></g><path class=\"edge\" d=\"M 0 0 V -21.9794 H 57.5\"/><circle class=\"sym\" cx=\"0\" cy=\"0\" r=\"3\"/><text class=\"lab lft\" transform=\"translate(-3 -7.0)\">12</text></g><path class=\"edge\" d=\"M 0 0 V -74.6152 H 67.0833\"/><circle class=\"sym\" cx=\"0\" cy=\"0\" r=\"3\"/><text class=\"lab lft\" transform=\"translate(-3 -7.0)\">13</text></g><path class=\"edge\" d=\"M 0 0 V -56.2704 H 71.875\"/><circle class=\"sym\" cx=\"0\" cy=\"0\" r=\"3\"/><text class=\"lab lft\" transform=\"translate(-3 -7.0)\">14</text></g><path class=\"edge\" d=\"M 0 0 V -121.476 H -155.729\"/><circle class=\"sym\" cx=\"0\" cy=\"0\" r=\"3\"/><text class=\"lab rgt\" transform=\"translate(3 -7.0)\">15</text></g><circle class=\"sym\" cx=\"0\" cy=\"0\" r=\"3\"/><text class=\"lab\" transform=\"translate(0 -11)\">16</text></g></g></g></svg>"
      ],
      "text/plain": [
       "<IPython.core.display.SVG object>"
      ]
     },
     "execution_count": 27,
     "metadata": {},
     "output_type": "execute_result"
    }
   ],
   "source": [
    "#SOL: define ploidy = 1. The point is to realize that msprime and pop gen models in general assume diploidy.\n",
    "simple_ts = msprime.sim_ancestry(9, ploidy=1);\n",
    "simple_tree = simple_ts.first()\n",
    "SVG(simple_tree.draw_svg(size=(500, 500)))"
   ]
  },
  {
   "cell_type": "markdown",
   "metadata": {},
   "source": [
    "<div class=\"alert alert-block alert-success\">    \n",
    "    <b>Exercise 10:</b> Use the <a href=\"https://tskit.dev/tskit/docs/stable/python-api.html#the-tree-class\"><code>.root</code></a> attribute to find the rootnode of this tree and the <code>time()</code> method to find the $t_{mrca}$.\n",
    "        </div>"
   ]
  },
  {
   "cell_type": "code",
   "execution_count": 28,
   "metadata": {},
   "outputs": [
    {
     "name": "stdout",
     "output_type": "stream",
     "text": [
      "The tmrca is 1.1332285140610465\n"
     ]
    }
   ],
   "source": [
    "#SOL\n",
    "root = simple_tree.root\n",
    "#Having defined the root, we can use the `time` method to find the time of the root node, aka the $T_{mrca}$:\n",
    "print(\"The tmrca is\", simple_tree.time(root))"
   ]
  },
  {
   "cell_type": "markdown",
   "metadata": {},
   "source": [
    "We can use a `for` loop to loop over all nodes in the tree to find the associated coalescence times. Note the use of the `.nodes()` method in the loop below which returns a `generator` object. "
   ]
  },
  {
   "cell_type": "code",
   "execution_count": 29,
   "metadata": {},
   "outputs": [
    {
     "data": {
      "text/plain": [
       "map"
      ]
     },
     "execution_count": 29,
     "metadata": {},
     "output_type": "execute_result"
    }
   ],
   "source": [
    "type(simple_tree.nodes())"
   ]
  },
  {
   "cell_type": "code",
   "execution_count": 50,
   "metadata": {},
   "outputs": [
    {
     "name": "stdout",
     "output_type": "stream",
     "text": [
      "[[0.0, 0], [0.0, 1], [0.0, 2], [0.0, 3], [0.0, 4], [0.0, 5], [0.0, 6], [0.0, 7], [0.0, 8], [0.023076108498022923, 9], [0.04931304388155296, 10], [0.07134410593161011, 11], [0.4288982112382594, 12], [0.4853269384699938, 13], [0.676890192469705, 14], [0.8213559820171166, 15], [1.1332285140610465, 16]]\n"
     ]
    }
   ],
   "source": [
    "coal_times =[[simple_tree.time(node),node] for node in simple_tree.nodes()]\n",
    "print(sorted(coal_times))"
   ]
  },
  {
   "cell_type": "code",
   "execution_count": 51,
   "metadata": {},
   "outputs": [
    {
     "name": "stdout",
     "output_type": "stream",
     "text": [
      "16 [1.1332285140610465, 16]\n",
      "15 [0.0, 0]\n",
      "14 [0.8213559820171166, 15]\n",
      "13 [0.04931304388155296, 10]\n",
      "12 [0.0, 4]\n",
      "11 [0.0, 6]\n",
      "10 [0.676890192469705, 14]\n",
      "9 [0.0, 7]\n",
      "8 [0.4853269384699938, 13]\n",
      "7 [0.07134410593161011, 11]\n",
      "6 [0.0, 3]\n",
      "5 [0.0, 8]\n",
      "4 [0.4288982112382594, 12]\n",
      "3 [0.0, 2]\n",
      "2 [0.023076108498022923, 9]\n",
      "1 [0.0, 1]\n",
      "0 [0.0, 5]\n"
     ]
    }
   ],
   "source": [
    "for i in range(0,17):\n",
    "    print(16-i,coal_times[i])"
   ]
  },
  {
   "cell_type": "markdown",
   "metadata": {},
   "source": [
    "## 1.4  A simple `msprime` mutation simulation"
   ]
  },
  {
   "cell_type": "markdown",
   "metadata": {},
   "source": [
    "We have so far only simulated genealogies, i.e. genetic ancestry without worrying about mutations. \n",
    "\n",
    "<div class=\"alert alert-block alert-info\">\n",
    "    <b>PopGen:</b> One of the most useful properties of the coalescent is that it allows us to separate the stochatic process of genetic ancestry (i.e. drift backwards) from the stochatic process of mutations. We can sprinkle mutations onto a simulated tree in a second step.\n",
    "        </div>"
   ]
  },
  {
   "cell_type": "markdown",
   "metadata": {},
   "source": [
    "<div class=\"alert alert-block alert-warning\">\n",
    "    <b>Python recipe:</b> We use the method <code>sim_mutations</code> to sprinkle mutations onto our simlulated ancestry:\n",
    "        </div>"
   ]
  },
  {
   "cell_type": "code",
   "execution_count": 54,
   "metadata": {},
   "outputs": [],
   "source": [
    "ts_with_muts_1 = msprime.sim_mutations(simple_ts, rate=0.2)\n",
    "ts_with_muts_2 = msprime.sim_mutations(simple_ts, rate=0.6)"
   ]
  },
  {
   "cell_type": "markdown",
   "metadata": {},
   "source": [
    "<div class=\"alert alert-block alert-success\">    \n",
    "    <b>Exercise 11:</b> Visualize the trees for both replicates and check how they differ."
   ]
  },
  {
   "cell_type": "code",
   "execution_count": 55,
   "metadata": {},
   "outputs": [
    {
     "data": {
      "image/svg+xml": [
       "<svg xmlns=\"http://www.w3.org/2000/svg\" xmlns:ev=\"http://www.w3.org/2001/xml-events\" xmlns:xlink=\"http://www.w3.org/1999/xlink\" baseProfile=\"full\" height=\"500\" version=\"1.1\" width=\"500\"><defs><style type=\"text/css\"><![CDATA[.background path {fill: #808080; fill-opacity: 0}.background path:nth-child(odd) {fill-opacity: .1}.axes {font-size: 14px}.x-axis .tick .lab {font-weight: bold; dominant-baseline: hanging}.axes, .tree {font-size: 14px; text-anchor: middle}.axes line, .edge {stroke: black; fill: none}.axes .ax-skip {stroke-dasharray: 4}.y-axis .grid {stroke: #FAFAFA}.node > .sym {fill: black; stroke: none}.site > .sym {stroke: black}.mut text {fill: red; font-style: italic}.mut.extra text {fill: hotpink}.mut line {fill: none; stroke: none}.mut .sym {fill: none; stroke: red}.mut.extra .sym {stroke: hotpink}.node .mut .sym {stroke-width: 1.5px}.tree text, .tree-sequence text {dominant-baseline: central}.plotbox .lab.lft {text-anchor: end}.plotbox .lab.rgt {text-anchor: start}]]></style></defs><g class=\"tree-sequence\"><g class=\"background\"><path d=\"M56.8,0 l423.2,0 l0,438.2 l0,25 l0,5 l-423.2,0 l0,-5 l0,-25 l0,-438.2z\"/></g><g class=\"axes\"><g class=\"x-axis\"><g class=\"title\" transform=\"translate(268.4 500)\"><text class=\"lab\" text-anchor=\"middle\" transform=\"translate(0 -11)\">Genome position</text></g><line class=\"ax-line\" x1=\"56.8\" x2=\"480\" y1=\"463.2\" y2=\"463.2\"/><g class=\"ticks\"><g class=\"tick\" transform=\"translate(56.8 463.2)\"><line x1=\"0\" x2=\"0\" y1=\"0\" y2=\"5\"/><g transform=\"translate(0 6)\"><text class=\"lab\">0</text></g></g><g class=\"tick\" transform=\"translate(480 463.2)\"><line x1=\"0\" x2=\"0\" y1=\"0\" y2=\"5\"/><g transform=\"translate(0 6)\"><text class=\"lab\">1</text></g></g></g><g class=\"site s0\" transform=\"translate(56.8 463.2)\"><line class=\"sym\" x1=\"0\" x2=\"0\" y1=\"0\" y2=\"-10\"/><g class=\"mut m0\"><polyline class=\"sym\" points=\"2.5,-6.5 0,-1.5 -2.5,-6.5\"/></g></g></g><g class=\"y-axis\"><g class=\"title\" transform=\"translate(0 215.7)\"><text class=\"lab\" text-anchor=\"middle\" transform=\"translate(11) rotate(-90)\">Time (generations)</text></g><line class=\"ax-line\" x1=\"56.8\" x2=\"56.8\" y1=\"421.4\" y2=\"10\"/><g class=\"ticks\"><g class=\"tick\" transform=\"translate(56.8 421.4)\"><line x1=\"0\" x2=\"-5\" y1=\"0\" y2=\"0\"/><g transform=\"translate(-6 0)\"><text class=\"lab\" text-anchor=\"end\">0.00</text></g></g><g class=\"tick\" transform=\"translate(56.8 413.365)\"><line x1=\"0\" x2=\"-5\" y1=\"0\" y2=\"0\"/><g transform=\"translate(-6 0)\"><text class=\"lab\" text-anchor=\"end\">0.02</text></g></g><g class=\"tick\" transform=\"translate(56.8 404.229)\"><line x1=\"0\" x2=\"-5\" y1=\"0\" y2=\"0\"/><g transform=\"translate(-6 0)\"><text class=\"lab\" text-anchor=\"end\">0.05</text></g></g><g class=\"tick\" transform=\"translate(56.8 396.557)\"><line x1=\"0\" x2=\"-5\" y1=\"0\" y2=\"0\"/><g transform=\"translate(-6 0)\"><text class=\"lab\" text-anchor=\"end\">0.07</text></g></g><g class=\"tick\" transform=\"translate(56.8 272.054)\"><line x1=\"0\" x2=\"-5\" y1=\"0\" y2=\"0\"/><g transform=\"translate(-6 0)\"><text class=\"lab\" text-anchor=\"end\">0.43</text></g></g><g class=\"tick\" transform=\"translate(56.8 252.405)\"><line x1=\"0\" x2=\"-5\" y1=\"0\" y2=\"0\"/><g transform=\"translate(-6 0)\"><text class=\"lab\" text-anchor=\"end\">0.49</text></g></g><g class=\"tick\" transform=\"translate(56.8 185.701)\"><line x1=\"0\" x2=\"-5\" y1=\"0\" y2=\"0\"/><g transform=\"translate(-6 0)\"><text class=\"lab\" text-anchor=\"end\">0.68</text></g></g><g class=\"tick\" transform=\"translate(56.8 135.397)\"><line x1=\"0\" x2=\"-5\" y1=\"0\" y2=\"0\"/><g transform=\"translate(-6 0)\"><text class=\"lab\" text-anchor=\"end\">0.82</text></g></g><g class=\"tick\" transform=\"translate(56.8 26.8)\"><line x1=\"0\" x2=\"-5\" y1=\"0\" y2=\"0\"/><g transform=\"translate(-6 0)\"><text class=\"lab\" text-anchor=\"end\">1.13</text></g></g></g></g></g><g class=\"plotbox trees\"><g class=\"tree t0\" transform=\"translate(56.8 0)\"><g class=\"plotbox\"><g class=\"c2 node n16 p0 root\" transform=\"translate(171.018 26.8)\"><g class=\"a16 i0 leaf node n0 p0 sample\" transform=\"translate(-129.729 394.6)\"><path class=\"edge\" d=\"M 0 0 V -394.6 H 129.729\"/><rect class=\"sym\" height=\"6\" width=\"6\" x=\"-3\" y=\"-3\"/><text class=\"lab\" transform=\"translate(0 11)\">0</text></g><g class=\"a16 c2 node n15 p0\" transform=\"translate(129.729 108.597)\"><g class=\"a15 c2 m0 node n10 p0 s0\" transform=\"translate(59.875 268.832)\"><g class=\"a10 i4 leaf node n4 p0 sample\" transform=\"translate(-21.2889 17.1712)\"><path class=\"edge\" d=\"M 0 0 V -17.1712 H 21.2889\"/><rect class=\"sym\" height=\"6\" width=\"6\" x=\"-3\" y=\"-3\"/><text class=\"lab\" transform=\"translate(0 11)\">4</text></g><g class=\"a10 i6 leaf node n6 p0 sample\" transform=\"translate(21.2889 17.1712)\"><path class=\"edge\" d=\"M 0 0 V -17.1712 H -21.2889\"/><rect class=\"sym\" height=\"6\" width=\"6\" x=\"-3\" y=\"-3\"/><text class=\"lab\" transform=\"translate(0 11)\">6</text></g><path class=\"edge\" d=\"M 0 0 V -268.832 H -59.875\"/><g class=\"mut m0 s0\" transform=\"translate(0 -82.9396)\"><line x1=\"0\" x2=\"0\" y1=\"0\" y2=\"82.9396\"/><path class=\"sym\" d=\"M -3,-3 l 6,6 M -3,3 l 6,-6\"/><text class=\"lab rgt\" transform=\"translate(5 0)\">0</text></g><circle class=\"sym\" cx=\"0\" cy=\"0\" r=\"3\"/><text class=\"lab rgt\" transform=\"translate(3 -7.0)\">10</text></g><g class=\"a15 c2 node n14 p0\" transform=\"translate(-59.875 50.3042)\"><g class=\"a14 i7 leaf node n7 p0 sample\" transform=\"translate(55.8833 235.699)\"><path class=\"edge\" d=\"M 0 0 V -235.699 H -55.8833\"/><rect class=\"sym\" height=\"6\" width=\"6\" x=\"-3\" y=\"-3\"/><text class=\"lab\" transform=\"translate(0 11)\">7</text></g><g class=\"a14 c2 node n13 p0\" transform=\"translate(-55.8833 66.704)\"><g class=\"a13 c2 node n11 p0\" transform=\"translate(47.9 144.152)\"><g class=\"a11 i3 leaf node n3 p0 sample\" transform=\"translate(-21.2889 24.8426)\"><path class=\"edge\" d=\"M 0 0 V -24.8426 H 21.2889\"/><rect class=\"sym\" height=\"6\" width=\"6\" x=\"-3\" y=\"-3\"/><text class=\"lab\" transform=\"translate(0 11)\">3</text></g><g class=\"a11 i8 leaf node n8 p0 sample\" transform=\"translate(21.2889 24.8426)\"><path class=\"edge\" d=\"M 0 0 V -24.8426 H -21.2889\"/><rect class=\"sym\" height=\"6\" width=\"6\" x=\"-3\" y=\"-3\"/><text class=\"lab\" transform=\"translate(0 11)\">8</text></g><path class=\"edge\" d=\"M 0 0 V -144.152 H -47.9\"/><circle class=\"sym\" cx=\"0\" cy=\"0\" r=\"3\"/><text class=\"lab rgt\" transform=\"translate(3 -7.0)\">11</text></g><g class=\"a13 c2 node n12 p0\" transform=\"translate(-47.9 19.649)\"><g class=\"a12 i2 leaf node n2 p0 sample\" transform=\"translate(31.9333 149.346)\"><path class=\"edge\" d=\"M 0 0 V -149.346 H -31.9333\"/><rect class=\"sym\" height=\"6\" width=\"6\" x=\"-3\" y=\"-3\"/><text class=\"lab\" transform=\"translate(0 11)\">2</text></g><g class=\"a12 c2 node n9 p0\" transform=\"translate(-31.9333 141.311)\"><g class=\"a9 i1 leaf node n1 p0 sample\" transform=\"translate(-21.2889 8.0353)\"><path class=\"edge\" d=\"M 0 0 V -8.0353 H 21.2889\"/><rect class=\"sym\" height=\"6\" width=\"6\" x=\"-3\" y=\"-3\"/><text class=\"lab\" transform=\"translate(0 11)\">1</text></g><g class=\"a9 i5 leaf node n5 p0 sample\" transform=\"translate(21.2889 8.0353)\"><path class=\"edge\" d=\"M 0 0 V -8.0353 H -21.2889\"/><rect class=\"sym\" height=\"6\" width=\"6\" x=\"-3\" y=\"-3\"/><text class=\"lab\" transform=\"translate(0 11)\">5</text></g><path class=\"edge\" d=\"M 0 0 V -141.311 H 31.9333\"/><circle class=\"sym\" cx=\"0\" cy=\"0\" r=\"3\"/><text class=\"lab lft\" transform=\"translate(-3 -7.0)\">9</text></g><path class=\"edge\" d=\"M 0 0 V -19.649 H 47.9\"/><circle class=\"sym\" cx=\"0\" cy=\"0\" r=\"3\"/><text class=\"lab lft\" transform=\"translate(-3 -7.0)\">12</text></g><path class=\"edge\" d=\"M 0 0 V -66.704 H 55.8833\"/><circle class=\"sym\" cx=\"0\" cy=\"0\" r=\"3\"/><text class=\"lab lft\" transform=\"translate(-3 -7.0)\">13</text></g><path class=\"edge\" d=\"M 0 0 V -50.3042 H 59.875\"/><circle class=\"sym\" cx=\"0\" cy=\"0\" r=\"3\"/><text class=\"lab lft\" transform=\"translate(-3 -7.0)\">14</text></g><path class=\"edge\" d=\"M 0 0 V -108.597 H -129.729\"/><circle class=\"sym\" cx=\"0\" cy=\"0\" r=\"3\"/><text class=\"lab rgt\" transform=\"translate(3 -7.0)\">15</text></g><circle class=\"sym\" cx=\"0\" cy=\"0\" r=\"3\"/><text class=\"lab\" transform=\"translate(0 -11)\">16</text></g></g></g></g></g></svg>"
      ],
      "text/plain": [
       "<IPython.core.display.SVG object>"
      ]
     },
     "metadata": {},
     "output_type": "display_data"
    },
    {
     "data": {
      "image/svg+xml": [
       "<svg xmlns=\"http://www.w3.org/2000/svg\" xmlns:ev=\"http://www.w3.org/2001/xml-events\" xmlns:xlink=\"http://www.w3.org/1999/xlink\" baseProfile=\"full\" height=\"500\" version=\"1.1\" width=\"500\"><defs><style type=\"text/css\"><![CDATA[.background path {fill: #808080; fill-opacity: 0}.background path:nth-child(odd) {fill-opacity: .1}.axes {font-size: 14px}.x-axis .tick .lab {font-weight: bold; dominant-baseline: hanging}.axes, .tree {font-size: 14px; text-anchor: middle}.axes line, .edge {stroke: black; fill: none}.axes .ax-skip {stroke-dasharray: 4}.y-axis .grid {stroke: #FAFAFA}.node > .sym {fill: black; stroke: none}.site > .sym {stroke: black}.mut text {fill: red; font-style: italic}.mut.extra text {fill: hotpink}.mut line {fill: none; stroke: none}.mut .sym {fill: none; stroke: red}.mut.extra .sym {stroke: hotpink}.node .mut .sym {stroke-width: 1.5px}.tree text, .tree-sequence text {dominant-baseline: central}.plotbox .lab.lft {text-anchor: end}.plotbox .lab.rgt {text-anchor: start}]]></style></defs><g class=\"tree-sequence\"><g class=\"background\"><path d=\"M56.8,0 l423.2,0 l0,438.2 l0,25 l0,5 l-423.2,0 l0,-5 l0,-25 l0,-438.2z\"/></g><g class=\"axes\"><g class=\"x-axis\"><g class=\"title\" transform=\"translate(268.4 500)\"><text class=\"lab\" text-anchor=\"middle\" transform=\"translate(0 -11)\">Genome position</text></g><line class=\"ax-line\" x1=\"56.8\" x2=\"480\" y1=\"463.2\" y2=\"463.2\"/><g class=\"ticks\"><g class=\"tick\" transform=\"translate(56.8 463.2)\"><line x1=\"0\" x2=\"0\" y1=\"0\" y2=\"5\"/><g transform=\"translate(0 6)\"><text class=\"lab\">0</text></g></g><g class=\"tick\" transform=\"translate(480 463.2)\"><line x1=\"0\" x2=\"0\" y1=\"0\" y2=\"5\"/><g transform=\"translate(0 6)\"><text class=\"lab\">1</text></g></g></g><g class=\"site s0\" transform=\"translate(56.8 463.2)\"><line class=\"sym\" x1=\"0\" x2=\"0\" y1=\"0\" y2=\"-10\"/><g class=\"mut m5\"><polyline class=\"sym\" points=\"2.5,-6.5 0,-1.5 -2.5,-6.5\"/></g><g class=\"mut m4\"><polyline class=\"sym\" points=\"2.5,-10.5 0,-5.5 -2.5,-10.5\"/></g><g class=\"mut m3\"><polyline class=\"sym\" points=\"2.5,-14.5 0,-9.5 -2.5,-14.5\"/></g><g class=\"mut m2\"><polyline class=\"sym\" points=\"2.5,-18.5 0,-13.5 -2.5,-18.5\"/></g><g class=\"mut m1\"><polyline class=\"sym\" points=\"2.5,-22.5 0,-17.5 -2.5,-22.5\"/></g><g class=\"mut m0\"><polyline class=\"sym\" points=\"2.5,-26.5 0,-21.5 -2.5,-26.5\"/></g></g></g><g class=\"y-axis\"><g class=\"title\" transform=\"translate(0 215.7)\"><text class=\"lab\" text-anchor=\"middle\" transform=\"translate(11) rotate(-90)\">Time (generations)</text></g><line class=\"ax-line\" x1=\"56.8\" x2=\"56.8\" y1=\"421.4\" y2=\"10\"/><g class=\"ticks\"><g class=\"tick\" transform=\"translate(56.8 421.4)\"><line x1=\"0\" x2=\"-5\" y1=\"0\" y2=\"0\"/><g transform=\"translate(-6 0)\"><text class=\"lab\" text-anchor=\"end\">0.00</text></g></g><g class=\"tick\" transform=\"translate(56.8 413.365)\"><line x1=\"0\" x2=\"-5\" y1=\"0\" y2=\"0\"/><g transform=\"translate(-6 0)\"><text class=\"lab\" text-anchor=\"end\">0.02</text></g></g><g class=\"tick\" transform=\"translate(56.8 404.229)\"><line x1=\"0\" x2=\"-5\" y1=\"0\" y2=\"0\"/><g transform=\"translate(-6 0)\"><text class=\"lab\" text-anchor=\"end\">0.05</text></g></g><g class=\"tick\" transform=\"translate(56.8 396.557)\"><line x1=\"0\" x2=\"-5\" y1=\"0\" y2=\"0\"/><g transform=\"translate(-6 0)\"><text class=\"lab\" text-anchor=\"end\">0.07</text></g></g><g class=\"tick\" transform=\"translate(56.8 272.054)\"><line x1=\"0\" x2=\"-5\" y1=\"0\" y2=\"0\"/><g transform=\"translate(-6 0)\"><text class=\"lab\" text-anchor=\"end\">0.43</text></g></g><g class=\"tick\" transform=\"translate(56.8 252.405)\"><line x1=\"0\" x2=\"-5\" y1=\"0\" y2=\"0\"/><g transform=\"translate(-6 0)\"><text class=\"lab\" text-anchor=\"end\">0.49</text></g></g><g class=\"tick\" transform=\"translate(56.8 185.701)\"><line x1=\"0\" x2=\"-5\" y1=\"0\" y2=\"0\"/><g transform=\"translate(-6 0)\"><text class=\"lab\" text-anchor=\"end\">0.68</text></g></g><g class=\"tick\" transform=\"translate(56.8 135.397)\"><line x1=\"0\" x2=\"-5\" y1=\"0\" y2=\"0\"/><g transform=\"translate(-6 0)\"><text class=\"lab\" text-anchor=\"end\">0.82</text></g></g><g class=\"tick\" transform=\"translate(56.8 26.8)\"><line x1=\"0\" x2=\"-5\" y1=\"0\" y2=\"0\"/><g transform=\"translate(-6 0)\"><text class=\"lab\" text-anchor=\"end\">1.13</text></g></g></g></g></g><g class=\"plotbox trees\"><g class=\"tree t0\" transform=\"translate(56.8 0)\"><g class=\"plotbox\"><g class=\"c2 node n16 p0 root\" transform=\"translate(171.018 26.8)\"><g class=\"a16 i0 leaf m1 node n0 p0 s0 sample\" transform=\"translate(-129.729 394.6)\"><path class=\"edge\" d=\"M 0 0 V -394.6 H 129.729\"/><g class=\"mut m1 s0\" transform=\"translate(0 -182.791)\"><line x1=\"0\" x2=\"0\" y1=\"0\" y2=\"182.791\"/><path class=\"sym\" d=\"M -3,-3 l 6,6 M -3,3 l 6,-6\"/><text class=\"lab lft\" transform=\"translate(-5 0)\">1</text></g><rect class=\"sym\" height=\"6\" width=\"6\" x=\"-3\" y=\"-3\"/><text class=\"lab\" transform=\"translate(0 11)\">0</text></g><g class=\"a16 c2 node n15 p0\" transform=\"translate(129.729 108.597)\"><g class=\"a15 c2 node n10 p0\" transform=\"translate(59.875 268.832)\"><g class=\"a10 i4 leaf node n4 p0 sample\" transform=\"translate(-21.2889 17.1712)\"><path class=\"edge\" d=\"M 0 0 V -17.1712 H 21.2889\"/><rect class=\"sym\" height=\"6\" width=\"6\" x=\"-3\" y=\"-3\"/><text class=\"lab\" transform=\"translate(0 11)\">4</text></g><g class=\"a10 i6 leaf node n6 p0 sample\" transform=\"translate(21.2889 17.1712)\"><path class=\"edge\" d=\"M 0 0 V -17.1712 H -21.2889\"/><rect class=\"sym\" height=\"6\" width=\"6\" x=\"-3\" y=\"-3\"/><text class=\"lab\" transform=\"translate(0 11)\">6</text></g><path class=\"edge\" d=\"M 0 0 V -268.832 H -59.875\"/><circle class=\"sym\" cx=\"0\" cy=\"0\" r=\"3\"/><text class=\"lab rgt\" transform=\"translate(3 -7.0)\">10</text></g><g class=\"a15 c2 node n14 p0\" transform=\"translate(-59.875 50.3042)\"><g class=\"a14 i7 leaf m4 node n7 p0 s0 sample\" transform=\"translate(55.8833 235.699)\"><path class=\"edge\" d=\"M 0 0 V -235.699 H -55.8833\"/><g class=\"mut m4 s0\" transform=\"translate(0 -74.9125)\"><line x1=\"0\" x2=\"0\" y1=\"0\" y2=\"74.9125\"/><path class=\"sym\" d=\"M -3,-3 l 6,6 M -3,3 l 6,-6\"/><text class=\"lab rgt\" transform=\"translate(5 0)\">4</text></g><rect class=\"sym\" height=\"6\" width=\"6\" x=\"-3\" y=\"-3\"/><text class=\"lab\" transform=\"translate(0 11)\">7</text></g><g class=\"a14 c2 m0 m2 m3 node n13 p0 s0\" transform=\"translate(-55.8833 66.704)\"><g class=\"a13 c2 m5 node n11 p0 s0\" transform=\"translate(47.9 144.152)\"><g class=\"a11 i3 leaf node n3 p0 sample\" transform=\"translate(-21.2889 24.8426)\"><path class=\"edge\" d=\"M 0 0 V -24.8426 H 21.2889\"/><rect class=\"sym\" height=\"6\" width=\"6\" x=\"-3\" y=\"-3\"/><text class=\"lab\" transform=\"translate(0 11)\">3</text></g><g class=\"a11 i8 leaf node n8 p0 sample\" transform=\"translate(21.2889 24.8426)\"><path class=\"edge\" d=\"M 0 0 V -24.8426 H -21.2889\"/><rect class=\"sym\" height=\"6\" width=\"6\" x=\"-3\" y=\"-3\"/><text class=\"lab\" transform=\"translate(0 11)\">8</text></g><path class=\"edge\" d=\"M 0 0 V -144.152 H -47.9\"/><g class=\"mut m5 s0\" transform=\"translate(0 -49.1355)\"><line x1=\"0\" x2=\"0\" y1=\"0\" y2=\"49.1355\"/><path class=\"sym\" d=\"M -3,-3 l 6,6 M -3,3 l 6,-6\"/><text class=\"lab rgt\" transform=\"translate(5 0)\">5</text></g><circle class=\"sym\" cx=\"0\" cy=\"0\" r=\"3\"/><text class=\"lab rgt\" transform=\"translate(3 -7.0)\">11</text></g><g class=\"a13 c2 node n12 p0\" transform=\"translate(-47.9 19.649)\"><g class=\"a12 i2 leaf node n2 p0 sample\" transform=\"translate(31.9333 149.346)\"><path class=\"edge\" d=\"M 0 0 V -149.346 H -31.9333\"/><rect class=\"sym\" height=\"6\" width=\"6\" x=\"-3\" y=\"-3\"/><text class=\"lab\" transform=\"translate(0 11)\">2</text></g><g class=\"a12 c2 node n9 p0\" transform=\"translate(-31.9333 141.311)\"><g class=\"a9 i1 leaf node n1 p0 sample\" transform=\"translate(-21.2889 8.0353)\"><path class=\"edge\" d=\"M 0 0 V -8.0353 H 21.2889\"/><rect class=\"sym\" height=\"6\" width=\"6\" x=\"-3\" y=\"-3\"/><text class=\"lab\" transform=\"translate(0 11)\">1</text></g><g class=\"a9 i5 leaf node n5 p0 sample\" transform=\"translate(21.2889 8.0353)\"><path class=\"edge\" d=\"M 0 0 V -8.0353 H -21.2889\"/><rect class=\"sym\" height=\"6\" width=\"6\" x=\"-3\" y=\"-3\"/><text class=\"lab\" transform=\"translate(0 11)\">5</text></g><path class=\"edge\" d=\"M 0 0 V -141.311 H 31.9333\"/><circle class=\"sym\" cx=\"0\" cy=\"0\" r=\"3\"/><text class=\"lab lft\" transform=\"translate(-3 -7.0)\">9</text></g><path class=\"edge\" d=\"M 0 0 V -19.649 H 47.9\"/><circle class=\"sym\" cx=\"0\" cy=\"0\" r=\"3\"/><text class=\"lab lft\" transform=\"translate(-3 -7.0)\">12</text></g><path class=\"edge\" d=\"M 0 0 V -66.704 H 55.8833\"/><g class=\"mut m0 s0\" transform=\"translate(0 -63.838)\"><line x1=\"0\" x2=\"0\" y1=\"0\" y2=\"63.838\"/><path class=\"sym\" d=\"M -3,-3 l 6,6 M -3,3 l 6,-6\"/><text class=\"lab lft\" transform=\"translate(-5 0)\">0</text></g><g class=\"mut m2 s0\" transform=\"translate(0 -13.5993)\"><line x1=\"0\" x2=\"0\" y1=\"0\" y2=\"13.5993\"/><path class=\"sym\" d=\"M -3,-3 l 6,6 M -3,3 l 6,-6\"/><text class=\"lab lft\" transform=\"translate(-5 0)\">2</text></g><g class=\"mut m3 s0\" transform=\"translate(0 -7.35638)\"><line x1=\"0\" x2=\"0\" y1=\"0\" y2=\"7.35638\"/><path class=\"sym\" d=\"M -3,-3 l 6,6 M -3,3 l 6,-6\"/><text class=\"lab lft\" transform=\"translate(-5 0)\">3</text></g><circle class=\"sym\" cx=\"0\" cy=\"0\" r=\"3\"/><text class=\"lab lft\" transform=\"translate(-3 -7.0)\">13</text></g><path class=\"edge\" d=\"M 0 0 V -50.3042 H 59.875\"/><circle class=\"sym\" cx=\"0\" cy=\"0\" r=\"3\"/><text class=\"lab lft\" transform=\"translate(-3 -7.0)\">14</text></g><path class=\"edge\" d=\"M 0 0 V -108.597 H -129.729\"/><circle class=\"sym\" cx=\"0\" cy=\"0\" r=\"3\"/><text class=\"lab rgt\" transform=\"translate(3 -7.0)\">15</text></g><circle class=\"sym\" cx=\"0\" cy=\"0\" r=\"3\"/><text class=\"lab\" transform=\"translate(0 -11)\">16</text></g></g></g></g></g></svg>"
      ],
      "text/plain": [
       "<IPython.core.display.SVG object>"
      ]
     },
     "metadata": {},
     "output_type": "display_data"
    }
   ],
   "source": [
    "#SOL\n",
    "display(SVG(ts_with_muts_1.draw_svg(size=(500, 500),y_axis=True)), \n",
    "        SVG(ts_with_muts_2.draw_svg(size=(500, 500),y_axis=True)))"
   ]
  },
  {
   "cell_type": "markdown",
   "metadata": {},
   "source": [
    "By default `sim_ancestry` and `sim_mutations` use different random seeds. This means that every ancestry and mutation simulation will be different. It is useful to be able to replicate the same simulation; setting the same random seed guarantees this. Try this by rerunning the code chunk above!"
   ]
  },
  {
   "cell_type": "markdown",
   "metadata": {},
   "source": [
    "## 1.5 Using `msprime` to find the distribution of genealogies and coalescent times"
   ]
  },
  {
   "cell_type": "markdown",
   "metadata": {},
   "source": [
    "We have so far only simulated single genealogies. We are usually interested in using coalescent simulations to understand the **distribution** of genealogies."
   ]
  },
  {
   "cell_type": "markdown",
   "metadata": {},
   "source": [
    "<div class=\"alert alert-block alert-warning\">\n",
    "    <b>Python recipe:</b> The <code>num_replicates</code> argument of <code>sim_ancestry()</code> provides a convenient and efficient way to iterate over a number of replicate simulations. Let's use this to examine the distribution of the time to the most recent common ancestor.\n",
    "        </div>"
   ]
  },
  {
   "cell_type": "code",
   "execution_count": 56,
   "metadata": {},
   "outputs": [],
   "source": [
    "num_replicates = 1_000\n",
    "tmrca_msprime = np.zeros(num_replicates)\n",
    "replicates = msprime.sim_ancestry(9, ploidy=1, num_replicates=num_replicates, random_seed=42)\n",
    "for replicate_index, ts in enumerate(replicates):\n",
    "    tree = ts.first()\n",
    "    tmrca_msprime[replicate_index] = tree.time(tree.root)"
   ]
  },
  {
   "cell_type": "markdown",
   "metadata": {},
   "source": [
    "Note that the output of `sim_ancestry()` is a generator:"
   ]
  },
  {
   "cell_type": "code",
   "execution_count": 58,
   "metadata": {},
   "outputs": [
    {
     "data": {
      "text/plain": [
       "generator"
      ]
     },
     "execution_count": 58,
     "metadata": {},
     "output_type": "execute_result"
    }
   ],
   "source": [
    "type(replicates)"
   ]
  },
  {
   "cell_type": "markdown",
   "metadata": {},
   "source": [
    "<div class=\"alert alert-block alert-warning\">\n",
    "    <b>Python recipe:</b> We will use <code>for</code> loops like the one above for populating numpy arrays with simulation results throughout the course, so it's worth understanding the syntax used: <code>np.zeros()</code> sets up an empty <code>numpy</code> array. It’s important to note that the replicate simulations are generated lazily here on demand — the set of simulations we have specified using <code>sim_ancestry</code> and assigned to the <code>replicates</code> variable is also a <code>generator</code>. This means that simulations are only specified but not actually run when we define <code>replicates</code>. \n",
    "\n",
    "Inside the <code>for</code> loop we use the built-in <code>enumerate()</code> function to easily get the index of each replicate in the list. Each replicate simulation is done sequentially as we go through the loop. We therefore only use the memory that we need to represent the results of one simulation.\n",
    "        </div>"
   ]
  },
  {
   "cell_type": "markdown",
   "metadata": {},
   "source": [
    "<div class=\"alert alert-block alert-warning\">\n",
    "    <b>Note:</b> the type of  <code>sim_ancestry()</code> changes when we use the  <code>num_replicates </code> argument. If num_replicates is not specified or None, we return an instance of <code>tskit.TreeSequence</code>. If it is specified, we return an iterator over a set of <code>tskit.TreeSequence </code> instances.\n",
    "        </div>"
   ]
  },
  {
   "cell_type": "markdown",
   "metadata": {},
   "source": [
    "<div class=\"alert alert-block alert-success\">    \n",
    "    <b>Exercise 12:</b>  What is the mean $t_{mrca}$? How does the distribution compare to the one we obtained using our own coalescence time simulator <code>coaltimes</code> at the start of this practical?"
   ]
  },
  {
   "cell_type": "code",
   "execution_count": 59,
   "metadata": {},
   "outputs": [
    {
     "name": "stdout",
     "output_type": "stream",
     "text": [
      "The mean Tmrca is 35990.76569596264\n",
      "The mean Tmrca is 36829.61290995784\n"
     ]
    }
   ],
   "source": [
    "#SOL\n",
    "print(\"The mean Tmrca is\", tmrca_msprime.mean()*20000)\n",
    "print(\"The mean Tmrca is\", tmrca.mean())"
   ]
  },
  {
   "cell_type": "code",
   "execution_count": 60,
   "metadata": {},
   "outputs": [
    {
     "data": {
      "image/png": "[encoded data removed]",
      "text/plain": [
       "<Figure size 500x500 with 1 Axes>"
      ]
     },
     "metadata": {},
     "output_type": "display_data"
    }
   ],
   "source": [
    "#SOL\n",
    "sns.displot(x = tmrca_msprime, stat = \"density\", label = 'span of trees', binwidth = 0.5, color = \"r\")\n",
    "plt.axvline(x= np.mean(tmrca_msprime)) \n",
    "plt.xlabel(\"times (in generations)\");\n",
    "plt.ylabel(\"count\")\n",
    "plt.show()"
   ]
  },
  {
   "cell_type": "code",
   "execution_count": 56,
   "metadata": {},
   "outputs": [
    {
     "data": {
      "image/png": "[encoded data removed]",
      "text/plain": [
       "<Figure size 360x360 with 1 Axes>"
      ]
     },
     "metadata": {
      "needs_background": "light"
     },
     "output_type": "display_data"
    }
   ],
   "source": [
    "##SOL\n",
    "sns.displot(x = tmrca/20_000, stat = \"density\", label = 'span of trees', binwidth = 0.5)\n",
    "plt.xlabel(\"times (in generations)\");\n",
    "plt.ylabel(\"count\")\n",
    "plt.show()"
   ]
  },
  {
   "cell_type": "markdown",
   "metadata": {},
   "source": [
    "## 1.6 Counting trees..."
   ]
  },
  {
   "cell_type": "markdown",
   "metadata": {},
   "source": [
    "We have **still** only considered coalescence times and ignored topologies. How random are tree topologies under the standard neutral coalescent? The number of possible tree topologies grows very quickly with sample size and is **enormous** even for relatively small samples.\n",
    "\n",
    "We can generate all trees using `tskit.all_trees(i, span=1)`. <b>Note:</b> by default, this count includes all trees, not just bifurcating trees."
   ]
  },
  {
   "cell_type": "markdown",
   "metadata": {},
   "source": [
    "<div class=\"alert alert-block alert-warning\">\n",
    "    <b>Python recipe:</b> Use <a href=\"https://seaborn.pydata.org/generated/seaborn.lineplot.html\"><code>sns.lineplot()</code></a> for plotting simple functions and datasets.\n",
    "        </div>"
   ]
  },
  {
   "cell_type": "code",
   "execution_count": 63,
   "metadata": {},
   "outputs": [
    {
     "name": "stdout",
     "output_type": "stream",
     "text": [
      "For a samples of 7 lineages the number of unique tree topologies is 39208\n"
     ]
    },
    {
     "data": {
      "image/png": "[encoded data removed]",
      "text/plain": [
       "<Figure size 432x288 with 1 Axes>"
      ]
     },
     "metadata": {
      "needs_background": "light"
     },
     "output_type": "display_data"
    }
   ],
   "source": [
    "num_trees = [len(list(enumerate(tskit.all_trees(i, span=1)))) for i in range(2,8)]\n",
    "print(\"For a samples of 7 lineages the number of unique tree topologies is\", num_trees[-1])\n",
    "n_samp = np.arange(2,8)\n",
    "plt.xlabel('n')\n",
    "sns.lineplot(x = n_samp, y =  num_trees)\n",
    "plt.show()"
   ]
  },
  {
   "cell_type": "markdown",
   "metadata": {},
   "source": [
    "<div class=\"alert alert-block alert-success\">    \n",
    "    <b>Exercise 13:</b>  Use the method <a href=\"https://tskit.dev/tskit/docs/stable/topological-analysis.html#sec-tree-ranks\"><code>rank</code></a> to find the shape of each of the 1,000 simulated trees. Set up an empty numpy array and use a for loop over <code>enumerate(replicates)</code> to add the shape integer of each simulated tree to this array (analogous to the loop at the start of this section).\n",
    "    \n",
    "<b>Hint: </b> Note that <code>replicates</code> is a generator object, which needs to be re-evaluated if you want to use the same set of simulations again.\n",
    "        </div>"
   ]
  },
  {
   "cell_type": "code",
   "execution_count": 61,
   "metadata": {},
   "outputs": [],
   "source": [
    "#SOL rank generates a tuple, the first element is an integer which uniquely records the unlabelled shape of a tree.\n",
    "num_replicates = 1_000\n",
    "rep_shapes = np.zeros(num_replicates)\n",
    "replicates = msprime.sim_ancestry(9, ploidy=1, num_replicates=num_replicates, random_seed=42)\n",
    "for replicate_index, ts in enumerate(replicates):\n",
    "    tree = ts.first()\n",
    "    rep_shapes[replicate_index] = tree.rank()[0]"
   ]
  },
  {
   "cell_type": "markdown",
   "metadata": {},
   "source": [
    "<div class=\"alert alert-block alert-warning\">\n",
    "    <b>Python recipe:</b> <a href=\"https://realpython.com/python-counter/\"><code>Counter</code></a> is extremely useful. The output is a python dictionary."
   ]
  },
  {
   "cell_type": "markdown",
   "metadata": {},
   "source": [
    "<div class=\"alert alert-block alert-success\">    \n",
    "    <b>Exercise 14:</b> Use a <code>Counter</code> to find out how many unique tree shapes you have simulated. How does this compare to the number possible bifurcating tree shapes, which for $n=9$ is 46 (Felsenstein, 2004)?\n",
    "        </div>"
   ]
  },
  {
   "cell_type": "code",
   "execution_count": 62,
   "metadata": {},
   "outputs": [
    {
     "name": "stdout",
     "output_type": "stream",
     "text": [
      "The number of unique tree shapes is 46\n"
     ]
    }
   ],
   "source": [
    "#SOL\n",
    "count_dict = Counter(rep_shapes)\n",
    "print(\"The number of unique tree shapes is\", len(count_dict))"
   ]
  },
  {
   "cell_type": "markdown",
   "metadata": {},
   "source": [
    "`Counter` returns a python dictionary. `most_common()` returns the key and value (in this case the count) of a `Counter`:"
   ]
  },
  {
   "cell_type": "code",
   "execution_count": 63,
   "metadata": {},
   "outputs": [
    {
     "name": "stdout",
     "output_type": "stream",
     "text": [
      "753.0\n",
      "91\n"
     ]
    }
   ],
   "source": [
    "most_freq_rank, count = count_dict.most_common()[0]\n",
    "print(most_freq_rank)\n",
    "print(count)"
   ]
  },
  {
   "cell_type": "markdown",
   "metadata": {},
   "source": [
    "<div class=\"alert alert-block alert-success\">    \n",
    "    <b>Exercise 15:</b> If we focus on the root partition and consider a sample of $n=9$, how likely are asymmetric trees, i.e. with a (8,1) compared to very symmetric trees (5,4)? Check the frequency of all root partitions in the 1,000 replicates.\n",
    "\n",
    "Use the function <code>get_root_bipartition</code> defined below on every replicate and store the result in an empty array <code>rep_partitions</code>!\n",
    "        </div>"
   ]
  },
  {
   "cell_type": "code",
   "execution_count": 65,
   "metadata": {},
   "outputs": [],
   "source": [
    "def get_root_bipartition(tree):\n",
    "    root_children = tree.children(tree.root)\n",
    "    left_clade_n = len(sorted(tree.leaves(root_children[0])))\n",
    "    right_clade_n = len(sorted(tree.leaves(root_children[1])))\n",
    "    return sorted((left_clade_n, right_clade_n))[0]"
   ]
  },
  {
   "cell_type": "code",
   "execution_count": 66,
   "metadata": {},
   "outputs": [
    {
     "data": {
      "text/plain": [
       "1"
      ]
     },
     "execution_count": 66,
     "metadata": {},
     "output_type": "execute_result"
    }
   ],
   "source": [
    "get_root_bipartition(simple_tree)"
   ]
  },
  {
   "cell_type": "code",
   "execution_count": 81,
   "metadata": {},
   "outputs": [],
   "source": [
    "#SOL\n",
    "num_replicates = 1_000\n",
    "rep_partitions = np.zeros(num_replicates)\n",
    "replicates = msprime.sim_ancestry(9, ploidy=1, num_replicates=num_replicates, random_seed=42)\n",
    "for replicate_index, ts in enumerate(replicates):\n",
    "    tree = ts.first()\n",
    "    rep_partitions[replicate_index] = get_root_bipartition(tree)"
   ]
  },
  {
   "cell_type": "code",
   "execution_count": 82,
   "metadata": {
    "scrolled": true
   },
   "outputs": [],
   "source": [
    "for replicate_index, ts in enumerate(replicates):\n",
    "    tree = ts.first()\n",
    "    print(replicate_index,tree.rank()[0],get_root_bipartition(tree))"
   ]
  },
  {
   "cell_type": "markdown",
   "metadata": {},
   "source": [
    "Try to use the code chunk below to count the number of root partitions and print the results:"
   ]
  },
  {
   "cell_type": "code",
   "execution_count": 74,
   "metadata": {},
   "outputs": [
    {
     "name": "stdout",
     "output_type": "stream",
     "text": [
      "There are 229 genealogies with a root partition 3.0\n",
      "There are 254 genealogies with a root partition 4.0\n",
      "There are 247 genealogies with a root partition 1.0\n",
      "There are 270 genealogies with a root partition 2.0\n"
     ]
    }
   ],
   "source": [
    "counts = Counter(rep_partitions)\n",
    "count_array = np.zeros(4)\n",
    "for index, root_partition in enumerate(counts):\n",
    "    count_array[index] =  counts[root_partition]\n",
    "    print(\"There are\", counts[root_partition], \"genealogies with a root partition\", root_partition)"
   ]
  },
  {
   "cell_type": "markdown",
   "metadata": {},
   "source": [
    "<div class=\"alert alert-block alert-warning\">\n",
    "    <b>Python recipe:</b> Statistical tests with <code>scipy</code>. We can check whether counts are significantly different from each other with a $\\chi^2$ test:"
   ]
  },
  {
   "cell_type": "code",
   "execution_count": 83,
   "metadata": {},
   "outputs": [
    {
     "name": "stdout",
     "output_type": "stream",
     "text": [
      "3.4640000000000004\n"
     ]
    }
   ],
   "source": [
    "#By hand good for the soul\n",
    "chi_square = ((count_array - 250)**2)/250;\n",
    "print(chi_square.sum())"
   ]
  },
  {
   "cell_type": "code",
   "execution_count": 49,
   "metadata": {},
   "outputs": [
    {
     "data": {
      "text/plain": [
       "Power_divergenceResult(statistic=3.4640000000000004, pvalue=0.3254613028395365)"
      ]
     },
     "execution_count": 49,
     "metadata": {},
     "output_type": "execute_result"
    }
   ],
   "source": [
    "#SOL scipy\n",
    "from scipy.stats import chisquare\n",
    "chisquare(count_array)"
   ]
  }
 ],
 "metadata": {
  "kernelspec": {
   "display_name": "Python 3 (ipykernel)",
   "language": "python",
   "name": "python3"
  },
  "language_info": {
   "codemirror_mode": {
    "name": "ipython",
    "version": 3
   },
   "file_extension": ".py",
   "mimetype": "text/x-python",
   "name": "python",
   "nbconvert_exporter": "python",
   "pygments_lexer": "ipython3",
   "version": "3.12.1"
  }
 },
 "nbformat": 4,
 "nbformat_minor": 4
}
