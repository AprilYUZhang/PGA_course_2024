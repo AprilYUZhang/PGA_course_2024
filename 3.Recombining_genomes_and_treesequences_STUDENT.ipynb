{
 "cells": [
  {
   "cell_type": "markdown",
   "metadata": {},
   "source": [
    "# Practical 3. Simulating recombining genomes - a simulation journey to the happy land of treesequences \n",
    "\n",
    "At the end of this practical you should:\n",
    "\n",
    "- Know what ARGs and treesequences are, how they are constructed and how they differ\n",
    "- Appreciate that not all recombination events are detectable\n",
    "- Understand the difference between map and physical length of a sequence\n",
    "- Know that the span of trees along the genome is a random variable and that nodes are shared between many trees.\n",
    "- Understand that the duality between branch lengths and popgen measures extends to correlated trees."
   ]
  },
  {
   "cell_type": "code",
   "execution_count": 33,
   "metadata": {},
   "outputs": [],
   "source": [
    "import msprime\n",
    "import tskit\n",
    "import numpy as np\n",
    "import pandas as pd\n",
    "import seaborn as sns\n",
    "from IPython.display import Image, SVG, set_matplotlib_formats\n",
    "import matplotlib as mpl\n",
    "from matplotlib import pyplot as plt\n",
    "#jupyter magic\n",
    "%matplotlib inline\n",
    "import warnings\n",
    "warnings.filterwarnings('ignore')"
   ]
  },
  {
   "cell_type": "markdown",
   "metadata": {},
   "source": [
    "## 3.1 Three theoretical flies! A simple coalescent simulation with recombination"
   ]
  },
  {
   "cell_type": "markdown",
   "metadata": {},
   "source": [
    "<div class=\"alert alert-block alert-info\">\n",
    "    <b>PopGen:</b>\n",
    "So far we have thought about the coalescent as a model of ancestry that applies to non-recombining \"loci\". While <i>a locus</i> is a useful concept in population genetics precisely because it is rather vague, it is not particularly helpful when thinking about genome sequence data. Some types of sequence (e.g. organelle genomes such as mitochdria) are non-recombining. However, most DNA sequences undergo recombination. In this case, the most basic/indivisible unit of inheritance, i.e. the only meaningful locus, is a single nucleotide.\n",
    "    </div>"
   ]
  },
  {
   "cell_type": "markdown",
   "metadata": {},
   "source": [
    "You have heard (lecture 3) how we can include recombination into the standard coalescent. In this practical, we will use simulations to explore basic properties of the coalescent with recombination.\n",
    "\n",
    "To simulate the ancestry of a sample of recombining sequences with `msprime`, we have to specify a `sequence_length` and a `recombination_rate`. It is alsways useful to make simulations both as simple as possible but also concrete, i.e. to choose parameters that apply at least roughly to some real population in nature. We will focus on two cases in this practical: *Drosophila melanogaster* and *Homo sapiens*. Population genomic variation has been studied excessively in both models and, together, they span a broad range of population genetic parameter space."
   ]
  },
  {
   "cell_type": "markdown",
   "metadata": {},
   "source": [
    "<div class=\"alert alert-block alert-success\">    \n",
    "    <b>Exercise 1:</b> The length of the genetic map of <i>D. melanogaster</i> is <a href=\"https://journals.plos.org/plosgenetics/article?id=10.1371/journal.pgen.1002905\">282 cM</a>. Given a genome size of $\\approx$ 180 Mb, what is the per base, per generation rate of recombination? How does this compare to the mutation rate estimated by <a href=\"https://genome.cshlp.org/content/19/7/1195\">Keightley et al (2009)</a>?\n",
    "    </div>"
   ]
  },
  {
   "cell_type": "code",
   "execution_count": 1,
   "metadata": {},
   "outputs": [],
   "source": [
    "#SOL"
   ]
  },
  {
   "cell_type": "markdown",
   "metadata": {},
   "source": [
    "<div class=\"alert alert-block alert-success\">    \n",
    "    <b>Exercise 2:</b> Set the per base recombination rate to $1/2$ of your estimate (given that recombination in <i>Drosophila</i> is restricted to females) to simulate the ancestry of a neutrally evolving sequence of length 50kb sampled in 3 individuals. How many marginal trees contribute to the ancestry of this sequence? Assume $N_e = 10^6$ which corresponds roughly to estimates for <i>D. melanogaster</i>.\n",
    "\n",
    "<b>Hint:</b> Use the code chunk below, set <code>random seed = 87</code> and specify the correct recpmbination rate and  sequence length. You can use <code>num_trees</code> to count the trees in the ts.\n",
    "    </div>"
   ]
  },
  {
   "cell_type": "code",
   "execution_count": 5,
   "metadata": {},
   "outputs": [
    {
     "data": {
      "text/html": [
       "\n",
       "            <div>\n",
       "              <style>\n",
       "                .tskit-table thead tr th {text-align: left;padding: 0.5em 0.5em;}\n",
       "                .tskit-table tbody tr td {padding: 0.5em 0.5em;}\n",
       "                .tskit-table tbody tr td:first-of-type {text-align: left;}\n",
       "                .tskit-details-label {vertical-align: top; padding-right:5px;}\n",
       "                .tskit-table-set {display: inline-flex;flex-wrap: wrap;margin: -12px 0 0 -12px;width: calc(100% + 12px);}\n",
       "                .tskit-table-set-table {margin: 12px 0 0 12px;}\n",
       "                details {display: inline-block;}\n",
       "                summary {cursor: pointer; outline: 0; display: list-item;}\n",
       "              </style>\n",
       "              <div class=\"tskit-table-set\">\n",
       "                <div class=\"tskit-table-set-table\">\n",
       "                  <table class=\"tskit-table\">\n",
       "                    <thead>\n",
       "                      <tr>\n",
       "                        <th style=\"padding:0;line-height:21px;\">\n",
       "                          <img style=\"height: 32px;display: inline-block;padding: 3px 5px 3px 0;\" src=\"https://raw.githubusercontent.com/tskit-dev/administrative/main/tskit_logo.svg\"/>\n",
       "                          <a target=\"_blank\" href=\"https://tskit.readthedocs.io/en/latest/python-api.html#the-treesequence-class\"> Tree Sequence </a>\n",
       "                        </th>\n",
       "                      </tr>\n",
       "                    </thead>\n",
       "                    <tbody>\n",
       "                      <tr><td>Trees</td><td>2713</td></tr>\n",
       "                      <tr><td>Sequence Length</td><td>50000.0</td></tr>\n",
       "                      <tr><td>Sample Nodes</td><td>6</td></tr>\n",
       "                      <tr><td>Total Size</td><td>327.1 KiB</td></tr>\n",
       "                      <tr>\n",
       "                        <td>Metadata</td><td style=\"text-align: left;\">No Metadata</td></tr>\n",
       "                    </tbody>\n",
       "                  </table>\n",
       "                </div>\n",
       "                <div class=\"tskit-table-set-table\">\n",
       "                  <table class=\"tskit-table\">\n",
       "                    <thead>\n",
       "                      <tr>\n",
       "                        <th style=\"line-height:21px;\">Table</th>\n",
       "                        <th>Rows</th>\n",
       "                        <th>Size</th>\n",
       "                        <th>Has Metadata</th>\n",
       "                      </tr>\n",
       "                    </thead>\n",
       "                    <tbody>\n",
       "                    \n",
       "                  <tr>\n",
       "                    <td>Edges</td>\n",
       "                      <td>7985</td>\n",
       "                      <td>218.3 KiB</td>\n",
       "                      <td style=\"text-align: center;\">\n",
       "                        \n",
       "                      </td>\n",
       "                    </tr>\n",
       "                \n",
       "                  <tr>\n",
       "                    <td>Individuals</td>\n",
       "                      <td>3</td>\n",
       "                      <td>60 Bytes</td>\n",
       "                      <td style=\"text-align: center;\">\n",
       "                        \n",
       "                      </td>\n",
       "                    </tr>\n",
       "                \n",
       "                  <tr>\n",
       "                    <td>Migrations</td>\n",
       "                      <td>0</td>\n",
       "                      <td>4 Bytes</td>\n",
       "                      <td style=\"text-align: center;\">\n",
       "                        \n",
       "                      </td>\n",
       "                    </tr>\n",
       "                \n",
       "                  <tr>\n",
       "                    <td>Mutations</td>\n",
       "                      <td>0</td>\n",
       "                      <td>8 Bytes</td>\n",
       "                      <td style=\"text-align: center;\">\n",
       "                        \n",
       "                      </td>\n",
       "                    </tr>\n",
       "                \n",
       "                  <tr>\n",
       "                    <td>Nodes</td>\n",
       "                      <td>1927</td>\n",
       "                      <td>45.2 KiB</td>\n",
       "                      <td style=\"text-align: center;\">\n",
       "                        \n",
       "                      </td>\n",
       "                    </tr>\n",
       "                \n",
       "                  <tr>\n",
       "                    <td>Populations</td>\n",
       "                      <td>1</td>\n",
       "                      <td>216 Bytes</td>\n",
       "                      <td style=\"text-align: center;\">\n",
       "                        ✅\n",
       "                      </td>\n",
       "                    </tr>\n",
       "                \n",
       "                  <tr>\n",
       "                    <td>Provenances</td>\n",
       "                      <td>1</td>\n",
       "                      <td>978 Bytes</td>\n",
       "                      <td style=\"text-align: center;\">\n",
       "                        \n",
       "                      </td>\n",
       "                    </tr>\n",
       "                \n",
       "                  <tr>\n",
       "                    <td>Sites</td>\n",
       "                      <td>0</td>\n",
       "                      <td>8 Bytes</td>\n",
       "                      <td style=\"text-align: center;\">\n",
       "                        \n",
       "                      </td>\n",
       "                    </tr>\n",
       "                \n",
       "                    </tbody>\n",
       "                  </table>\n",
       "                </div>\n",
       "              </div>\n",
       "            </div>\n",
       "            "
      ],
      "text/plain": [
       "<tskit.trees.TreeSequence at 0x7f39a5962e50>"
      ]
     },
     "execution_count": 5,
     "metadata": {},
     "output_type": "execute_result"
    }
   ],
   "source": [
    "dmel_ts = msprime.sim_ancestry(3, population_size = 1_000_000,\n",
    "                              recombination_rate = ,\n",
    "                              sequence_length = , random_seed = );\n",
    "dmel_ts"
   ]
  },
  {
   "cell_type": "code",
   "execution_count": 2,
   "metadata": {},
   "outputs": [],
   "source": [
    "#SOL"
   ]
  },
  {
   "cell_type": "markdown",
   "metadata": {},
   "source": [
    "<div class=\"alert alert-block alert-success\">    \n",
    "    <b>Exercise 3:</b> Use <code>draw_svg()</code> to look at the tree sequence. Going from left to right, can you work out on which genealogical branches the recombination events are located that define the first 5 trees?\n",
    "\n",
    "<b>Hint:</b> to keep the figure manageable, use the <code>x_lim = [0,100]</code> argument to plot the first 100 bases. Note down the number of the node above each reccombination event. \n",
    "    </div>"
   ]
  },
  {
   "cell_type": "code",
   "execution_count": 3,
   "metadata": {
    "scrolled": true
   },
   "outputs": [],
   "source": [
    "#SOL"
   ]
  },
  {
   "cell_type": "code",
   "execution_count": 4,
   "metadata": {},
   "outputs": [],
   "source": [
    "#SOL"
   ]
  },
  {
   "cell_type": "markdown",
   "metadata": {},
   "source": [
    "<div class=\"alert alert-block alert-info\">\n",
    "    <b>PopGen:</b>\n",
    "    \n",
    "Since each successive tree in the tree sequence is separated from its neighbours to the left and right by a single recombination breakpoint, we might expect that the average number of trees in a tree sequence is equal to the expected number of recombination breakpoints $E[R]+1$.\n",
    "\n",
    "The expected number of recombination events can be derived using the total tree length under the standard coalescent using the same logic we've used to derive $E[S]$, the expected number of mutations (see mini lectures 2 and 3)!\n",
    "    </div>"
   ]
  },
  {
   "cell_type": "markdown",
   "metadata": {},
   "source": [
    "<div class=\"alert alert-block alert-success\">    \n",
    "    <b>Exercise 4:</b> What is the expected number of recombination events for the case you have simulated above?\n",
    "    \n",
    "**Hint:** Work out the population scaled recombination rate $\\rho_L = 4 N_e r \\times L$. Analogous to $\\theta$, this can be interpreted as the expected number of recombination events in a sample of $n=2$.\n",
    "    </div>"
   ]
  },
  {
   "cell_type": "code",
   "execution_count": 5,
   "metadata": {},
   "outputs": [],
   "source": [
    "#SOL"
   ]
  },
  {
   "cell_type": "markdown",
   "metadata": {},
   "source": [
    "<div class=\"alert alert-block alert-success\">    \n",
    "    <b>Exercise 5: </b> What is the expected number of recombination events for the case you have simulated above? \n",
    "    </div>"
   ]
  },
  {
   "cell_type": "code",
   "execution_count": 6,
   "metadata": {
    "scrolled": true
   },
   "outputs": [],
   "source": [
    "#SOL"
   ]
  },
  {
   "cell_type": "markdown",
   "metadata": {},
   "source": [
    "<div class=\"alert alert-block alert-success\">    \n",
    "    <b>Exercise 6: </b> How does this expectation compare to the number of trees in a 50 kb stretch of sequence? Use the code below to simulate 100 replicate treesequences for the same  <i>D. melanogaster </i> parameters. Check the minimum and maximum number of trees and plot the distribution of the number of trees across sim replicates using <a href=\"https://seaborn.pydata.org/tutorial/distributions.html\"><code>displot</code></a> \n",
    "        </div>"
   ]
  },
  {
   "cell_type": "code",
   "execution_count": 17,
   "metadata": {},
   "outputs": [],
   "source": [
    "num_replicates = 100\n",
    "tree_count = np.zeros(num_replicates)\n",
    "repl_ts = msprime.sim_ancestry(3, population_size = 1_000_000,\n",
    "                              recombination_rate = r_dmel/2,\n",
    "                              sequence_length = 50_000, num_replicates = num_replicates, random_seed = 87)\n",
    "for repl_index, ts in enumerate(repl_ts):\n",
    "    tree_count[repl_index] = ts.num_trees"
   ]
  },
  {
   "cell_type": "code",
   "execution_count": 7,
   "metadata": {},
   "outputs": [],
   "source": [
    "#SOL"
   ]
  },
  {
   "cell_type": "code",
   "execution_count": 8,
   "metadata": {},
   "outputs": [],
   "source": [
    "#SOL"
   ]
  },
  {
   "cell_type": "markdown",
   "metadata": {},
   "source": [
    "<div class=\"alert alert-block alert-success\">    \n",
    "    <b>Exercise 7:</b> What is the distribution of sequence lengths trees span in your 50kb stretch of neutrally evolving <i>D. melanogaster </i> sequence? Record the span of each tree as a <code>np.array</code> and plot the distribution of spans using <a href=\"https://seaborn.pydata.org/tutorial/distributions.html\"><code>displot</code></a>\n",
    "\n",
    "**Hint:** You need to set up a <code>for</code> loop to iterate over all trees in the ts. To do this, use the <a href=\"https://tskit.dev/tskit/docs/stable/python-api.html#tskit.TreeSequence.trees\"><code>trees()</code></a> method, which returns an iterator over the trees in a tree sequence.\n",
    "    </div>"
   ]
  },
  {
   "cell_type": "code",
   "execution_count": 9,
   "metadata": {},
   "outputs": [],
   "source": [
    "#SOL"
   ]
  },
  {
   "cell_type": "code",
   "execution_count": 11,
   "metadata": {},
   "outputs": [],
   "source": [
    "#SOL\n",
    "\n",
    "# control x and y limits\n",
    "#plt.ylim(0, None)\n",
    "#plt.xlim(0, 150)\n",
    "#plt.show()"
   ]
  },
  {
   "cell_type": "markdown",
   "metadata": {},
   "source": [
    "<div class=\"alert alert-block alert-success\">    \n",
    "    <b>Exercise 7:</b> Record the $t_{mrca}$ of each tree (see practical 1!). What is the mean $t_{mrca}$ across trees? What are the units? How well does this agree with the analytic expectation $E[t_{mrca}]$ for this sample?\n",
    "    </div>"
   ]
  },
  {
   "cell_type": "code",
   "execution_count": 22,
   "metadata": {},
   "outputs": [],
   "source": [
    "#SOL"
   ]
  },
  {
   "cell_type": "code",
   "execution_count": 12,
   "metadata": {},
   "outputs": [],
   "source": [
    "#SOL"
   ]
  },
  {
   "cell_type": "markdown",
   "metadata": {},
   "source": [
    "<div class=\"alert alert-block alert-success\">    \n",
    "    <b>Exercise 8:</b> What is the relationship between tree span and tree depth, i.e. the $t_{mrca}$?\n",
    "\n",
    "**Hint:** A useful seaborn plot for this purpose is [regplot](https://seaborn.pydata.org/tutorial/regression.html#functions-to-draw-linear-regression-models)\n",
    "    </div>"
   ]
  },
  {
   "cell_type": "code",
   "execution_count": 18,
   "metadata": {},
   "outputs": [
    {
     "data": {
      "image/png": "[encoded data removed]",
      "text/plain": [
       "<Figure size 720x720 with 1 Axes>"
      ]
     },
     "metadata": {},
     "output_type": "display_data"
    }
   ],
   "source": [
    "#SOL"
   ]
  },
  {
   "cell_type": "markdown",
   "metadata": {},
   "source": [
    "<div class=\"alert alert-block alert-success\">    \n",
    "    <b>Exercise 9:</b> Can you use the spans of trees to find the correct mean $t_{mrca}$ for your treesequence?\n",
    "    </div>"
   ]
  },
  {
   "cell_type": "code",
   "execution_count": 13,
   "metadata": {},
   "outputs": [],
   "source": [
    "#SOL"
   ]
  },
  {
   "cell_type": "markdown",
   "metadata": {},
   "source": [
    "<div class=\"alert alert-block alert-success\">    \n",
    "    <b>Exercise 10 (optional):</b> If you have time, check out the span of edges in the tree sequence. What is the relationship between the mean span of edges and the tree span?\n",
    "    </div>"
   ]
  },
  {
   "cell_type": "code",
   "execution_count": 20,
   "metadata": {},
   "outputs": [
    {
     "data": {
      "text/plain": [
       "62.61740763932373"
      ]
     },
     "execution_count": 20,
     "metadata": {},
     "output_type": "execute_result"
    }
   ],
   "source": [
    "#Maybe this is too much.... but best to leave in for keen students\n",
    "#SOL Need to add a hint to the question:\n",
    "edgespan =dmel_ts.tables.edges.right - dmel_ts.tables.edges.left\n",
    "edgespan.mean()"
   ]
  },
  {
   "cell_type": "code",
   "execution_count": 22,
   "metadata": {},
   "outputs": [
    {
     "data": {
      "text/plain": [
       "3.397620538509705"
      ]
     },
     "execution_count": 22,
     "metadata": {},
     "output_type": "execute_result"
    }
   ],
   "source": [
    "#SOL: the mean span of edges is > 3 times that of trees \n",
    "edgespan.mean()/span_list.mean()"
   ]
  },
  {
   "cell_type": "code",
   "execution_count": 23,
   "metadata": {},
   "outputs": [
    {
     "data": {
      "image/png": "[encoded data removed]",
      "text/plain": [
       "<Figure size 360x360 with 1 Axes>"
      ]
     },
     "metadata": {},
     "output_type": "display_data"
    }
   ],
   "source": [
    "#SOL\n",
    "#It would be nice to plot these two hists on top of one another!\n",
    "sns.displot(x = edgespan, stat=\"density\", label='span of edges', binwidth = 3)\n",
    "#plt.show()\n",
    "plt.ylim(0, None)\n",
    "plt.xlim(0, 150)\n",
    "plt.show()"
   ]
  },
  {
   "cell_type": "markdown",
   "metadata": {},
   "source": [
    "# 3.2 From treesequences to haplotypes\n",
    "While a tree sequence records the exact correlation in ancestry along a genome, when analysing real data we generally do NOT know the underlying tree sequence. Measures of LD are generally based on mutations."
   ]
  },
  {
   "cell_type": "markdown",
   "metadata": {},
   "source": [
    "<div class=\"alert alert-block alert-success\">    \n",
    "    <b>Exercise 11:</b> Sprinkle mutations on your <i>D. melanogaster</i> treesequence simulation according to the rate estimated by Keightley et al (2009). How many mutations are there on average per tree in this ts?\n",
    "\n",
    "**Hint:** set <code>discrete_genome = False</code> and <code>random_seed = 54</code>.\n",
    "    </div>"
   ]
  },
  {
   "cell_type": "code",
   "execution_count": 14,
   "metadata": {},
   "outputs": [],
   "source": [
    "#SOL"
   ]
  },
  {
   "cell_type": "code",
   "execution_count": 15,
   "metadata": {},
   "outputs": [],
   "source": [
    "#SOL"
   ]
  },
  {
   "cell_type": "markdown",
   "metadata": {},
   "source": [
    "<div class=\"alert alert-block alert-success\">    \n",
    "    <b>Exercise 12:</b> Check out the region 300-500 bases in the tree sequence. What mutations can you see? Would mutations 18 and 19 be compatible with the same tree? What about 13 and 19? Does either pair of loci fail the 4-gamete test (see mini lecture 3)?\n",
    "\n",
    "<b>Hint:</b> use <code>.draw_svg(x_lim = [300,500])</code>"
   ]
  },
  {
   "cell_type": "code",
   "execution_count": 16,
   "metadata": {},
   "outputs": [],
   "source": [
    "#SOL"
   ]
  },
  {
   "cell_type": "markdown",
   "metadata": {},
   "source": [
    "<div class=\"alert alert-block alert-warning\">\n",
    "    <b>Python recipe:</b> Once you have assigned the <i>D. melanogaster</i> ts (with mutations!) to a new variable, say <code>dmel_ts_muts</code>, you can store the haplotype alignment as an <code>np.array</code>:\n",
    "    </div>"
   ]
  },
  {
   "cell_type": "code",
   "execution_count": null,
   "metadata": {},
   "outputs": [],
   "source": [
    "dmel_array = np.zeros((dmel_ts_muts.num_sites, dmel_ts_muts.num_samples))\n",
    "for var_index, var in enumerate(dmel_ts_muts.variants()):\n",
    "    dmel_array[var_index] = var.genotypes"
   ]
  },
  {
   "cell_type": "markdown",
   "metadata": {},
   "source": [
    "e.g. mutation 13 is shared by samples 3 and 5; mutation 19 is sharred by all samples apart from 5: "
   ]
  },
  {
   "cell_type": "code",
   "execution_count": 31,
   "metadata": {},
   "outputs": [
    {
     "data": {
      "text/plain": [
       "array([0., 0., 0., 1., 0., 1.])"
      ]
     },
     "execution_count": 31,
     "metadata": {},
     "output_type": "execute_result"
    }
   ],
   "source": [
    "dmel_array[13]"
   ]
  },
  {
   "cell_type": "code",
   "execution_count": 29,
   "metadata": {},
   "outputs": [
    {
     "data": {
      "text/plain": [
       "array([1., 1., 1., 1., 1., 0.])"
      ]
     },
     "execution_count": 29,
     "metadata": {},
     "output_type": "execute_result"
    }
   ],
   "source": [
    "dmel_array[19]"
   ]
  },
  {
   "cell_type": "markdown",
   "metadata": {},
   "source": [
    "<div class=\"alert alert-block alert-success\">    \n",
    "    <b>Exercise 13:</b> Tweak the above code to simulate a sample of 50kb of sequence sampled for three modern humans. Assume a recombination rate of 1.2 cM/Mb. Compare the <i>D. melanogaster</i> and <i>Homo</i> simulations using the summary table of the ts. How do toy treesequences for the two taxa differ?\n",
    "    <div/>"
   ]
  },
  {
   "cell_type": "code",
   "execution_count": 18,
   "metadata": {},
   "outputs": [],
   "source": [
    "#SOL"
   ]
  },
  {
   "cell_type": "code",
   "execution_count": 19,
   "metadata": {},
   "outputs": [],
   "source": [
    "#SOL"
   ]
  },
  {
   "cell_type": "code",
   "execution_count": null,
   "metadata": {},
   "outputs": [],
   "source": []
  },
  {
   "cell_type": "markdown",
   "metadata": {},
   "source": [
    "<div class=\"alert alert-block alert-success\">    \n",
    "    <b>Exercise 14:</b> Define the GT array for the <i>Homo</i> simulation as a new variable. Use the function below (which I borrowed from <a href=\"http://alimanfoo.github.io/2017/02/14/mendelian-transmission.html\">A Miles</a>) to plot the <i>Homo</i> and the <i>D. melanogaster</i> alignment! Is it possible to see any treesequence structure in these haplotypes?\n",
    "    </div>"
   ]
  },
  {
   "cell_type": "code",
   "execution_count": 27,
   "metadata": {},
   "outputs": [
    {
     "data": {
      "image/png": "[encoded data removed]",
      "text/plain": [
       "<Figure size 720x72 with 1 Axes>"
      ]
     },
     "metadata": {
      "needs_background": "light"
     },
     "output_type": "display_data"
    }
   ],
   "source": [
    "#This creates a colour palette\n",
    "palette = sns.color_palette('colorblind')\n",
    "sns.palplot(palette)"
   ]
  },
  {
   "cell_type": "code",
   "execution_count": 28,
   "metadata": {},
   "outputs": [],
   "source": [
    "def plot_sequence(painting, title=None):\n",
    "    # set figure height depending on number of haplotypes\n",
    "    fig, ax = plt.subplots(figsize=(20, .4 * painting.shape[1]))\n",
    "    \n",
    "    # map painting codes onto colours\n",
    "    cmap = mpl.colors.ListedColormap([\n",
    "        palette[0],  # 0 = an\n",
    "        palette[3],  # 1 = allele inherited from first parental haplotype\n",
    "    ])\n",
    "    # plot painting\n",
    "    ax.pcolormesh(painting.T, cmap=cmap, vmin=0, vmax=1)\n",
    "    # tidy up axes\n",
    "    ax.set_yticks(np.arange(painting.shape[1]) + .5)\n",
    "    ax.set_yticklabels(range(painting.shape[1]))\n",
    "    ax.set_ylabel('Sample haplotypes')\n",
    "    ax.set_xlabel('Variants')\n",
    "    if title:\n",
    "        ax.set_title(title)"
   ]
  },
  {
   "cell_type": "code",
   "execution_count": null,
   "metadata": {},
   "outputs": [],
   "source": [
    "homo_array = np.zeros((homo_ts_muts.num_sites, homo_ts_muts.num_samples))\n",
    "for var_index, var in enumerate(homo_ts_muts.variants()):\n",
    "    homo_array[var_index] = var.genotypes\n",
    "plot_sequence(homo_array)"
   ]
  },
  {
   "cell_type": "code",
   "execution_count": null,
   "metadata": {},
   "outputs": [],
   "source": [
    "#SOL: Many more mutations, less obvious ts structure\n",
    "plot_sequence(dmel_array)"
   ]
  },
  {
   "cell_type": "code",
   "execution_count": null,
   "metadata": {},
   "outputs": [],
   "source": [
    "#SOL: ... less obvious ts structure even when we zoom in:\n",
    "plot_sequence(dmel_array[:homo_ts_muts.num_sites])"
   ]
  },
  {
   "cell_type": "markdown",
   "metadata": {},
   "source": [
    "# 3. 3 Pairwise measures of LD"
   ]
  },
  {
   "cell_type": "markdown",
   "metadata": {},
   "source": [
    "<div class=\"alert alert-block alert-info\">\n",
    "    <b>PopGen:</b>\n",
    "Since we generally cannot directly observe the tree sequence underlying a real samples of genomes, measures of LD are generally based on mutations. In the simplest case, we can measure the correlation between a pair of loci using the correlation coefficient:\n",
    "\n",
    "$r^2$ <a href= \"https://en.wikipedia.org/wiki/Linkage_disequilibrium\">(Hill \\& Robertson 1968)</a>\n",
    "    </div>"
   ]
  },
  {
   "cell_type": "markdown",
   "metadata": {},
   "source": [
    "<div class=\"alert alert-block alert-success\">    \n",
    "    <b>Exercise 15:</b> Calculate $r^2$ between the two pairs of mutations you've considered before, i.e. 13 and  19 in the <i>D. melanogaster</i> ts?\n",
    "    </div>"
   ]
  },
  {
   "cell_type": "code",
   "execution_count": 31,
   "metadata": {},
   "outputs": [],
   "source": [
    "#SOL"
   ]
  },
  {
   "cell_type": "markdown",
   "metadata": {},
   "source": [
    "<div class=\"alert alert-block alert-warning\">\n",
    "    <b>Python recipe:</b> We can use <code>LdCalculator()</code> to compute pairwise measures of LD such as $r^2$:\n",
    "    </div>"
   ]
  },
  {
   "cell_type": "code",
   "execution_count": 36,
   "metadata": {},
   "outputs": [
    {
     "data": {
      "text/plain": [
       "0.24999999999999992"
      ]
     },
     "execution_count": 36,
     "metadata": {},
     "output_type": "execute_result"
    }
   ],
   "source": [
    "ld_calc = tskit.LdCalculator(dmel_ts_muts)\n",
    "ld_calc.r2(0, 1)"
   ]
  },
  {
   "cell_type": "markdown",
   "metadata": {},
   "source": [
    "<div class=\"alert alert-block alert-success\">    \n",
    "    <b>Exercise 16:</b> Does <code>r2()</code> give the same answer as your calculation above?\n",
    "    </div>"
   ]
  },
  {
   "cell_type": "code",
   "execution_count": 20,
   "metadata": {},
   "outputs": [],
   "source": [
    "#SOL"
   ]
  },
  {
   "cell_type": "markdown",
   "metadata": {},
   "source": [
    "<div class=\"alert alert-block alert-warning\">\n",
    "    <b>Python recipe:</b> We can use <code>LdCalculator()</code> to efficiently compute pairwise matrix of $r^2$ values:\n",
    "    </div>"
   ]
  },
  {
   "cell_type": "code",
   "execution_count": null,
   "metadata": {},
   "outputs": [],
   "source": [
    "dmel_ld_calc = tskit.LdCalculator(dmel_ts_muts)\n",
    "dmel_A = ld_calc.r2_matrix()\n",
    "\n",
    "# Now plot this matrix:\n",
    "x = dmel_A.shape[0] / plt.rcParams[\"figure.dpi\"]\n",
    "x = max(x, plt.rcParams[\"figure.figsize\"][0])\n",
    "fig, ax = plt.subplots(figsize=(x, x))\n",
    "fig.tight_layout(pad=0)\n",
    "im = ax.imshow(dmel_A, interpolation=\"none\", vmin=0, vmax=1, cmap=\"Blues\")\n",
    "ax.set_xticks([])\n",
    "ax.set_yticks([])\n",
    "for s in \"top\", \"bottom\", \"left\", \"right\":\n",
    "    ax.spines[s].set_visible(False)\n",
    "plt.gcf().colorbar(im, shrink=0.5, pad=0)\n",
    "plt.savefig(\"ld.svg\")"
   ]
  },
  {
   "cell_type": "markdown",
   "metadata": {},
   "source": [
    "<div class=\"alert alert-block alert-success\">    \n",
    "    <b>Exercise 17:</b> Use this code to plot the matrix of $r^2$ values for the <i>Homo</i> simulation. How does this differ?\n",
    "    </div>"
   ]
  },
  {
   "cell_type": "code",
   "execution_count": null,
   "metadata": {},
   "outputs": [],
   "source": [
    "homo_ld_calc = tskit.LdCalculator(homo_ts_muts)\n",
    "homo_A = homo_ld_calc.r2_matrix()\n",
    "\n",
    "# Now plot this matrix:\n",
    "x = homo_A.shape[0] / plt.rcParams[\"figure.dpi\"]\n",
    "x = max(x, plt.rcParams[\"figure.figsize\"][0])\n",
    "fig, ax = plt.subplots(figsize=(x, x))\n",
    "fig.tight_layout(pad=0)\n",
    "im = ax.imshow(homo_A, interpolation=\"none\", vmin=0, vmax=1, cmap=\"Blues\")\n",
    "ax.set_xticks([])\n",
    "ax.set_yticks([])\n",
    "for s in \"top\", \"bottom\", \"left\", \"right\":\n",
    "    ax.spines[s].set_visible(False)\n",
    "plt.gcf().colorbar(im, shrink=0.5, pad=0)\n",
    "plt.savefig(\"ld.svg\")"
   ]
  },
  {
   "cell_type": "markdown",
   "metadata": {},
   "source": [
    "<div class=\"alert alert-block alert-info\">\n",
    "    <b>PopGen: Visualizing the decay of LD</b> \n",
    "\n",
    "When analyzing WGS data we are often interested in how quickly LD decays with physical distance. We can think about this decay both in terms of the correlations between trees and pairwise summaries.\n",
    "\n",
    "Note that arguments about LD decay are often used to justify treating SNPs (or loci) that are more than some threshold distance apart as unlinked. While this is standard practice in the field (for a lack of better alternative), it is **WRONG!**\n",
    "    </div>"
   ]
  },
  {
   "cell_type": "markdown",
   "metadata": {},
   "source": [
    "The code chunk below bins the $r^2$ values in the matrix <code>dmel_A</code> we've defined above by the physical distance between loci:"
   ]
  },
  {
   "cell_type": "code",
   "execution_count": 42,
   "metadata": {},
   "outputs": [],
   "source": [
    "# Extract the list of SNP positions from the ts sites table\n",
    "pos = dmel_ts_muts.tables.sites.position\n",
    "# Set up a matrix of distances for all pairs of SNPs\n",
    "pos_i, pos_j = np.meshgrid(pos, pos)\n",
    "distance_ij = abs(pos_i-pos_j)\n",
    "# Define a new array which has distance and r^2 as separate columns\n",
    "dis_r2_arr = np.column_stack((distance_ij.flatten(), dmel_A.flatten()))\n",
    "# Sort based on the distance column and remove the first len(pos) entries. These are the diagnoal elements\n",
    "# which by definition have distance 0 and r^2=1\n",
    "dis_r2_arr_srtd = dis_r2_arr[np.argsort(dis_r2_arr[:, 0])][len(pos):]\n",
    "# Defining bins of 5 bases\n",
    "dis_bins = np.arange(0,1_000,5)\n",
    "# Binning by distance\n",
    "dis_binned = dis_bins.searchsorted(dis_r2_arr_srtd[:,0])\n",
    "bin_means_r2 = (np.bincount(dis_binned, weights=dis_r2_arr_srtd[:,1]) /\n",
    "             np.bincount(dis_binned, minlength=10))"
   ]
  },
  {
   "cell_type": "markdown",
   "metadata": {},
   "source": [
    "<div class=\"alert alert-block alert-success\">    \n",
    "    <b>Exercise 18:</b> Plot the mean LD (as measured by r^2) for each distance bin (<code>bin_means_r2</code>) against distance <code>dis_binned</code>! #\n",
    "\n",
    "How does LD decay in <i>D. melanogaster</i> and differ from that in <i>Homo</i>? What is the half-distance of LD? What is the background level of LD?\n",
    "    </div>"
   ]
  },
  {
   "cell_type": "code",
   "execution_count": null,
   "metadata": {},
   "outputs": [],
   "source": [
    "#SOL (leave this plotting code!) We can see that in D. melanogaster LD roughly halves over the first 200 bases.... \n",
    "fig, ax = plt.subplots(figsize=(8,8))\n",
    "sns.lineplot(dis_bins, bin_means_r2[:-1], label='The decay of LD')\n",
    "plt.xlabel('Mb')\n",
    "plt.ylabel('r^2')\n",
    "plt.show()"
   ]
  },
  {
   "cell_type": "code",
   "execution_count": 110,
   "metadata": {},
   "outputs": [],
   "source": [
    "#SOL: the Homo sequence is too short!  \n",
    "pos = homo_ts_muts.tables.sites.position\n",
    "# Set up a matrix of distances for all pairs of SNPs\n",
    "pos_i, pos_j = np.meshgrid(pos, pos)\n",
    "distance_ij = abs(pos_i-pos_j)\n",
    "# Define a new array which has distance and r^2 as separate columns\n",
    "dis_r2_arr = np.column_stack((distance_ij.flatten(), homo_A.flatten()))\n",
    "# Sort based on the distance column and remove the first len(pos) entries. These are the diagnoal elements\n",
    "# which by definition have distance 0 and r^2=1\n",
    "dis_r2_arr_srtd = dis_r2_arr[np.argsort(dis_r2_arr[:, 0])][len(pos):]\n",
    "# Defining bins of 5 bases\n",
    "dis_bins = np.arange(0,1_000,5)\n",
    "# Binning by distance\n",
    "dis_binned = dis_bins.searchsorted(dis_r2_arr_srtd[:,0])\n",
    "bin_means_r2 = (np.bincount(dis_binned, weights=dis_r2_arr_srtd[:,1]) /\n",
    "             np.bincount(dis_binned, minlength=10))"
   ]
  },
  {
   "cell_type": "code",
   "execution_count": null,
   "metadata": {},
   "outputs": [],
   "source": [
    "#SOL (leave this plotting code!) We can see that in D. melanogaster LD roughly halves over the first 200 bases.... \n",
    "fig, ax = plt.subplots(figsize=(8,8))\n",
    "sns.lineplot(dis_bins, bin_means_r2[:-1], label='The decay of LD')\n",
    "plt.xlabel('Mb')\n",
    "plt.ylabel('r^2')\n",
    "plt.show()"
   ]
  },
  {
   "cell_type": "markdown",
   "metadata": {},
   "source": [
    "<div class=\"alert alert-block alert-success\">    \n",
    "    <b>Exercise 19 (optional):</b> How do you expect the LD structure for the <i>D. melanogaster</i> simulation to change when you include the bottleneck demography we've fitted in practical 2? Check this if you have time!\n",
    "    </div>"
   ]
  }
 ],
 "metadata": {
  "kernelspec": {
   "display_name": "Python 3",
   "language": "python",
   "name": "python3"
  },
  "language_info": {
   "codemirror_mode": {
    "name": "ipython",
    "version": 3
   },
   "file_extension": ".py",
   "mimetype": "text/x-python",
   "name": "python",
   "nbconvert_exporter": "python",
   "pygments_lexer": "ipython3",
   "version": "3.8.3"
  }
 },
 "nbformat": 4,
 "nbformat_minor": 2
}
